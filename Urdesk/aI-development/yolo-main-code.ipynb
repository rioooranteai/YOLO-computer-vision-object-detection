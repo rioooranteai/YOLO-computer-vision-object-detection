{
  "nbformat": 4,
  "nbformat_minor": 0,
  "metadata": {
    "colab": {
      "provenance": [],
      "gpuType": "T4"
    },
    "kernelspec": {
      "name": "python3",
      "display_name": "Python 3"
    },
    "language_info": {
      "name": "python"
    },
    "accelerator": "GPU"
  },
  "cells": [
    {
      "cell_type": "code",
      "execution_count": null,
      "metadata": {
        "colab": {
          "base_uri": "https://localhost:8080/"
        },
        "collapsed": true,
        "id": "_pzZNBYx-Kw4",
        "outputId": "0a26ccbd-da20-4b0e-b2f3-bc2bb44d2b89"
      },
      "outputs": [
        {
          "output_type": "stream",
          "name": "stdout",
          "text": [
            "Collecting ultralytics\n",
            "  Downloading ultralytics-8.2.82-py3-none-any.whl.metadata (41 kB)\n",
            "\u001b[?25l     \u001b[90m━━━━━━━━━━━━━━━━━━━━━━━━━━━━━━━━━━━━━━━━\u001b[0m \u001b[32m0.0/41.3 kB\u001b[0m \u001b[31m?\u001b[0m eta \u001b[36m-:--:--\u001b[0m\r\u001b[2K     \u001b[90m━━━━━━━━━━━━━━━━━━━━━━━━━━━━━━━━━━━━━━━━\u001b[0m \u001b[32m41.3/41.3 kB\u001b[0m \u001b[31m2.8 MB/s\u001b[0m eta \u001b[36m0:00:00\u001b[0m\n",
            "\u001b[?25hRequirement already satisfied: numpy<2.0.0,>=1.23.0 in /usr/local/lib/python3.10/dist-packages (from ultralytics) (1.26.4)\n",
            "Requirement already satisfied: matplotlib>=3.3.0 in /usr/local/lib/python3.10/dist-packages (from ultralytics) (3.7.1)\n",
            "Requirement already satisfied: opencv-python>=4.6.0 in /usr/local/lib/python3.10/dist-packages (from ultralytics) (4.10.0.84)\n",
            "Requirement already satisfied: pillow>=7.1.2 in /usr/local/lib/python3.10/dist-packages (from ultralytics) (9.4.0)\n",
            "Requirement already satisfied: pyyaml>=5.3.1 in /usr/local/lib/python3.10/dist-packages (from ultralytics) (6.0.2)\n",
            "Requirement already satisfied: requests>=2.23.0 in /usr/local/lib/python3.10/dist-packages (from ultralytics) (2.32.3)\n",
            "Requirement already satisfied: scipy>=1.4.1 in /usr/local/lib/python3.10/dist-packages (from ultralytics) (1.13.1)\n",
            "Requirement already satisfied: torch>=1.8.0 in /usr/local/lib/python3.10/dist-packages (from ultralytics) (2.4.0+cu121)\n",
            "Requirement already satisfied: torchvision>=0.9.0 in /usr/local/lib/python3.10/dist-packages (from ultralytics) (0.19.0+cu121)\n",
            "Requirement already satisfied: tqdm>=4.64.0 in /usr/local/lib/python3.10/dist-packages (from ultralytics) (4.66.5)\n",
            "Requirement already satisfied: psutil in /usr/local/lib/python3.10/dist-packages (from ultralytics) (5.9.5)\n",
            "Requirement already satisfied: py-cpuinfo in /usr/local/lib/python3.10/dist-packages (from ultralytics) (9.0.0)\n",
            "Requirement already satisfied: pandas>=1.1.4 in /usr/local/lib/python3.10/dist-packages (from ultralytics) (2.1.4)\n",
            "Requirement already satisfied: seaborn>=0.11.0 in /usr/local/lib/python3.10/dist-packages (from ultralytics) (0.13.1)\n",
            "Collecting ultralytics-thop>=2.0.0 (from ultralytics)\n",
            "  Downloading ultralytics_thop-2.0.5-py3-none-any.whl.metadata (8.9 kB)\n",
            "Requirement already satisfied: contourpy>=1.0.1 in /usr/local/lib/python3.10/dist-packages (from matplotlib>=3.3.0->ultralytics) (1.2.1)\n",
            "Requirement already satisfied: cycler>=0.10 in /usr/local/lib/python3.10/dist-packages (from matplotlib>=3.3.0->ultralytics) (0.12.1)\n",
            "Requirement already satisfied: fonttools>=4.22.0 in /usr/local/lib/python3.10/dist-packages (from matplotlib>=3.3.0->ultralytics) (4.53.1)\n",
            "Requirement already satisfied: kiwisolver>=1.0.1 in /usr/local/lib/python3.10/dist-packages (from matplotlib>=3.3.0->ultralytics) (1.4.5)\n",
            "Requirement already satisfied: packaging>=20.0 in /usr/local/lib/python3.10/dist-packages (from matplotlib>=3.3.0->ultralytics) (24.1)\n",
            "Requirement already satisfied: pyparsing>=2.3.1 in /usr/local/lib/python3.10/dist-packages (from matplotlib>=3.3.0->ultralytics) (3.1.4)\n",
            "Requirement already satisfied: python-dateutil>=2.7 in /usr/local/lib/python3.10/dist-packages (from matplotlib>=3.3.0->ultralytics) (2.8.2)\n",
            "Requirement already satisfied: pytz>=2020.1 in /usr/local/lib/python3.10/dist-packages (from pandas>=1.1.4->ultralytics) (2024.1)\n",
            "Requirement already satisfied: tzdata>=2022.1 in /usr/local/lib/python3.10/dist-packages (from pandas>=1.1.4->ultralytics) (2024.1)\n",
            "Requirement already satisfied: charset-normalizer<4,>=2 in /usr/local/lib/python3.10/dist-packages (from requests>=2.23.0->ultralytics) (3.3.2)\n",
            "Requirement already satisfied: idna<4,>=2.5 in /usr/local/lib/python3.10/dist-packages (from requests>=2.23.0->ultralytics) (3.8)\n",
            "Requirement already satisfied: urllib3<3,>=1.21.1 in /usr/local/lib/python3.10/dist-packages (from requests>=2.23.0->ultralytics) (2.0.7)\n",
            "Requirement already satisfied: certifi>=2017.4.17 in /usr/local/lib/python3.10/dist-packages (from requests>=2.23.0->ultralytics) (2024.7.4)\n",
            "Requirement already satisfied: filelock in /usr/local/lib/python3.10/dist-packages (from torch>=1.8.0->ultralytics) (3.15.4)\n",
            "Requirement already satisfied: typing-extensions>=4.8.0 in /usr/local/lib/python3.10/dist-packages (from torch>=1.8.0->ultralytics) (4.12.2)\n",
            "Requirement already satisfied: sympy in /usr/local/lib/python3.10/dist-packages (from torch>=1.8.0->ultralytics) (1.13.2)\n",
            "Requirement already satisfied: networkx in /usr/local/lib/python3.10/dist-packages (from torch>=1.8.0->ultralytics) (3.3)\n",
            "Requirement already satisfied: jinja2 in /usr/local/lib/python3.10/dist-packages (from torch>=1.8.0->ultralytics) (3.1.4)\n",
            "Requirement already satisfied: fsspec in /usr/local/lib/python3.10/dist-packages (from torch>=1.8.0->ultralytics) (2024.6.1)\n",
            "Requirement already satisfied: six>=1.5 in /usr/local/lib/python3.10/dist-packages (from python-dateutil>=2.7->matplotlib>=3.3.0->ultralytics) (1.16.0)\n",
            "Requirement already satisfied: MarkupSafe>=2.0 in /usr/local/lib/python3.10/dist-packages (from jinja2->torch>=1.8.0->ultralytics) (2.1.5)\n",
            "Requirement already satisfied: mpmath<1.4,>=1.1.0 in /usr/local/lib/python3.10/dist-packages (from sympy->torch>=1.8.0->ultralytics) (1.3.0)\n",
            "Downloading ultralytics-8.2.82-py3-none-any.whl (871 kB)\n",
            "\u001b[2K   \u001b[90m━━━━━━━━━━━━━━━━━━━━━━━━━━━━━━━━━━━━━━━━\u001b[0m \u001b[32m871.1/871.1 kB\u001b[0m \u001b[31m24.5 MB/s\u001b[0m eta \u001b[36m0:00:00\u001b[0m\n",
            "\u001b[?25hDownloading ultralytics_thop-2.0.5-py3-none-any.whl (25 kB)\n",
            "Installing collected packages: ultralytics-thop, ultralytics\n",
            "Successfully installed ultralytics-8.2.82 ultralytics-thop-2.0.5\n"
          ]
        }
      ],
      "source": [
        "!pip install ultralytics"
      ]
    },
    {
      "cell_type": "code",
      "source": [
        "!unzip /content/YOLOv8Dataset.zip -d /content/"
      ],
      "metadata": {
        "colab": {
          "base_uri": "https://localhost:8080/"
        },
        "collapsed": true,
        "id": "1zz8rWTTA4rn",
        "outputId": "50b206e9-70ea-48b9-ebd6-39a76f224881"
      },
      "execution_count": null,
      "outputs": [
        {
          "output_type": "stream",
          "name": "stdout",
          "text": [
            "Archive:  /content/YOLOv8Dataset.zip\n",
            "   creating: /content/YOLOv8Dataset/\n",
            "  inflating: /content/YOLOv8Dataset/dataset.yaml  \n",
            "   creating: /content/YOLOv8Dataset/train/\n",
            "   creating: /content/YOLOv8Dataset/train/images/\n",
            "  inflating: /content/YOLOv8Dataset/train/images/022ca22051f0077b1c4769519755a2b1.png  \n",
            "  inflating: /content/YOLOv8Dataset/train/images/023df158daadd39ae3534f607f195c09.png  \n",
            "  inflating: /content/YOLOv8Dataset/train/images/02b64d5ff9c1428cb1ad3f6902de1f86.png  \n",
            "  inflating: /content/YOLOv8Dataset/train/images/0351fcec6565e4ac60bf4d4fedad05e5.png  \n",
            "  inflating: /content/YOLOv8Dataset/train/images/0485013914d9d760a17029ab4b567445.png  \n",
            "  inflating: /content/YOLOv8Dataset/train/images/054224b73b74a2439472143f1cfb6a21.png  \n",
            "  inflating: /content/YOLOv8Dataset/train/images/055e8406fe8e86d428447462cbebafbf.png  \n",
            "  inflating: /content/YOLOv8Dataset/train/images/05e94499ea5e7ca62c5dc367b494ef9e.png  \n",
            "  inflating: /content/YOLOv8Dataset/train/images/065dc39ee0ce246579bcb51a04ff8418.png  \n",
            "  inflating: /content/YOLOv8Dataset/train/images/06cce8a7a7d2d416c5316ec4fd32860e.png  \n",
            "  inflating: /content/YOLOv8Dataset/train/images/072623bc2592b0e97f0223b3a429f53e.png  \n",
            "  inflating: /content/YOLOv8Dataset/train/images/073416828ae9eeabdbe65468f7a89555.png  \n",
            "  inflating: /content/YOLOv8Dataset/train/images/0776d7738274fe44e10249f6fa36729f.png  \n",
            "  inflating: /content/YOLOv8Dataset/train/images/077b9e2e26de595e49b14e6219f30b17.png  \n",
            "  inflating: /content/YOLOv8Dataset/train/images/0860364627c7131570459cee40d2632c.png  \n",
            "  inflating: /content/YOLOv8Dataset/train/images/09866d4ac1242d2c17c1ae289795e787.png  \n",
            "  inflating: /content/YOLOv8Dataset/train/images/0ac68ec547d9786c4b58082358e55559.png  \n",
            "  inflating: /content/YOLOv8Dataset/train/images/0b12684a44a489cb03ae003ce3d88c2b.png  \n",
            "  inflating: /content/YOLOv8Dataset/train/images/0b915de7b4ea619e0d477af04083c331.png  \n",
            "  inflating: /content/YOLOv8Dataset/train/images/0cf9e73a490d4e6d750df876254cbfb3.png  \n",
            "  inflating: /content/YOLOv8Dataset/train/images/0d25f7b3200190e22c5f2eee02225c96.png  \n",
            "  inflating: /content/YOLOv8Dataset/train/images/0effdbd4b6ca954c18cdbf82505770b4.png  \n",
            "  inflating: /content/YOLOv8Dataset/train/images/0f8c10f96fda8e0aae28880eb31599ad.png  \n",
            "  inflating: /content/YOLOv8Dataset/train/images/0f9033c66824149f496e3aa749e74537.png  \n",
            "  inflating: /content/YOLOv8Dataset/train/images/0fee67d8fe5b46ba03724daa91f55e01.png  \n",
            "  inflating: /content/YOLOv8Dataset/train/images/103048b3640bd77a6e366ecb97127ab7.png  \n",
            "  inflating: /content/YOLOv8Dataset/train/images/10f0db603aa9151affe00b6ff48c2b78.png  \n",
            "  inflating: /content/YOLOv8Dataset/train/images/123bab3426cf4a8e14a2b7794ae034f0.png  \n",
            "  inflating: /content/YOLOv8Dataset/train/images/1243955e067a8a19717c095a0b582a70.png  \n",
            "  inflating: /content/YOLOv8Dataset/train/images/12ba8f2f0df95e24762edd8fb165ad32.png  \n",
            "  inflating: /content/YOLOv8Dataset/train/images/12d81abbaf023e0eaf4635c66add192e.png  \n",
            "  inflating: /content/YOLOv8Dataset/train/images/12df1e3f0b0f48ac30eae4261f2c1adb.png  \n",
            "  inflating: /content/YOLOv8Dataset/train/images/138101149cfbf16e140f796146987595.png  \n",
            "  inflating: /content/YOLOv8Dataset/train/images/149998fa2d1b283ddc8ab5c637711968.png  \n",
            "  inflating: /content/YOLOv8Dataset/train/images/163aec59eb4d32d035e187eb1e0024af.png  \n",
            "  inflating: /content/YOLOv8Dataset/train/images/16e96a19db419c46aca5242ca881ba65.png  \n",
            "  inflating: /content/YOLOv8Dataset/train/images/1731675a64093bbb0edc83b0dd33e375.png  \n",
            "  inflating: /content/YOLOv8Dataset/train/images/1758a43e054b74f32a2067eb5da2680b.png  \n",
            "  inflating: /content/YOLOv8Dataset/train/images/175f07f37667df3f17bd1c0095a968e8.png  \n",
            "  inflating: /content/YOLOv8Dataset/train/images/17c15ffd0ea554661bf4437db11c70dd.png  \n",
            "  inflating: /content/YOLOv8Dataset/train/images/1a03c9be88939d5f25c7dfa5e58ffecb.png  \n",
            "  inflating: /content/YOLOv8Dataset/train/images/1b262bae57070bcaf8e67f2a361ef0f6.png  \n",
            "  inflating: /content/YOLOv8Dataset/train/images/1b8113b50a4611a9924a3b2aa6f990a4.png  \n",
            "  inflating: /content/YOLOv8Dataset/train/images/1c7994def85330227bc9dd140bd9ff2b.png  \n",
            "  inflating: /content/YOLOv8Dataset/train/images/1d0110cab351da189b6425b7eb5b75bf.png  \n",
            "  inflating: /content/YOLOv8Dataset/train/images/1d8afdb0a459052d515e35d21f6453e2.png  \n",
            "  inflating: /content/YOLOv8Dataset/train/images/1f9cde014e8bd5d40e490db72e0005e6.png  \n",
            "  inflating: /content/YOLOv8Dataset/train/images/1f9f2e306eed6dff0538ce60e7cb463a.png  \n",
            "  inflating: /content/YOLOv8Dataset/train/images/20568869eac574a96a8d5408f33ecbd6.png  \n",
            "  inflating: /content/YOLOv8Dataset/train/images/2060b0941339f251706bef0b0bc994bf.png  \n",
            "  inflating: /content/YOLOv8Dataset/train/images/2066732564aa1199848cbcdc440b3b4d.png  \n",
            "  inflating: /content/YOLOv8Dataset/train/images/21875893bc7b18e2646078e5916d75fb.png  \n",
            "  inflating: /content/YOLOv8Dataset/train/images/234b99833f0cb66835ee5f2b2f1d62e2.png  \n",
            "  inflating: /content/YOLOv8Dataset/train/images/23a6862ce20d0146f01652fe34e0732e.png  \n",
            "  inflating: /content/YOLOv8Dataset/train/images/23c8f9267c4afdb70f0f6349a3ebfcee.png  \n",
            "  inflating: /content/YOLOv8Dataset/train/images/24486f85f4c421e9b53476b8f022a7ad.png  \n",
            "  inflating: /content/YOLOv8Dataset/train/images/258205d874ed3392b1e22f5f1695596d.png  \n",
            "  inflating: /content/YOLOv8Dataset/train/images/26c9629044c97d6c073b04dd04828ec7.png  \n",
            "  inflating: /content/YOLOv8Dataset/train/images/26e8da31724bd1f72e470339276de378.png  \n",
            "  inflating: /content/YOLOv8Dataset/train/images/271e2485dc0996bea455ba6ce5e909ff.png  \n",
            "  inflating: /content/YOLOv8Dataset/train/images/2876adf8dd4cfc5f92a25b2799a40429.png  \n",
            "  inflating: /content/YOLOv8Dataset/train/images/296a78b70b024391055be671389ffc84.png  \n",
            "  inflating: /content/YOLOv8Dataset/train/images/2b674d85044c7e1fb34b33bcd14bd940.png  \n",
            "  inflating: /content/YOLOv8Dataset/train/images/2c386779693473a327a3ec73a85f3069.png  \n",
            "  inflating: /content/YOLOv8Dataset/train/images/2cfc967135553748b9ea55431ce8a42e.png  \n",
            "  inflating: /content/YOLOv8Dataset/train/images/2e427462c3c76d1a6b0e37558a4609ba.png  \n",
            "  inflating: /content/YOLOv8Dataset/train/images/3015e555ef0bdc53c26f05f94d8291c0.png  \n",
            "  inflating: /content/YOLOv8Dataset/train/images/3053ca485f5c5d9c2c580f1b2307476e.png  \n",
            "  inflating: /content/YOLOv8Dataset/train/images/30b2bf4bb228fcdb1b4768f9b32fab36.png  \n",
            "  inflating: /content/YOLOv8Dataset/train/images/324994584d35eda0e90e88112bf4c4a0.png  \n",
            "  inflating: /content/YOLOv8Dataset/train/images/328d51c928db4ef9ce8ebe56b918a93d.png  \n",
            "  inflating: /content/YOLOv8Dataset/train/images/32ed94aea505ada0800f27d26eb74979.png  \n",
            "  inflating: /content/YOLOv8Dataset/train/images/331658e5bf5950bc0465eb3edabdc465.png  \n",
            "  inflating: /content/YOLOv8Dataset/train/images/33b08b8e0cda0f889e7a01d50b054e3d.png  \n",
            "  inflating: /content/YOLOv8Dataset/train/images/34d0e5a53f0b7c27fda3b86c743b0ba2.png  \n",
            "  inflating: /content/YOLOv8Dataset/train/images/357cf8575957109cd8b67ecf3b2fa46b.png  \n",
            "  inflating: /content/YOLOv8Dataset/train/images/36421a19878833ded8cf975bdf6d7b83.png  \n",
            "  inflating: /content/YOLOv8Dataset/train/images/367eabf7e8b92f7b2f3c63c82c7af3f0.png  \n",
            "  inflating: /content/YOLOv8Dataset/train/images/3765d84b8e8e7c2de622dda34d87519a.png  \n",
            "  inflating: /content/YOLOv8Dataset/train/images/376913617f61f081f135877eee9074e8.png  \n",
            "  inflating: /content/YOLOv8Dataset/train/images/38c14a478f7d3450b139b57a18cd4e1b.png  \n",
            "  inflating: /content/YOLOv8Dataset/train/images/39156530b78d5af814b843df41d916c1.png  \n",
            "  inflating: /content/YOLOv8Dataset/train/images/39482ba1863691119db3cc318f329568.png  \n",
            "  inflating: /content/YOLOv8Dataset/train/images/3af0d5cf8515268dd6aff955e797af95.png  \n",
            "  inflating: /content/YOLOv8Dataset/train/images/3bbf13a85ab38a3c790bb1ef6854e548.png  \n",
            "  inflating: /content/YOLOv8Dataset/train/images/3d4907a7d4500077deec9dc7064a38ea.png  \n",
            "  inflating: /content/YOLOv8Dataset/train/images/3d4be5677daa97ea3ed24e0e34590956.png  \n",
            "  inflating: /content/YOLOv8Dataset/train/images/3d5d3c6ccf792d7aca6f2c07347e088d.png  \n",
            "  inflating: /content/YOLOv8Dataset/train/images/3de4b326926101936e9c3d70361ead4e.png  \n",
            "  inflating: /content/YOLOv8Dataset/train/images/3f539a30f7d2addec7c53aff710d5a4b.png  \n",
            "  inflating: /content/YOLOv8Dataset/train/images/3fec08cc321d6ee3de0054772ac1b38a.png  \n",
            "  inflating: /content/YOLOv8Dataset/train/images/41034a6fc2cf0ed947292a169fb06126.png  \n",
            "  inflating: /content/YOLOv8Dataset/train/images/41c9f9305407eddeac32f58a87aa4c59.png  \n",
            "  inflating: /content/YOLOv8Dataset/train/images/42a8c3675966ee30faede855e24b91f2.png  \n",
            "  inflating: /content/YOLOv8Dataset/train/images/42b2a3ab5fedb2ac9fbced770991565a.png  \n",
            "  inflating: /content/YOLOv8Dataset/train/images/42b41c9980a44467cff04edd0c917a51.png  \n",
            "  inflating: /content/YOLOv8Dataset/train/images/42d05d85a947944cb078a9607a1df9ea.png  \n",
            "  inflating: /content/YOLOv8Dataset/train/images/42efd5826acc0a11be237e5c3ac22923.png  \n",
            "  inflating: /content/YOLOv8Dataset/train/images/4493bfb5253156662ebd7fc1c420df96.png  \n",
            "  inflating: /content/YOLOv8Dataset/train/images/4519376d8a8a82e071cbe50bb3f7cf16.png  \n",
            "  inflating: /content/YOLOv8Dataset/train/images/46d120a910b249b48f1659f44f350258.png  \n",
            "  inflating: /content/YOLOv8Dataset/train/images/471d6944793ce267a4c5fe171660a7b2.png  \n",
            "  inflating: /content/YOLOv8Dataset/train/images/487e01a7e02267df8be040964524dc5c.png  \n",
            "  inflating: /content/YOLOv8Dataset/train/images/49dd02a7d7318a95ea74dc72662ecd35.png  \n",
            "  inflating: /content/YOLOv8Dataset/train/images/4b003aee660d2493de1acf13861a8d10.png  \n",
            "  inflating: /content/YOLOv8Dataset/train/images/4b0e8434bbf555ba0853856badb6fcde.png  \n",
            "  inflating: /content/YOLOv8Dataset/train/images/4b1835c4769810bcdec17a7b84cd00a1.png  \n",
            "  inflating: /content/YOLOv8Dataset/train/images/4cceb694a39ecbf9c31d72d0a6df7c60.png  \n",
            "  inflating: /content/YOLOv8Dataset/train/images/4dc67f22ae85dcaea2b1a5d7edff87c1.png  \n",
            "  inflating: /content/YOLOv8Dataset/train/images/501a23bac3d3b92e057cb7a81ee5b266.png  \n",
            "  inflating: /content/YOLOv8Dataset/train/images/501d7e184fa60a1f86fc7574f8ae9c1e.png  \n",
            "  inflating: /content/YOLOv8Dataset/train/images/50b459878b676cfde025dd109ab74456.png  \n",
            "  inflating: /content/YOLOv8Dataset/train/images/5187d60cdccd62c6b63b18c9486ba1df.png  \n",
            "  inflating: /content/YOLOv8Dataset/train/images/518993728afb3a4fadc323e62e867543.png  \n",
            "  inflating: /content/YOLOv8Dataset/train/images/51bdadeba139cfa6406d15baa1aeb0fd.png  \n",
            "  inflating: /content/YOLOv8Dataset/train/images/51efa11654b676b19feb55430addf8c8.png  \n",
            "  inflating: /content/YOLOv8Dataset/train/images/5226f20119b5166a5983f4e90ce0399a.png  \n",
            "  inflating: /content/YOLOv8Dataset/train/images/525c4209424d5f9c71e54818956b8edd.png  \n",
            "  inflating: /content/YOLOv8Dataset/train/images/52862d27068e380fe70e8e1c8a31fcb5.png  \n",
            "  inflating: /content/YOLOv8Dataset/train/images/52f60e0edf53da1b8b84e8b6481fe7e7.png  \n",
            "  inflating: /content/YOLOv8Dataset/train/images/533622eb348840dded3c228cb1ddc7fd.png  \n",
            "  inflating: /content/YOLOv8Dataset/train/images/534c5c3a9b1b6d2f23a37cbaafb10121.png  \n",
            "  inflating: /content/YOLOv8Dataset/train/images/53ca888b99c7c0bdad9f07275b000f6d.png  \n",
            "  inflating: /content/YOLOv8Dataset/train/images/54142183b83e2fa349df335b0def4f6a.png  \n",
            "  inflating: /content/YOLOv8Dataset/train/images/56f31954026648d3ad4f61041341a508.png  \n",
            "  inflating: /content/YOLOv8Dataset/train/images/5797d5c03fdc5400d70e5574a4e81299.png  \n",
            "  inflating: /content/YOLOv8Dataset/train/images/580c1ec790fd5066193f8208261fdfe7.png  \n",
            "  inflating: /content/YOLOv8Dataset/train/images/582a2fbec26466cfbf70e10c41c459ae.png  \n",
            "  inflating: /content/YOLOv8Dataset/train/images/58d9199c6ff803b11d9fdf48ba6adb55.png  \n",
            "  inflating: /content/YOLOv8Dataset/train/images/5a9027c1a8dcb7069761c6f9cea41b95.png  \n",
            "  inflating: /content/YOLOv8Dataset/train/images/5a9b80060bc0569e6ea72068815daa96.png  \n",
            "  inflating: /content/YOLOv8Dataset/train/images/5ad426b33d788b1c770cedbb458b5583.png  \n",
            "  inflating: /content/YOLOv8Dataset/train/images/5bd385c37f5c12094d54535bf9dcdfbd.png  \n",
            "  inflating: /content/YOLOv8Dataset/train/images/5be75bb2069b7ed6a23b524565e7ef37.png  \n",
            "  inflating: /content/YOLOv8Dataset/train/images/5e118b5595308a7ef2769c7729d8d6a7.png  \n",
            "  inflating: /content/YOLOv8Dataset/train/images/5e26e19b19fd75fc4f0c21d0219f49d3.png  \n",
            "  inflating: /content/YOLOv8Dataset/train/images/5f642f7cefd9a5c4016f3123b634c872.png  \n",
            "  inflating: /content/YOLOv8Dataset/train/images/60038dc7aa9027aeca448c249a9c7fc6.png  \n",
            "  inflating: /content/YOLOv8Dataset/train/images/60cc44e75b5fd5a78ba8669e7b3a3951.png  \n",
            "  inflating: /content/YOLOv8Dataset/train/images/60eed8c16d0b3f39299fffae801849b1.png  \n",
            "  inflating: /content/YOLOv8Dataset/train/images/6125704d1304ae903d803c3294b1f435.png  \n",
            "  inflating: /content/YOLOv8Dataset/train/images/631d9345bd74e8d60d4077daa40dd9d7.png  \n",
            "  inflating: /content/YOLOv8Dataset/train/images/6347ab4ca4433aea3b7842e8f7b9ffed.png  \n",
            "  inflating: /content/YOLOv8Dataset/train/images/63dcb65be1e867832fdecd2825607574.png  \n",
            "  inflating: /content/YOLOv8Dataset/train/images/656e339f8b5ed470db37bfcc3d318c80.png  \n",
            "  inflating: /content/YOLOv8Dataset/train/images/65b5f02957fb730c32c6c6e6978ff9bf.png  \n",
            "  inflating: /content/YOLOv8Dataset/train/images/6632d312dec24d870052252fb20433cb.png  \n",
            "  inflating: /content/YOLOv8Dataset/train/images/664b4385c381e47f26cc1a7147880227.png  \n",
            "  inflating: /content/YOLOv8Dataset/train/images/666d94fc987287b530965a40a3191cf8.png  \n",
            "  inflating: /content/YOLOv8Dataset/train/images/66704de10d246858ed04b64140b46668.png  \n",
            "  inflating: /content/YOLOv8Dataset/train/images/674ec61123f91fe27600baf673d70f8d.png  \n",
            "  inflating: /content/YOLOv8Dataset/train/images/67b7980e72abefdbf85585e4382917ca.png  \n",
            "  inflating: /content/YOLOv8Dataset/train/images/681956b92927012d77e6c1090ab6d261.png  \n",
            "  inflating: /content/YOLOv8Dataset/train/images/694a9255fefbcc4121e55137fe82c83b.png  \n",
            "  inflating: /content/YOLOv8Dataset/train/images/6a53ca2b7d496631f489961a39a399fc.png  \n",
            "  inflating: /content/YOLOv8Dataset/train/images/6b71b2ab95c1d7ce8aa0107824cb1678.png  \n",
            "  inflating: /content/YOLOv8Dataset/train/images/6b9f21312bbee2f0679f45b0708de50c.png  \n",
            "  inflating: /content/YOLOv8Dataset/train/images/6ca20ed7215ce1497f3a3d31bfc6b965.png  \n",
            "  inflating: /content/YOLOv8Dataset/train/images/6cc1c70097fbe5d2f618f85df997f64d.png  \n",
            "  inflating: /content/YOLOv8Dataset/train/images/6d018f6fc1fea3ab7e80aec9072b4890.png  \n",
            "  inflating: /content/YOLOv8Dataset/train/images/6d2cd547b2f496857eb88ad95383d55b.png  \n",
            "  inflating: /content/YOLOv8Dataset/train/images/6e88db154445c6023e870c76f43a3675.png  \n",
            "  inflating: /content/YOLOv8Dataset/train/images/6eb2237eff0fe022f40ff47ef058a539.png  \n",
            "  inflating: /content/YOLOv8Dataset/train/images/6fe8b387edd046e0532bf7cb7f6b5772.png  \n",
            "  inflating: /content/YOLOv8Dataset/train/images/703c3c0b01cf3710de9630ad0fdb2311.png  \n",
            "  inflating: /content/YOLOv8Dataset/train/images/708431fb36c01fdfc916b1cd89a14de0.png  \n",
            "  inflating: /content/YOLOv8Dataset/train/images/722a6967bf79077130903ef79e757089.png  \n",
            "  inflating: /content/YOLOv8Dataset/train/images/726e2081e3def40349dba42f4f7b14a4.png  \n",
            "  inflating: /content/YOLOv8Dataset/train/images/739c6bd0557c32a83877db57a1bc0ef8.png  \n",
            "  inflating: /content/YOLOv8Dataset/train/images/73ac5cff1889e168c28d1b399bfa0392.png  \n",
            "  inflating: /content/YOLOv8Dataset/train/images/75d12e10c7b7b811a4be55fa9c2ed194.png  \n",
            "  inflating: /content/YOLOv8Dataset/train/images/76aff94570e88ba6de05e6e3b338e1b7.png  \n",
            "  inflating: /content/YOLOv8Dataset/train/images/7713615370f82ba88804624d38203383.png  \n",
            "  inflating: /content/YOLOv8Dataset/train/images/77a61d878a0909b29142e3c99d08abc8.png  \n",
            "  inflating: /content/YOLOv8Dataset/train/images/77bbf1c7696941730af9fdeb15d7eb89.png  \n",
            "  inflating: /content/YOLOv8Dataset/train/images/77f05469ab63efa944a79b42738d5003.png  \n",
            "  inflating: /content/YOLOv8Dataset/train/images/79f2a699f13ce00c186b909a7adebf3b.png  \n",
            "  inflating: /content/YOLOv8Dataset/train/images/79f2e22c79ec6aa6fe135e7ddc943dce.png  \n",
            "  inflating: /content/YOLOv8Dataset/train/images/7ae9ac6aa1a36c869fe38018fb5d5d73.png  \n",
            "  inflating: /content/YOLOv8Dataset/train/images/7b20fe8dfe57a2cc128b2f2f1aeec02d.png  \n",
            "  inflating: /content/YOLOv8Dataset/train/images/7b8b44b536fc03445484916ee2616c6d.png  \n",
            "  inflating: /content/YOLOv8Dataset/train/images/7c79bf1d96104bbd339e65b63056445c.png  \n",
            "  inflating: /content/YOLOv8Dataset/train/images/7cf41d62783f6b1882bdb3aa41cf17b4.png  \n",
            "  inflating: /content/YOLOv8Dataset/train/images/7d54a6a60f9578243ed431167b898024.png  \n",
            "  inflating: /content/YOLOv8Dataset/train/images/7ec0b82de04a6a6b865b2be5c32b2bdc.png  \n",
            "  inflating: /content/YOLOv8Dataset/train/images/7eec03913c53ecc8216196eb813bfa5f.png  \n",
            "  inflating: /content/YOLOv8Dataset/train/images/7f6815f02fb66cffbea3329529c1b285.png  \n",
            "  inflating: /content/YOLOv8Dataset/train/images/80343cae3f0949452731fc3ff8d54f34.png  \n",
            "  inflating: /content/YOLOv8Dataset/train/images/80f2d8b93d22d01ead55471b705526ac.png  \n",
            "  inflating: /content/YOLOv8Dataset/train/images/81dfed1137c55127690ae63565d58740.png  \n",
            "  inflating: /content/YOLOv8Dataset/train/images/824f0b2c0965bb6b361c35cbff4cf647.png  \n",
            "  inflating: /content/YOLOv8Dataset/train/images/82b19781f1ed4779423257cf1baffb94.png  \n",
            "  inflating: /content/YOLOv8Dataset/train/images/82f86208382dfafacebdf4c6c543c86e.png  \n",
            "  inflating: /content/YOLOv8Dataset/train/images/84c6bafb19143d3cbb594305d1da3a55.png  \n",
            "  inflating: /content/YOLOv8Dataset/train/images/86a9d3021aed2223a990d22c7352cd16.png  \n",
            "  inflating: /content/YOLOv8Dataset/train/images/86d71a96d4e55c3faf994f182cce65bd.png  \n",
            "  inflating: /content/YOLOv8Dataset/train/images/87da236555603fc480046504a62cf294.png  \n",
            "  inflating: /content/YOLOv8Dataset/train/images/87ef8a4e4120ad17fb49a767d17f3d87.png  \n",
            "  inflating: /content/YOLOv8Dataset/train/images/8952bdbcafd74d4c7ea8bdcae4ecb438.png  \n",
            "  inflating: /content/YOLOv8Dataset/train/images/8a0f72ebc626c55358ae88d61d2cc299.png  \n",
            "  inflating: /content/YOLOv8Dataset/train/images/8a92213a323ab564ad8d6b57db9bfa94.png  \n",
            "  inflating: /content/YOLOv8Dataset/train/images/8ac3d32d90a6d4cd09cbde4be2c37616.png  \n",
            "  inflating: /content/YOLOv8Dataset/train/images/8b27dcce2ee1ee3d35edf58af03537fc.png  \n",
            "  inflating: /content/YOLOv8Dataset/train/images/8b3b18b366d7a5ea69df747156251b46.png  \n",
            "  inflating: /content/YOLOv8Dataset/train/images/8c0b11593e8b3eda8251b0b18d2bc2c5.png  \n",
            "  inflating: /content/YOLOv8Dataset/train/images/8c5b047d4c7716c9ba9305ebe357dace.png  \n",
            "  inflating: /content/YOLOv8Dataset/train/images/8e04854aa8a02780272cf9e99ca0cad1.png  \n",
            "  inflating: /content/YOLOv8Dataset/train/images/8e5c82793db7914b201d046c505e9152.png  \n",
            "  inflating: /content/YOLOv8Dataset/train/images/8f365fe4485c20079e78fc6fc86ca4e6.png  \n",
            "  inflating: /content/YOLOv8Dataset/train/images/8f825624e298f5d65d3a6a07112b415b.png  \n",
            "  inflating: /content/YOLOv8Dataset/train/images/8f899d7e9312b9f41dfaf4fa0939d928.png  \n",
            "  inflating: /content/YOLOv8Dataset/train/images/90ccd2fb35360694aa9e7981001fe7af.png  \n",
            "  inflating: /content/YOLOv8Dataset/train/images/91b6f19ab9907b96ebed717fbc884c76.png  \n",
            "  inflating: /content/YOLOv8Dataset/train/images/91f963c0382af8a6171735f31cb38cd3.png  \n",
            "  inflating: /content/YOLOv8Dataset/train/images/93afb740253bcfb8f6fc86b0e3241ee0.png  \n",
            "  inflating: /content/YOLOv8Dataset/train/images/940e9b50729496483f34d35b98fcfe6f.png  \n",
            "  inflating: /content/YOLOv8Dataset/train/images/95bece9a8a9bd277f8032d304357e23e.png  \n",
            "  inflating: /content/YOLOv8Dataset/train/images/997abd590789dc962696c3246da322e7.png  \n",
            "  inflating: /content/YOLOv8Dataset/train/images/99cd3414174a5f05913c219fdc7cd780.png  \n",
            "  inflating: /content/YOLOv8Dataset/train/images/9ba4ec97563622cfb348ae04cbed9abe.png  \n",
            "  inflating: /content/YOLOv8Dataset/train/images/9ce04fdf7c06d5b74a1c253e91fd3d1b.png  \n",
            "  inflating: /content/YOLOv8Dataset/train/images/9d063122134b00cc99b2847e33bc87c6.png  \n",
            "  inflating: /content/YOLOv8Dataset/train/images/9d61753acf393310ce9ab3039be7e6ed.png  \n",
            "  inflating: /content/YOLOv8Dataset/train/images/9da913d0e59e884c76c4713038ea750b.png  \n",
            "  inflating: /content/YOLOv8Dataset/train/images/9dba0f548a94dc45e1d5071b1c21b28e.png  \n",
            "  inflating: /content/YOLOv8Dataset/train/images/9e6167340bbd4f5b10e02aa855db53a3.png  \n",
            "  inflating: /content/YOLOv8Dataset/train/images/9f0c0e7ff0b038cbdbba327a59fd2dc9.png  \n",
            "  inflating: /content/YOLOv8Dataset/train/images/9f30cacd0951e74d371c0dae0134af52.png  \n",
            "  inflating: /content/YOLOv8Dataset/train/images/9f34d699834062b4a4af919ceae2a822.png  \n",
            "  inflating: /content/YOLOv8Dataset/train/images/9f8096ddef0cdb547d50bc532fb7b279.png  \n",
            "  inflating: /content/YOLOv8Dataset/train/images/a000db69fca9906f6b3ba2ac4ccf9601.png  \n",
            "  inflating: /content/YOLOv8Dataset/train/images/a073b2cebc06af76fe0023d9a75bbd95.png  \n",
            "  inflating: /content/YOLOv8Dataset/train/images/a128e0a5de83e36bffcaf7e3d454b339.png  \n",
            "  inflating: /content/YOLOv8Dataset/train/images/a19dc8f58c695519257d0d0e4818d79f.png  \n",
            "  inflating: /content/YOLOv8Dataset/train/images/a1df65acd28f4c959f0cd513c26f8a6a.png  \n",
            "  inflating: /content/YOLOv8Dataset/train/images/a1ed9b5b820c143ebd47d285b3d1a221.png  \n",
            "  inflating: /content/YOLOv8Dataset/train/images/a25c0f47cda46aef9baf42d093a96042.png  \n",
            "  inflating: /content/YOLOv8Dataset/train/images/a2b35e6d8a42eece4113b773e1ed12ef.png  \n",
            "  inflating: /content/YOLOv8Dataset/train/images/a36d28819327f56928a528121cb00f33.png  \n",
            "  inflating: /content/YOLOv8Dataset/train/images/a378c681f89dcd2b39f58a05a88d7184.png  \n",
            "  inflating: /content/YOLOv8Dataset/train/images/a3824c16d453d47b669c176642a1a7c3.png  \n",
            "  inflating: /content/YOLOv8Dataset/train/images/a49c758ba6c3d035ae99e6d3a586e31b.png  \n",
            "  inflating: /content/YOLOv8Dataset/train/images/a520ad38394f44ed7979388cb3cd7e5d.png  \n",
            "  inflating: /content/YOLOv8Dataset/train/images/a547ea8e056b6e64131647db59396418.png  \n",
            "  inflating: /content/YOLOv8Dataset/train/images/a6e37e998c13fa8dd1d2dcaef0b3bc2f.png  \n",
            "  inflating: /content/YOLOv8Dataset/train/images/a795c62f3d123219e06ce2dcecb04abc.png  \n",
            "  inflating: /content/YOLOv8Dataset/train/images/a918e5897c2c496ff5adc7f88ae4b495.png  \n",
            "  inflating: /content/YOLOv8Dataset/train/images/a941f1f2028724aa78d1ef77b5883399.png  \n",
            "  inflating: /content/YOLOv8Dataset/train/images/a9575bd2ceff0f298b209b07d43aad6d.png  \n",
            "  inflating: /content/YOLOv8Dataset/train/images/a9763e49ac7e968a36838f777d044a50.png  \n",
            "  inflating: /content/YOLOv8Dataset/train/images/a9e40b20892b36d1a4eb25cdc38d6d3c.png  \n",
            "  inflating: /content/YOLOv8Dataset/train/images/a9f420bc9ec96d122dbb18e8d51ddffe.png  \n",
            "  inflating: /content/YOLOv8Dataset/train/images/ab264099967308e5796dc77d325bd418.png  \n",
            "  inflating: /content/YOLOv8Dataset/train/images/aba9b4649105fa9345e7fba460251e28.png  \n",
            "  inflating: /content/YOLOv8Dataset/train/images/abd96d12c897243890a96a5eea67710d.png  \n",
            "  inflating: /content/YOLOv8Dataset/train/images/abebf125c184b595e083d88ab5ce0287.png  \n",
            "  inflating: /content/YOLOv8Dataset/train/images/ac5eefe26eac0e1b40481fea0a0ddb7e.png  \n",
            "  inflating: /content/YOLOv8Dataset/train/images/ad0f876b80c30c1804bc7cfc0c9d7817.png  \n",
            "  inflating: /content/YOLOv8Dataset/train/images/af490b2220fa5d90063fc425cb824481.png  \n",
            "  inflating: /content/YOLOv8Dataset/train/images/b01def8fd605aaf23d405e4fd9912b3c.png  \n",
            "  inflating: /content/YOLOv8Dataset/train/images/b02672e8cb2b2383fe689de071e1e860.png  \n",
            "  inflating: /content/YOLOv8Dataset/train/images/b02a3c899e648e01c02c1d01e8ffe195.png  \n",
            "  inflating: /content/YOLOv8Dataset/train/images/b0bf21781bee0e48b3b963a2ddbe44d6.png  \n",
            "  inflating: /content/YOLOv8Dataset/train/images/b0c79d9172501adb5b7bc1f4065c3ffb.png  \n",
            "  inflating: /content/YOLOv8Dataset/train/images/b0e041d3ec4655a61de624df8af3839e.png  \n",
            "  inflating: /content/YOLOv8Dataset/train/images/b1f01d57b0be363c8d10e015210a241e.png  \n",
            "  inflating: /content/YOLOv8Dataset/train/images/b461044a8cd9c11122fdbf8febf7ff18.png  \n",
            "  inflating: /content/YOLOv8Dataset/train/images/b84d087b2c551b0b51ce895ee43b6050.png  \n",
            "  inflating: /content/YOLOv8Dataset/train/images/bba25143306e7c125463b0535eba33f3.png  \n",
            "  inflating: /content/YOLOv8Dataset/train/images/bbcfbc57eafa158106a5aa35ca1fdb3b.png  \n",
            "  inflating: /content/YOLOv8Dataset/train/images/bbd65fd03d57ea9e84ac4334dd24a04c.png  \n",
            "  inflating: /content/YOLOv8Dataset/train/images/bc11543d25aef09dc2b55fc2183b4cbb.png  \n",
            "  inflating: /content/YOLOv8Dataset/train/images/bc37bb10214869eb1efb89059b54b3ba.png  \n",
            "  inflating: /content/YOLOv8Dataset/train/images/bc4214328523d11ba3cfc7f13932dd9a.png  \n",
            "  inflating: /content/YOLOv8Dataset/train/images/bcbc00dc6bbc6ee2abcf70fca7499ecd.png  \n",
            "  inflating: /content/YOLOv8Dataset/train/images/bdc6e9322c80ee942d07130c6ca15288.png  \n",
            "  inflating: /content/YOLOv8Dataset/train/images/be4c6ff9aae24c5972c9827e3b813888.png  \n",
            "  inflating: /content/YOLOv8Dataset/train/images/bec74d382e7157a4113638ef317eeabc.png  \n",
            "  inflating: /content/YOLOv8Dataset/train/images/bef930b2e3177da1006575bc0b5df57e.png  \n",
            "  inflating: /content/YOLOv8Dataset/train/images/bf73d55424049a025430250003023d52.png  \n",
            "  inflating: /content/YOLOv8Dataset/train/images/bfa4865ba4e63522e23950addadd1d4a.png  \n",
            "  inflating: /content/YOLOv8Dataset/train/images/c007a60236a5857e308840c9e8191b6f.png  \n",
            "  inflating: /content/YOLOv8Dataset/train/images/c0991fab450328e723f91b3e90f3c928.png  \n",
            "  inflating: /content/YOLOv8Dataset/train/images/c1689d9168dd3b22f155157892db15ac.png  \n",
            "  inflating: /content/YOLOv8Dataset/train/images/c1ba2c81cb98123cfcada60601e971ee.png  \n",
            "  inflating: /content/YOLOv8Dataset/train/images/c277a0045c8540369fe26e2d16993c1d.png  \n",
            "  inflating: /content/YOLOv8Dataset/train/images/c2911d1e732aba7d4bb9637fb4e1945c.png  \n",
            "  inflating: /content/YOLOv8Dataset/train/images/c2a8726c57397393c84a3d031b0aae18.png  \n",
            "  inflating: /content/YOLOv8Dataset/train/images/c2dea807cd7f5427165ff11e5fc16e3a.png  \n",
            "  inflating: /content/YOLOv8Dataset/train/images/c3a9e7cefbe99f52e0cab2c25f63ae79.png  \n",
            "  inflating: /content/YOLOv8Dataset/train/images/c3c07c6fc61a49daa270f0b3c104cb5d.png  \n",
            "  inflating: /content/YOLOv8Dataset/train/images/c3cc4630bc61ac790ded610916c3f9a9.png  \n",
            "  inflating: /content/YOLOv8Dataset/train/images/c4410343a3d9d15d04a6eec11d082375.png  \n",
            "  inflating: /content/YOLOv8Dataset/train/images/c534b520f568dd9e3ba7ff52f34789d6.png  \n",
            "  inflating: /content/YOLOv8Dataset/train/images/c556c41e743bdb2ee2cb11d977c8e3d1.png  \n",
            "  inflating: /content/YOLOv8Dataset/train/images/c5ee7200e4b21522b85010efa3cb8a9f.png  \n",
            "  inflating: /content/YOLOv8Dataset/train/images/c6a802f2c9db8aaca14aea3f45d71c49.png  \n",
            "  inflating: /content/YOLOv8Dataset/train/images/c6f6488b950fe81cc8fa2be9c9e08805.png  \n",
            "  inflating: /content/YOLOv8Dataset/train/images/c7b4ad053f5b552d5952e87d7c6d1df7.png  \n",
            "  inflating: /content/YOLOv8Dataset/train/images/c8a052db94d61921f5ad4786d1afcde8.png  \n",
            "  inflating: /content/YOLOv8Dataset/train/images/c908bb3bc5e712da1a55d69da8ced048.png  \n",
            "  inflating: /content/YOLOv8Dataset/train/images/ca7dd49a55a3985f8718f63f1ad92036.png  \n",
            "  inflating: /content/YOLOv8Dataset/train/images/cba55850e9f653f8fceb9ea0927ec238.png  \n",
            "  inflating: /content/YOLOv8Dataset/train/images/cbab1174d9c3ff3a20c48b614c594594.png  \n",
            "  inflating: /content/YOLOv8Dataset/train/images/cbe28bb3d224fce9c167875f2ffeb4af.png  \n",
            "  inflating: /content/YOLOv8Dataset/train/images/cca6c65857e661d990c86ee797495048.png  \n",
            "  inflating: /content/YOLOv8Dataset/train/images/cd0310ab9fb98ce86e67e6267950c90b.png  \n",
            "  inflating: /content/YOLOv8Dataset/train/images/cd9758d803f5f7183670450f3e6f0a74.png  \n",
            "  inflating: /content/YOLOv8Dataset/train/images/cf7bbb8dd944d9b6e175d4f96d5f50ae.png  \n",
            "  inflating: /content/YOLOv8Dataset/train/images/d00d9cd05676ce8e4bb88ba476fb2246.png  \n",
            "  inflating: /content/YOLOv8Dataset/train/images/d1f931eea03a1dbf3235aad8b31a7afc.png  \n",
            "  inflating: /content/YOLOv8Dataset/train/images/d3335bd556f2a046e7116b28872f0ab5.png  \n",
            "  inflating: /content/YOLOv8Dataset/train/images/d33d60bc2d6607908f4d582999fc5486.png  \n",
            "  inflating: /content/YOLOv8Dataset/train/images/d3bd873398930e294511e46c7ddeea0a.png  \n",
            "  inflating: /content/YOLOv8Dataset/train/images/d3f01021f782898b550f0590d19b65f9.png  \n",
            "  inflating: /content/YOLOv8Dataset/train/images/d40c803400ff1009b32ca3a9a852a7d3.png  \n",
            "  inflating: /content/YOLOv8Dataset/train/images/d42d9827748e458a2b7f6e106e483dfb.png  \n",
            "  inflating: /content/YOLOv8Dataset/train/images/d50aabfb30a190da7415b65ec64f70a0.png  \n",
            "  inflating: /content/YOLOv8Dataset/train/images/d5d7147639a8831b1c83a2991fe5f9f0.png  \n",
            "  inflating: /content/YOLOv8Dataset/train/images/d7b37e86c9672860018921df20842fe3.png  \n",
            "  inflating: /content/YOLOv8Dataset/train/images/d7f22354befe906c92f6dcc2ac70a9ad.png  \n",
            "  inflating: /content/YOLOv8Dataset/train/images/d89be3042daed4bbf5185e09f18ba6c8.png  \n",
            "  inflating: /content/YOLOv8Dataset/train/images/d91b29569e1689e77aa7ddb80ec02c59.png  \n",
            "  inflating: /content/YOLOv8Dataset/train/images/d97f87528a67e2101aa77b8e113d638b.png  \n",
            "  inflating: /content/YOLOv8Dataset/train/images/d9d4ad6c741735f311e4f57225b08daf.png  \n",
            "  inflating: /content/YOLOv8Dataset/train/images/d9f8bec98a2bb7df32e6f2418a42e789.png  \n",
            "  inflating: /content/YOLOv8Dataset/train/images/da6cdf004ff3cb46cf12decbe6d3a54a.png  \n",
            "  inflating: /content/YOLOv8Dataset/train/images/dacd45d7638b158542a0b435a37c58b4.png  \n",
            "  inflating: /content/YOLOv8Dataset/train/images/dc0fa66852ade375b5c95b587ef136a9.png  \n",
            "  inflating: /content/YOLOv8Dataset/train/images/de8620693d0a8eb331a492b4f1d16bb8.png  \n",
            "  inflating: /content/YOLOv8Dataset/train/images/e007bb1938912ea68f9d09dcc3fcd9c5.png  \n",
            "  inflating: /content/YOLOv8Dataset/train/images/e0874aecbf2b578fd7f25b268c690332.png  \n",
            "  inflating: /content/YOLOv8Dataset/train/images/e10864dbd9fd1fe1ab939d05dacb796e.png  \n",
            "  inflating: /content/YOLOv8Dataset/train/images/e16dc5478b0fdc9196c9749a6cbca948.png  \n",
            "  inflating: /content/YOLOv8Dataset/train/images/e213eb1f9ee5d97b9124b001672cf92f.png  \n",
            "  inflating: /content/YOLOv8Dataset/train/images/e320553442cdb2053a24825c96e5fd7b.png  \n",
            "  inflating: /content/YOLOv8Dataset/train/images/e36a6e6af06a1d234ff755d0e969ae06.png  \n",
            "  inflating: /content/YOLOv8Dataset/train/images/e36ab0590afa07a3660405a7b99bad27.png  \n",
            "  inflating: /content/YOLOv8Dataset/train/images/e3c2c41f95f53db382667ca281962af7.png  \n",
            "  inflating: /content/YOLOv8Dataset/train/images/e4495d16f779e8a042be3c921bbfab89.png  \n",
            "  inflating: /content/YOLOv8Dataset/train/images/e56912730d92fbd1e8c9fdc14641771d.png  \n",
            "  inflating: /content/YOLOv8Dataset/train/images/e653885586a05a7a3f8f78aa4ed5a4c7.png  \n",
            "  inflating: /content/YOLOv8Dataset/train/images/e724e05b08fd2a3ee6a4cb5937f7f775.png  \n",
            "  inflating: /content/YOLOv8Dataset/train/images/e753e0455c4d5f827eadb63633a1db99.png  \n",
            "  inflating: /content/YOLOv8Dataset/train/images/e777a39334113ccf90e1a5084292fb05.png  \n",
            "  inflating: /content/YOLOv8Dataset/train/images/e7c19d5c5f4fc5187c9d00aa8763c7db.png  \n",
            "  inflating: /content/YOLOv8Dataset/train/images/e8120fdf9537b8e01113e95edef1d1e8.png  \n",
            "  inflating: /content/YOLOv8Dataset/train/images/e88a6876b2d49981b6caf2674ca8a207.png  \n",
            "  inflating: /content/YOLOv8Dataset/train/images/eb3c43b96c5241ed1221c8e15db5a1f2.png  \n",
            "  inflating: /content/YOLOv8Dataset/train/images/eb5123cbba3e3112304699bb63ad0acd.png  \n",
            "  inflating: /content/YOLOv8Dataset/train/images/eba8d6d6d1114c90fac02f746d0f4e06.png  \n",
            "  inflating: /content/YOLOv8Dataset/train/images/ebd758b3f3ed6e42eaf1525443e6a673.png  \n",
            "  inflating: /content/YOLOv8Dataset/train/images/ec26c1e2f70356f703815b2bd31de22c.png  \n",
            "  inflating: /content/YOLOv8Dataset/train/images/eceadf24ec07da4a4cf80ea20cd53119.png  \n",
            "  inflating: /content/YOLOv8Dataset/train/images/ee497b3789c2df18e62389faa09e4178.png  \n",
            "  inflating: /content/YOLOv8Dataset/train/images/eed7b5a3108b8fe84d399870605cdc90.png  \n",
            "  inflating: /content/YOLOv8Dataset/train/images/f0ef710f18f8936d5b278dc9f8468fa1.png  \n",
            "  inflating: /content/YOLOv8Dataset/train/images/f3ca7f8743c29c59f0174339bb539b4f.png  \n",
            "  inflating: /content/YOLOv8Dataset/train/images/f4250869872ab9776754aa890a2788c7.png  \n",
            "  inflating: /content/YOLOv8Dataset/train/images/f437bcb31cf1b833c43d6314480a8e2c.png  \n",
            "  inflating: /content/YOLOv8Dataset/train/images/f4872a608eae9d2b3267903f66b7e62e.png  \n",
            "  inflating: /content/YOLOv8Dataset/train/images/f54599114b5ef048f086e866bb60858a.png  \n",
            "  inflating: /content/YOLOv8Dataset/train/images/f54ca4d94ab6425c9d4dc7f51daf9e51.png  \n",
            "  inflating: /content/YOLOv8Dataset/train/images/f5565b35bf9606d090e8ea6213289c95.png  \n",
            "  inflating: /content/YOLOv8Dataset/train/images/f77c54f1a31e731564088b896795e0ca.png  \n",
            "  inflating: /content/YOLOv8Dataset/train/images/fa04effa438ac05c9b7b12c0f1311d74.png  \n",
            "  inflating: /content/YOLOv8Dataset/train/images/fb14a18f14905962849b7fe16dfa7cbd.png  \n",
            "  inflating: /content/YOLOv8Dataset/train/images/fbebe81c06bb6cac1cbaebe8305bbbb2.png  \n",
            "  inflating: /content/YOLOv8Dataset/train/images/fcdfadecd7d50e30ff88845f22b261d0.png  \n",
            "  inflating: /content/YOLOv8Dataset/train/images/fd2e27eff38b38e3ab9121e14c1d592a.png  \n",
            "  inflating: /content/YOLOv8Dataset/train/images/fde2c20a073d451deef320f777cb93fa.png  \n",
            "  inflating: /content/YOLOv8Dataset/train/images/fe1a73029a8d2dde9c60be70b609ae49.png  \n",
            "  inflating: /content/YOLOv8Dataset/train/images/fe1ae07360e17cb5f6f9e63436304eb2.png  \n",
            "  inflating: /content/YOLOv8Dataset/train/images/ff11b2701fd7c1f51d27dfcf8e2659c5.png  \n",
            "  inflating: /content/YOLOv8Dataset/train/images/fffc5d9376895761c37d2b5015c7678c.png  \n",
            "   creating: /content/YOLOv8Dataset/train/labels/\n",
            "  inflating: /content/YOLOv8Dataset/train/labels/022ca22051f0077b1c4769519755a2b1.txt  \n",
            "  inflating: /content/YOLOv8Dataset/train/labels/023df158daadd39ae3534f607f195c09.txt  \n",
            "  inflating: /content/YOLOv8Dataset/train/labels/02b64d5ff9c1428cb1ad3f6902de1f86.txt  \n",
            "  inflating: /content/YOLOv8Dataset/train/labels/0351fcec6565e4ac60bf4d4fedad05e5.txt  \n",
            "  inflating: /content/YOLOv8Dataset/train/labels/0485013914d9d760a17029ab4b567445.txt  \n",
            "  inflating: /content/YOLOv8Dataset/train/labels/054224b73b74a2439472143f1cfb6a21.txt  \n",
            "  inflating: /content/YOLOv8Dataset/train/labels/055e8406fe8e86d428447462cbebafbf.txt  \n",
            "  inflating: /content/YOLOv8Dataset/train/labels/05e94499ea5e7ca62c5dc367b494ef9e.txt  \n",
            "  inflating: /content/YOLOv8Dataset/train/labels/065dc39ee0ce246579bcb51a04ff8418.txt  \n",
            "  inflating: /content/YOLOv8Dataset/train/labels/06cce8a7a7d2d416c5316ec4fd32860e.txt  \n",
            "  inflating: /content/YOLOv8Dataset/train/labels/072623bc2592b0e97f0223b3a429f53e.txt  \n",
            "  inflating: /content/YOLOv8Dataset/train/labels/073416828ae9eeabdbe65468f7a89555.txt  \n",
            "  inflating: /content/YOLOv8Dataset/train/labels/0776d7738274fe44e10249f6fa36729f.txt  \n",
            "  inflating: /content/YOLOv8Dataset/train/labels/077b9e2e26de595e49b14e6219f30b17.txt  \n",
            "  inflating: /content/YOLOv8Dataset/train/labels/0860364627c7131570459cee40d2632c.txt  \n",
            "  inflating: /content/YOLOv8Dataset/train/labels/09866d4ac1242d2c17c1ae289795e787.txt  \n",
            "  inflating: /content/YOLOv8Dataset/train/labels/0ac68ec547d9786c4b58082358e55559.txt  \n",
            "  inflating: /content/YOLOv8Dataset/train/labels/0b12684a44a489cb03ae003ce3d88c2b.txt  \n",
            "  inflating: /content/YOLOv8Dataset/train/labels/0b915de7b4ea619e0d477af04083c331.txt  \n",
            "  inflating: /content/YOLOv8Dataset/train/labels/0cf9e73a490d4e6d750df876254cbfb3.txt  \n",
            "  inflating: /content/YOLOv8Dataset/train/labels/0d25f7b3200190e22c5f2eee02225c96.txt  \n",
            "  inflating: /content/YOLOv8Dataset/train/labels/0effdbd4b6ca954c18cdbf82505770b4.txt  \n",
            "  inflating: /content/YOLOv8Dataset/train/labels/0f8c10f96fda8e0aae28880eb31599ad.txt  \n",
            "  inflating: /content/YOLOv8Dataset/train/labels/0f9033c66824149f496e3aa749e74537.txt  \n",
            "  inflating: /content/YOLOv8Dataset/train/labels/0fee67d8fe5b46ba03724daa91f55e01.txt  \n",
            "  inflating: /content/YOLOv8Dataset/train/labels/103048b3640bd77a6e366ecb97127ab7.txt  \n",
            "  inflating: /content/YOLOv8Dataset/train/labels/10f0db603aa9151affe00b6ff48c2b78.txt  \n",
            "  inflating: /content/YOLOv8Dataset/train/labels/123bab3426cf4a8e14a2b7794ae034f0.txt  \n",
            "  inflating: /content/YOLOv8Dataset/train/labels/1243955e067a8a19717c095a0b582a70.txt  \n",
            "  inflating: /content/YOLOv8Dataset/train/labels/12ba8f2f0df95e24762edd8fb165ad32.txt  \n",
            "  inflating: /content/YOLOv8Dataset/train/labels/12d81abbaf023e0eaf4635c66add192e.txt  \n",
            "  inflating: /content/YOLOv8Dataset/train/labels/12df1e3f0b0f48ac30eae4261f2c1adb.txt  \n",
            "  inflating: /content/YOLOv8Dataset/train/labels/138101149cfbf16e140f796146987595.txt  \n",
            "  inflating: /content/YOLOv8Dataset/train/labels/149998fa2d1b283ddc8ab5c637711968.txt  \n",
            "  inflating: /content/YOLOv8Dataset/train/labels/163aec59eb4d32d035e187eb1e0024af.txt  \n",
            "  inflating: /content/YOLOv8Dataset/train/labels/16e96a19db419c46aca5242ca881ba65.txt  \n",
            "  inflating: /content/YOLOv8Dataset/train/labels/1731675a64093bbb0edc83b0dd33e375.txt  \n",
            "  inflating: /content/YOLOv8Dataset/train/labels/1758a43e054b74f32a2067eb5da2680b.txt  \n",
            "  inflating: /content/YOLOv8Dataset/train/labels/175f07f37667df3f17bd1c0095a968e8.txt  \n",
            "  inflating: /content/YOLOv8Dataset/train/labels/17c15ffd0ea554661bf4437db11c70dd.txt  \n",
            "  inflating: /content/YOLOv8Dataset/train/labels/1a03c9be88939d5f25c7dfa5e58ffecb.txt  \n",
            "  inflating: /content/YOLOv8Dataset/train/labels/1b262bae57070bcaf8e67f2a361ef0f6.txt  \n",
            "  inflating: /content/YOLOv8Dataset/train/labels/1b8113b50a4611a9924a3b2aa6f990a4.txt  \n",
            "  inflating: /content/YOLOv8Dataset/train/labels/1c7994def85330227bc9dd140bd9ff2b.txt  \n",
            "  inflating: /content/YOLOv8Dataset/train/labels/1d0110cab351da189b6425b7eb5b75bf.txt  \n",
            "  inflating: /content/YOLOv8Dataset/train/labels/1d8afdb0a459052d515e35d21f6453e2.txt  \n",
            "  inflating: /content/YOLOv8Dataset/train/labels/1f9cde014e8bd5d40e490db72e0005e6.txt  \n",
            "  inflating: /content/YOLOv8Dataset/train/labels/1f9f2e306eed6dff0538ce60e7cb463a.txt  \n",
            "  inflating: /content/YOLOv8Dataset/train/labels/20568869eac574a96a8d5408f33ecbd6.txt  \n",
            "  inflating: /content/YOLOv8Dataset/train/labels/2060b0941339f251706bef0b0bc994bf.txt  \n",
            "  inflating: /content/YOLOv8Dataset/train/labels/2066732564aa1199848cbcdc440b3b4d.txt  \n",
            "  inflating: /content/YOLOv8Dataset/train/labels/21875893bc7b18e2646078e5916d75fb.txt  \n",
            "  inflating: /content/YOLOv8Dataset/train/labels/234b99833f0cb66835ee5f2b2f1d62e2.txt  \n",
            "  inflating: /content/YOLOv8Dataset/train/labels/23a6862ce20d0146f01652fe34e0732e.txt  \n",
            "  inflating: /content/YOLOv8Dataset/train/labels/23c8f9267c4afdb70f0f6349a3ebfcee.txt  \n",
            "  inflating: /content/YOLOv8Dataset/train/labels/24486f85f4c421e9b53476b8f022a7ad.txt  \n",
            "  inflating: /content/YOLOv8Dataset/train/labels/258205d874ed3392b1e22f5f1695596d.txt  \n",
            "  inflating: /content/YOLOv8Dataset/train/labels/26c9629044c97d6c073b04dd04828ec7.txt  \n",
            "  inflating: /content/YOLOv8Dataset/train/labels/26e8da31724bd1f72e470339276de378.txt  \n",
            "  inflating: /content/YOLOv8Dataset/train/labels/271e2485dc0996bea455ba6ce5e909ff.txt  \n",
            "  inflating: /content/YOLOv8Dataset/train/labels/2876adf8dd4cfc5f92a25b2799a40429.txt  \n",
            "  inflating: /content/YOLOv8Dataset/train/labels/296a78b70b024391055be671389ffc84.txt  \n",
            "  inflating: /content/YOLOv8Dataset/train/labels/2b674d85044c7e1fb34b33bcd14bd940.txt  \n",
            "  inflating: /content/YOLOv8Dataset/train/labels/2c386779693473a327a3ec73a85f3069.txt  \n",
            "  inflating: /content/YOLOv8Dataset/train/labels/2cfc967135553748b9ea55431ce8a42e.txt  \n",
            "  inflating: /content/YOLOv8Dataset/train/labels/2e427462c3c76d1a6b0e37558a4609ba.txt  \n",
            "  inflating: /content/YOLOv8Dataset/train/labels/3015e555ef0bdc53c26f05f94d8291c0.txt  \n",
            "  inflating: /content/YOLOv8Dataset/train/labels/3053ca485f5c5d9c2c580f1b2307476e.txt  \n",
            "  inflating: /content/YOLOv8Dataset/train/labels/30b2bf4bb228fcdb1b4768f9b32fab36.txt  \n",
            "  inflating: /content/YOLOv8Dataset/train/labels/324994584d35eda0e90e88112bf4c4a0.txt  \n",
            "  inflating: /content/YOLOv8Dataset/train/labels/328d51c928db4ef9ce8ebe56b918a93d.txt  \n",
            "  inflating: /content/YOLOv8Dataset/train/labels/32ed94aea505ada0800f27d26eb74979.txt  \n",
            "  inflating: /content/YOLOv8Dataset/train/labels/331658e5bf5950bc0465eb3edabdc465.txt  \n",
            "  inflating: /content/YOLOv8Dataset/train/labels/33b08b8e0cda0f889e7a01d50b054e3d.txt  \n",
            "  inflating: /content/YOLOv8Dataset/train/labels/34d0e5a53f0b7c27fda3b86c743b0ba2.txt  \n",
            "  inflating: /content/YOLOv8Dataset/train/labels/357cf8575957109cd8b67ecf3b2fa46b.txt  \n",
            "  inflating: /content/YOLOv8Dataset/train/labels/36421a19878833ded8cf975bdf6d7b83.txt  \n",
            "  inflating: /content/YOLOv8Dataset/train/labels/367eabf7e8b92f7b2f3c63c82c7af3f0.txt  \n",
            "  inflating: /content/YOLOv8Dataset/train/labels/3765d84b8e8e7c2de622dda34d87519a.txt  \n",
            "  inflating: /content/YOLOv8Dataset/train/labels/376913617f61f081f135877eee9074e8.txt  \n",
            "  inflating: /content/YOLOv8Dataset/train/labels/38c14a478f7d3450b139b57a18cd4e1b.txt  \n",
            "  inflating: /content/YOLOv8Dataset/train/labels/39156530b78d5af814b843df41d916c1.txt  \n",
            "  inflating: /content/YOLOv8Dataset/train/labels/39482ba1863691119db3cc318f329568.txt  \n",
            "  inflating: /content/YOLOv8Dataset/train/labels/3af0d5cf8515268dd6aff955e797af95.txt  \n",
            "  inflating: /content/YOLOv8Dataset/train/labels/3bbf13a85ab38a3c790bb1ef6854e548.txt  \n",
            "  inflating: /content/YOLOv8Dataset/train/labels/3d4907a7d4500077deec9dc7064a38ea.txt  \n",
            "  inflating: /content/YOLOv8Dataset/train/labels/3d4be5677daa97ea3ed24e0e34590956.txt  \n",
            "  inflating: /content/YOLOv8Dataset/train/labels/3d5d3c6ccf792d7aca6f2c07347e088d.txt  \n",
            "  inflating: /content/YOLOv8Dataset/train/labels/3de4b326926101936e9c3d70361ead4e.txt  \n",
            "  inflating: /content/YOLOv8Dataset/train/labels/3f539a30f7d2addec7c53aff710d5a4b.txt  \n",
            "  inflating: /content/YOLOv8Dataset/train/labels/3fec08cc321d6ee3de0054772ac1b38a.txt  \n",
            "  inflating: /content/YOLOv8Dataset/train/labels/41034a6fc2cf0ed947292a169fb06126.txt  \n",
            "  inflating: /content/YOLOv8Dataset/train/labels/41c9f9305407eddeac32f58a87aa4c59.txt  \n",
            "  inflating: /content/YOLOv8Dataset/train/labels/42a8c3675966ee30faede855e24b91f2.txt  \n",
            "  inflating: /content/YOLOv8Dataset/train/labels/42b2a3ab5fedb2ac9fbced770991565a.txt  \n",
            "  inflating: /content/YOLOv8Dataset/train/labels/42b41c9980a44467cff04edd0c917a51.txt  \n",
            "  inflating: /content/YOLOv8Dataset/train/labels/42d05d85a947944cb078a9607a1df9ea.txt  \n",
            "  inflating: /content/YOLOv8Dataset/train/labels/42efd5826acc0a11be237e5c3ac22923.txt  \n",
            "  inflating: /content/YOLOv8Dataset/train/labels/4493bfb5253156662ebd7fc1c420df96.txt  \n",
            "  inflating: /content/YOLOv8Dataset/train/labels/4519376d8a8a82e071cbe50bb3f7cf16.txt  \n",
            "  inflating: /content/YOLOv8Dataset/train/labels/46d120a910b249b48f1659f44f350258.txt  \n",
            "  inflating: /content/YOLOv8Dataset/train/labels/471d6944793ce267a4c5fe171660a7b2.txt  \n",
            "  inflating: /content/YOLOv8Dataset/train/labels/487e01a7e02267df8be040964524dc5c.txt  \n",
            "  inflating: /content/YOLOv8Dataset/train/labels/49dd02a7d7318a95ea74dc72662ecd35.txt  \n",
            "  inflating: /content/YOLOv8Dataset/train/labels/4b003aee660d2493de1acf13861a8d10.txt  \n",
            "  inflating: /content/YOLOv8Dataset/train/labels/4b0e8434bbf555ba0853856badb6fcde.txt  \n",
            "  inflating: /content/YOLOv8Dataset/train/labels/4b1835c4769810bcdec17a7b84cd00a1.txt  \n",
            "  inflating: /content/YOLOv8Dataset/train/labels/4cceb694a39ecbf9c31d72d0a6df7c60.txt  \n",
            "  inflating: /content/YOLOv8Dataset/train/labels/4dc67f22ae85dcaea2b1a5d7edff87c1.txt  \n",
            "  inflating: /content/YOLOv8Dataset/train/labels/501a23bac3d3b92e057cb7a81ee5b266.txt  \n",
            "  inflating: /content/YOLOv8Dataset/train/labels/501d7e184fa60a1f86fc7574f8ae9c1e.txt  \n",
            "  inflating: /content/YOLOv8Dataset/train/labels/50b459878b676cfde025dd109ab74456.txt  \n",
            "  inflating: /content/YOLOv8Dataset/train/labels/5187d60cdccd62c6b63b18c9486ba1df.txt  \n",
            "  inflating: /content/YOLOv8Dataset/train/labels/518993728afb3a4fadc323e62e867543.txt  \n",
            "  inflating: /content/YOLOv8Dataset/train/labels/51bdadeba139cfa6406d15baa1aeb0fd.txt  \n",
            "  inflating: /content/YOLOv8Dataset/train/labels/51efa11654b676b19feb55430addf8c8.txt  \n",
            "  inflating: /content/YOLOv8Dataset/train/labels/5226f20119b5166a5983f4e90ce0399a.txt  \n",
            "  inflating: /content/YOLOv8Dataset/train/labels/525c4209424d5f9c71e54818956b8edd.txt  \n",
            "  inflating: /content/YOLOv8Dataset/train/labels/52862d27068e380fe70e8e1c8a31fcb5.txt  \n",
            "  inflating: /content/YOLOv8Dataset/train/labels/52f60e0edf53da1b8b84e8b6481fe7e7.txt  \n",
            "  inflating: /content/YOLOv8Dataset/train/labels/533622eb348840dded3c228cb1ddc7fd.txt  \n",
            "  inflating: /content/YOLOv8Dataset/train/labels/534c5c3a9b1b6d2f23a37cbaafb10121.txt  \n",
            "  inflating: /content/YOLOv8Dataset/train/labels/53ca888b99c7c0bdad9f07275b000f6d.txt  \n",
            "  inflating: /content/YOLOv8Dataset/train/labels/54142183b83e2fa349df335b0def4f6a.txt  \n",
            "  inflating: /content/YOLOv8Dataset/train/labels/56f31954026648d3ad4f61041341a508.txt  \n",
            "  inflating: /content/YOLOv8Dataset/train/labels/5797d5c03fdc5400d70e5574a4e81299.txt  \n",
            "  inflating: /content/YOLOv8Dataset/train/labels/580c1ec790fd5066193f8208261fdfe7.txt  \n",
            "  inflating: /content/YOLOv8Dataset/train/labels/582a2fbec26466cfbf70e10c41c459ae.txt  \n",
            "  inflating: /content/YOLOv8Dataset/train/labels/58d9199c6ff803b11d9fdf48ba6adb55.txt  \n",
            "  inflating: /content/YOLOv8Dataset/train/labels/5a9027c1a8dcb7069761c6f9cea41b95.txt  \n",
            "  inflating: /content/YOLOv8Dataset/train/labels/5a9b80060bc0569e6ea72068815daa96.txt  \n",
            "  inflating: /content/YOLOv8Dataset/train/labels/5ad426b33d788b1c770cedbb458b5583.txt  \n",
            "  inflating: /content/YOLOv8Dataset/train/labels/5bd385c37f5c12094d54535bf9dcdfbd.txt  \n",
            "  inflating: /content/YOLOv8Dataset/train/labels/5be75bb2069b7ed6a23b524565e7ef37.txt  \n",
            "  inflating: /content/YOLOv8Dataset/train/labels/5e118b5595308a7ef2769c7729d8d6a7.txt  \n",
            "  inflating: /content/YOLOv8Dataset/train/labels/5e26e19b19fd75fc4f0c21d0219f49d3.txt  \n",
            "  inflating: /content/YOLOv8Dataset/train/labels/5f642f7cefd9a5c4016f3123b634c872.txt  \n",
            "  inflating: /content/YOLOv8Dataset/train/labels/60038dc7aa9027aeca448c249a9c7fc6.txt  \n",
            "  inflating: /content/YOLOv8Dataset/train/labels/60cc44e75b5fd5a78ba8669e7b3a3951.txt  \n",
            "  inflating: /content/YOLOv8Dataset/train/labels/60eed8c16d0b3f39299fffae801849b1.txt  \n",
            "  inflating: /content/YOLOv8Dataset/train/labels/6125704d1304ae903d803c3294b1f435.txt  \n",
            "  inflating: /content/YOLOv8Dataset/train/labels/631d9345bd74e8d60d4077daa40dd9d7.txt  \n",
            "  inflating: /content/YOLOv8Dataset/train/labels/6347ab4ca4433aea3b7842e8f7b9ffed.txt  \n",
            "  inflating: /content/YOLOv8Dataset/train/labels/63dcb65be1e867832fdecd2825607574.txt  \n",
            "  inflating: /content/YOLOv8Dataset/train/labels/656e339f8b5ed470db37bfcc3d318c80.txt  \n",
            "  inflating: /content/YOLOv8Dataset/train/labels/65b5f02957fb730c32c6c6e6978ff9bf.txt  \n",
            "  inflating: /content/YOLOv8Dataset/train/labels/6632d312dec24d870052252fb20433cb.txt  \n",
            "  inflating: /content/YOLOv8Dataset/train/labels/664b4385c381e47f26cc1a7147880227.txt  \n",
            "  inflating: /content/YOLOv8Dataset/train/labels/666d94fc987287b530965a40a3191cf8.txt  \n",
            "  inflating: /content/YOLOv8Dataset/train/labels/66704de10d246858ed04b64140b46668.txt  \n",
            "  inflating: /content/YOLOv8Dataset/train/labels/674ec61123f91fe27600baf673d70f8d.txt  \n",
            "  inflating: /content/YOLOv8Dataset/train/labels/67b7980e72abefdbf85585e4382917ca.txt  \n",
            "  inflating: /content/YOLOv8Dataset/train/labels/681956b92927012d77e6c1090ab6d261.txt  \n",
            "  inflating: /content/YOLOv8Dataset/train/labels/694a9255fefbcc4121e55137fe82c83b.txt  \n",
            "  inflating: /content/YOLOv8Dataset/train/labels/6a53ca2b7d496631f489961a39a399fc.txt  \n",
            "  inflating: /content/YOLOv8Dataset/train/labels/6b71b2ab95c1d7ce8aa0107824cb1678.txt  \n",
            "  inflating: /content/YOLOv8Dataset/train/labels/6b9f21312bbee2f0679f45b0708de50c.txt  \n",
            "  inflating: /content/YOLOv8Dataset/train/labels/6ca20ed7215ce1497f3a3d31bfc6b965.txt  \n",
            "  inflating: /content/YOLOv8Dataset/train/labels/6cc1c70097fbe5d2f618f85df997f64d.txt  \n",
            "  inflating: /content/YOLOv8Dataset/train/labels/6d018f6fc1fea3ab7e80aec9072b4890.txt  \n",
            "  inflating: /content/YOLOv8Dataset/train/labels/6d2cd547b2f496857eb88ad95383d55b.txt  \n",
            "  inflating: /content/YOLOv8Dataset/train/labels/6e88db154445c6023e870c76f43a3675.txt  \n",
            "  inflating: /content/YOLOv8Dataset/train/labels/6eb2237eff0fe022f40ff47ef058a539.txt  \n",
            "  inflating: /content/YOLOv8Dataset/train/labels/6fe8b387edd046e0532bf7cb7f6b5772.txt  \n",
            "  inflating: /content/YOLOv8Dataset/train/labels/703c3c0b01cf3710de9630ad0fdb2311.txt  \n",
            "  inflating: /content/YOLOv8Dataset/train/labels/708431fb36c01fdfc916b1cd89a14de0.txt  \n",
            "  inflating: /content/YOLOv8Dataset/train/labels/722a6967bf79077130903ef79e757089.txt  \n",
            "  inflating: /content/YOLOv8Dataset/train/labels/726e2081e3def40349dba42f4f7b14a4.txt  \n",
            "  inflating: /content/YOLOv8Dataset/train/labels/739c6bd0557c32a83877db57a1bc0ef8.txt  \n",
            "  inflating: /content/YOLOv8Dataset/train/labels/73ac5cff1889e168c28d1b399bfa0392.txt  \n",
            "  inflating: /content/YOLOv8Dataset/train/labels/75d12e10c7b7b811a4be55fa9c2ed194.txt  \n",
            "  inflating: /content/YOLOv8Dataset/train/labels/76aff94570e88ba6de05e6e3b338e1b7.txt  \n",
            "  inflating: /content/YOLOv8Dataset/train/labels/7713615370f82ba88804624d38203383.txt  \n",
            "  inflating: /content/YOLOv8Dataset/train/labels/77a61d878a0909b29142e3c99d08abc8.txt  \n",
            "  inflating: /content/YOLOv8Dataset/train/labels/77bbf1c7696941730af9fdeb15d7eb89.txt  \n",
            "  inflating: /content/YOLOv8Dataset/train/labels/77f05469ab63efa944a79b42738d5003.txt  \n",
            "  inflating: /content/YOLOv8Dataset/train/labels/79f2a699f13ce00c186b909a7adebf3b.txt  \n",
            "  inflating: /content/YOLOv8Dataset/train/labels/79f2e22c79ec6aa6fe135e7ddc943dce.txt  \n",
            "  inflating: /content/YOLOv8Dataset/train/labels/7ae9ac6aa1a36c869fe38018fb5d5d73.txt  \n",
            "  inflating: /content/YOLOv8Dataset/train/labels/7b20fe8dfe57a2cc128b2f2f1aeec02d.txt  \n",
            "  inflating: /content/YOLOv8Dataset/train/labels/7b8b44b536fc03445484916ee2616c6d.txt  \n",
            "  inflating: /content/YOLOv8Dataset/train/labels/7c79bf1d96104bbd339e65b63056445c.txt  \n",
            "  inflating: /content/YOLOv8Dataset/train/labels/7cf41d62783f6b1882bdb3aa41cf17b4.txt  \n",
            "  inflating: /content/YOLOv8Dataset/train/labels/7d54a6a60f9578243ed431167b898024.txt  \n",
            "  inflating: /content/YOLOv8Dataset/train/labels/7ec0b82de04a6a6b865b2be5c32b2bdc.txt  \n",
            "  inflating: /content/YOLOv8Dataset/train/labels/7eec03913c53ecc8216196eb813bfa5f.txt  \n",
            "  inflating: /content/YOLOv8Dataset/train/labels/7f6815f02fb66cffbea3329529c1b285.txt  \n",
            "  inflating: /content/YOLOv8Dataset/train/labels/80343cae3f0949452731fc3ff8d54f34.txt  \n",
            "  inflating: /content/YOLOv8Dataset/train/labels/80f2d8b93d22d01ead55471b705526ac.txt  \n",
            "  inflating: /content/YOLOv8Dataset/train/labels/81dfed1137c55127690ae63565d58740.txt  \n",
            "  inflating: /content/YOLOv8Dataset/train/labels/824f0b2c0965bb6b361c35cbff4cf647.txt  \n",
            "  inflating: /content/YOLOv8Dataset/train/labels/82b19781f1ed4779423257cf1baffb94.txt  \n",
            "  inflating: /content/YOLOv8Dataset/train/labels/82f86208382dfafacebdf4c6c543c86e.txt  \n",
            "  inflating: /content/YOLOv8Dataset/train/labels/84c6bafb19143d3cbb594305d1da3a55.txt  \n",
            "  inflating: /content/YOLOv8Dataset/train/labels/86a9d3021aed2223a990d22c7352cd16.txt  \n",
            "  inflating: /content/YOLOv8Dataset/train/labels/86d71a96d4e55c3faf994f182cce65bd.txt  \n",
            "  inflating: /content/YOLOv8Dataset/train/labels/87da236555603fc480046504a62cf294.txt  \n",
            "  inflating: /content/YOLOv8Dataset/train/labels/87ef8a4e4120ad17fb49a767d17f3d87.txt  \n",
            "  inflating: /content/YOLOv8Dataset/train/labels/8952bdbcafd74d4c7ea8bdcae4ecb438.txt  \n",
            "  inflating: /content/YOLOv8Dataset/train/labels/8a0f72ebc626c55358ae88d61d2cc299.txt  \n",
            "  inflating: /content/YOLOv8Dataset/train/labels/8a92213a323ab564ad8d6b57db9bfa94.txt  \n",
            "  inflating: /content/YOLOv8Dataset/train/labels/8ac3d32d90a6d4cd09cbde4be2c37616.txt  \n",
            "  inflating: /content/YOLOv8Dataset/train/labels/8b27dcce2ee1ee3d35edf58af03537fc.txt  \n",
            "  inflating: /content/YOLOv8Dataset/train/labels/8b3b18b366d7a5ea69df747156251b46.txt  \n",
            "  inflating: /content/YOLOv8Dataset/train/labels/8c0b11593e8b3eda8251b0b18d2bc2c5.txt  \n",
            "  inflating: /content/YOLOv8Dataset/train/labels/8c5b047d4c7716c9ba9305ebe357dace.txt  \n",
            "  inflating: /content/YOLOv8Dataset/train/labels/8e04854aa8a02780272cf9e99ca0cad1.txt  \n",
            "  inflating: /content/YOLOv8Dataset/train/labels/8e5c82793db7914b201d046c505e9152.txt  \n",
            "  inflating: /content/YOLOv8Dataset/train/labels/8f365fe4485c20079e78fc6fc86ca4e6.txt  \n",
            "  inflating: /content/YOLOv8Dataset/train/labels/8f825624e298f5d65d3a6a07112b415b.txt  \n",
            "  inflating: /content/YOLOv8Dataset/train/labels/8f899d7e9312b9f41dfaf4fa0939d928.txt  \n",
            "  inflating: /content/YOLOv8Dataset/train/labels/90ccd2fb35360694aa9e7981001fe7af.txt  \n",
            "  inflating: /content/YOLOv8Dataset/train/labels/91b6f19ab9907b96ebed717fbc884c76.txt  \n",
            "  inflating: /content/YOLOv8Dataset/train/labels/91f963c0382af8a6171735f31cb38cd3.txt  \n",
            "  inflating: /content/YOLOv8Dataset/train/labels/93afb740253bcfb8f6fc86b0e3241ee0.txt  \n",
            "  inflating: /content/YOLOv8Dataset/train/labels/940e9b50729496483f34d35b98fcfe6f.txt  \n",
            "  inflating: /content/YOLOv8Dataset/train/labels/95bece9a8a9bd277f8032d304357e23e.txt  \n",
            "  inflating: /content/YOLOv8Dataset/train/labels/997abd590789dc962696c3246da322e7.txt  \n",
            "  inflating: /content/YOLOv8Dataset/train/labels/99cd3414174a5f05913c219fdc7cd780.txt  \n",
            "  inflating: /content/YOLOv8Dataset/train/labels/9ba4ec97563622cfb348ae04cbed9abe.txt  \n",
            "  inflating: /content/YOLOv8Dataset/train/labels/9ce04fdf7c06d5b74a1c253e91fd3d1b.txt  \n",
            "  inflating: /content/YOLOv8Dataset/train/labels/9d063122134b00cc99b2847e33bc87c6.txt  \n",
            "  inflating: /content/YOLOv8Dataset/train/labels/9d61753acf393310ce9ab3039be7e6ed.txt  \n",
            "  inflating: /content/YOLOv8Dataset/train/labels/9da913d0e59e884c76c4713038ea750b.txt  \n",
            "  inflating: /content/YOLOv8Dataset/train/labels/9dba0f548a94dc45e1d5071b1c21b28e.txt  \n",
            "  inflating: /content/YOLOv8Dataset/train/labels/9e6167340bbd4f5b10e02aa855db53a3.txt  \n",
            "  inflating: /content/YOLOv8Dataset/train/labels/9f0c0e7ff0b038cbdbba327a59fd2dc9.txt  \n",
            "  inflating: /content/YOLOv8Dataset/train/labels/9f30cacd0951e74d371c0dae0134af52.txt  \n",
            "  inflating: /content/YOLOv8Dataset/train/labels/9f34d699834062b4a4af919ceae2a822.txt  \n",
            "  inflating: /content/YOLOv8Dataset/train/labels/9f8096ddef0cdb547d50bc532fb7b279.txt  \n",
            "  inflating: /content/YOLOv8Dataset/train/labels/a000db69fca9906f6b3ba2ac4ccf9601.txt  \n",
            "  inflating: /content/YOLOv8Dataset/train/labels/a073b2cebc06af76fe0023d9a75bbd95.txt  \n",
            "  inflating: /content/YOLOv8Dataset/train/labels/a128e0a5de83e36bffcaf7e3d454b339.txt  \n",
            "  inflating: /content/YOLOv8Dataset/train/labels/a19dc8f58c695519257d0d0e4818d79f.txt  \n",
            "  inflating: /content/YOLOv8Dataset/train/labels/a1df65acd28f4c959f0cd513c26f8a6a.txt  \n",
            "  inflating: /content/YOLOv8Dataset/train/labels/a1ed9b5b820c143ebd47d285b3d1a221.txt  \n",
            "  inflating: /content/YOLOv8Dataset/train/labels/a25c0f47cda46aef9baf42d093a96042.txt  \n",
            "  inflating: /content/YOLOv8Dataset/train/labels/a2b35e6d8a42eece4113b773e1ed12ef.txt  \n",
            "  inflating: /content/YOLOv8Dataset/train/labels/a36d28819327f56928a528121cb00f33.txt  \n",
            "  inflating: /content/YOLOv8Dataset/train/labels/a378c681f89dcd2b39f58a05a88d7184.txt  \n",
            "  inflating: /content/YOLOv8Dataset/train/labels/a3824c16d453d47b669c176642a1a7c3.txt  \n",
            "  inflating: /content/YOLOv8Dataset/train/labels/a49c758ba6c3d035ae99e6d3a586e31b.txt  \n",
            "  inflating: /content/YOLOv8Dataset/train/labels/a520ad38394f44ed7979388cb3cd7e5d.txt  \n",
            "  inflating: /content/YOLOv8Dataset/train/labels/a547ea8e056b6e64131647db59396418.txt  \n",
            "  inflating: /content/YOLOv8Dataset/train/labels/a6e37e998c13fa8dd1d2dcaef0b3bc2f.txt  \n",
            "  inflating: /content/YOLOv8Dataset/train/labels/a795c62f3d123219e06ce2dcecb04abc.txt  \n",
            "  inflating: /content/YOLOv8Dataset/train/labels/a918e5897c2c496ff5adc7f88ae4b495.txt  \n",
            "  inflating: /content/YOLOv8Dataset/train/labels/a941f1f2028724aa78d1ef77b5883399.txt  \n",
            "  inflating: /content/YOLOv8Dataset/train/labels/a9575bd2ceff0f298b209b07d43aad6d.txt  \n",
            "  inflating: /content/YOLOv8Dataset/train/labels/a9763e49ac7e968a36838f777d044a50.txt  \n",
            "  inflating: /content/YOLOv8Dataset/train/labels/a9e40b20892b36d1a4eb25cdc38d6d3c.txt  \n",
            "  inflating: /content/YOLOv8Dataset/train/labels/a9f420bc9ec96d122dbb18e8d51ddffe.txt  \n",
            "  inflating: /content/YOLOv8Dataset/train/labels/ab264099967308e5796dc77d325bd418.txt  \n",
            "  inflating: /content/YOLOv8Dataset/train/labels/aba9b4649105fa9345e7fba460251e28.txt  \n",
            "  inflating: /content/YOLOv8Dataset/train/labels/abd96d12c897243890a96a5eea67710d.txt  \n",
            "  inflating: /content/YOLOv8Dataset/train/labels/abebf125c184b595e083d88ab5ce0287.txt  \n",
            "  inflating: /content/YOLOv8Dataset/train/labels/ac5eefe26eac0e1b40481fea0a0ddb7e.txt  \n",
            "  inflating: /content/YOLOv8Dataset/train/labels/ad0f876b80c30c1804bc7cfc0c9d7817.txt  \n",
            "  inflating: /content/YOLOv8Dataset/train/labels/af490b2220fa5d90063fc425cb824481.txt  \n",
            "  inflating: /content/YOLOv8Dataset/train/labels/b01def8fd605aaf23d405e4fd9912b3c.txt  \n",
            "  inflating: /content/YOLOv8Dataset/train/labels/b02672e8cb2b2383fe689de071e1e860.txt  \n",
            "  inflating: /content/YOLOv8Dataset/train/labels/b02a3c899e648e01c02c1d01e8ffe195.txt  \n",
            "  inflating: /content/YOLOv8Dataset/train/labels/b0bf21781bee0e48b3b963a2ddbe44d6.txt  \n",
            "  inflating: /content/YOLOv8Dataset/train/labels/b0c79d9172501adb5b7bc1f4065c3ffb.txt  \n",
            "  inflating: /content/YOLOv8Dataset/train/labels/b0e041d3ec4655a61de624df8af3839e.txt  \n",
            "  inflating: /content/YOLOv8Dataset/train/labels/b1f01d57b0be363c8d10e015210a241e.txt  \n",
            "  inflating: /content/YOLOv8Dataset/train/labels/b461044a8cd9c11122fdbf8febf7ff18.txt  \n",
            "  inflating: /content/YOLOv8Dataset/train/labels/b84d087b2c551b0b51ce895ee43b6050.txt  \n",
            "  inflating: /content/YOLOv8Dataset/train/labels/bba25143306e7c125463b0535eba33f3.txt  \n",
            "  inflating: /content/YOLOv8Dataset/train/labels/bbcfbc57eafa158106a5aa35ca1fdb3b.txt  \n",
            "  inflating: /content/YOLOv8Dataset/train/labels/bbd65fd03d57ea9e84ac4334dd24a04c.txt  \n",
            "  inflating: /content/YOLOv8Dataset/train/labels/bc11543d25aef09dc2b55fc2183b4cbb.txt  \n",
            "  inflating: /content/YOLOv8Dataset/train/labels/bc37bb10214869eb1efb89059b54b3ba.txt  \n",
            "  inflating: /content/YOLOv8Dataset/train/labels/bc4214328523d11ba3cfc7f13932dd9a.txt  \n",
            "  inflating: /content/YOLOv8Dataset/train/labels/bcbc00dc6bbc6ee2abcf70fca7499ecd.txt  \n",
            "  inflating: /content/YOLOv8Dataset/train/labels/bdc6e9322c80ee942d07130c6ca15288.txt  \n",
            "  inflating: /content/YOLOv8Dataset/train/labels/be4c6ff9aae24c5972c9827e3b813888.txt  \n",
            "  inflating: /content/YOLOv8Dataset/train/labels/bec74d382e7157a4113638ef317eeabc.txt  \n",
            "  inflating: /content/YOLOv8Dataset/train/labels/bef930b2e3177da1006575bc0b5df57e.txt  \n",
            "  inflating: /content/YOLOv8Dataset/train/labels/bf73d55424049a025430250003023d52.txt  \n",
            "  inflating: /content/YOLOv8Dataset/train/labels/bfa4865ba4e63522e23950addadd1d4a.txt  \n",
            "  inflating: /content/YOLOv8Dataset/train/labels/c007a60236a5857e308840c9e8191b6f.txt  \n",
            "  inflating: /content/YOLOv8Dataset/train/labels/c0991fab450328e723f91b3e90f3c928.txt  \n",
            "  inflating: /content/YOLOv8Dataset/train/labels/c1689d9168dd3b22f155157892db15ac.txt  \n",
            "  inflating: /content/YOLOv8Dataset/train/labels/c1ba2c81cb98123cfcada60601e971ee.txt  \n",
            "  inflating: /content/YOLOv8Dataset/train/labels/c277a0045c8540369fe26e2d16993c1d.txt  \n",
            "  inflating: /content/YOLOv8Dataset/train/labels/c2911d1e732aba7d4bb9637fb4e1945c.txt  \n",
            "  inflating: /content/YOLOv8Dataset/train/labels/c2a8726c57397393c84a3d031b0aae18.txt  \n",
            "  inflating: /content/YOLOv8Dataset/train/labels/c2dea807cd7f5427165ff11e5fc16e3a.txt  \n",
            "  inflating: /content/YOLOv8Dataset/train/labels/c3a9e7cefbe99f52e0cab2c25f63ae79.txt  \n",
            "  inflating: /content/YOLOv8Dataset/train/labels/c3c07c6fc61a49daa270f0b3c104cb5d.txt  \n",
            "  inflating: /content/YOLOv8Dataset/train/labels/c3cc4630bc61ac790ded610916c3f9a9.txt  \n",
            "  inflating: /content/YOLOv8Dataset/train/labels/c4410343a3d9d15d04a6eec11d082375.txt  \n",
            "  inflating: /content/YOLOv8Dataset/train/labels/c534b520f568dd9e3ba7ff52f34789d6.txt  \n",
            "  inflating: /content/YOLOv8Dataset/train/labels/c556c41e743bdb2ee2cb11d977c8e3d1.txt  \n",
            "  inflating: /content/YOLOv8Dataset/train/labels/c5ee7200e4b21522b85010efa3cb8a9f.txt  \n",
            "  inflating: /content/YOLOv8Dataset/train/labels/c6a802f2c9db8aaca14aea3f45d71c49.txt  \n",
            "  inflating: /content/YOLOv8Dataset/train/labels/c6f6488b950fe81cc8fa2be9c9e08805.txt  \n",
            "  inflating: /content/YOLOv8Dataset/train/labels/c7b4ad053f5b552d5952e87d7c6d1df7.txt  \n",
            "  inflating: /content/YOLOv8Dataset/train/labels/c8a052db94d61921f5ad4786d1afcde8.txt  \n",
            "  inflating: /content/YOLOv8Dataset/train/labels/c908bb3bc5e712da1a55d69da8ced048.txt  \n",
            "  inflating: /content/YOLOv8Dataset/train/labels/ca7dd49a55a3985f8718f63f1ad92036.txt  \n",
            "  inflating: /content/YOLOv8Dataset/train/labels/cba55850e9f653f8fceb9ea0927ec238.txt  \n",
            "  inflating: /content/YOLOv8Dataset/train/labels/cbab1174d9c3ff3a20c48b614c594594.txt  \n",
            "  inflating: /content/YOLOv8Dataset/train/labels/cbe28bb3d224fce9c167875f2ffeb4af.txt  \n",
            "  inflating: /content/YOLOv8Dataset/train/labels/cca6c65857e661d990c86ee797495048.txt  \n",
            "  inflating: /content/YOLOv8Dataset/train/labels/cd0310ab9fb98ce86e67e6267950c90b.txt  \n",
            "  inflating: /content/YOLOv8Dataset/train/labels/cd9758d803f5f7183670450f3e6f0a74.txt  \n",
            "  inflating: /content/YOLOv8Dataset/train/labels/cf7bbb8dd944d9b6e175d4f96d5f50ae.txt  \n",
            "  inflating: /content/YOLOv8Dataset/train/labels/d00d9cd05676ce8e4bb88ba476fb2246.txt  \n",
            "  inflating: /content/YOLOv8Dataset/train/labels/d1f931eea03a1dbf3235aad8b31a7afc.txt  \n",
            "  inflating: /content/YOLOv8Dataset/train/labels/d3335bd556f2a046e7116b28872f0ab5.txt  \n",
            "  inflating: /content/YOLOv8Dataset/train/labels/d33d60bc2d6607908f4d582999fc5486.txt  \n",
            "  inflating: /content/YOLOv8Dataset/train/labels/d3bd873398930e294511e46c7ddeea0a.txt  \n",
            "  inflating: /content/YOLOv8Dataset/train/labels/d3f01021f782898b550f0590d19b65f9.txt  \n",
            "  inflating: /content/YOLOv8Dataset/train/labels/d40c803400ff1009b32ca3a9a852a7d3.txt  \n",
            "  inflating: /content/YOLOv8Dataset/train/labels/d42d9827748e458a2b7f6e106e483dfb.txt  \n",
            "  inflating: /content/YOLOv8Dataset/train/labels/d50aabfb30a190da7415b65ec64f70a0.txt  \n",
            "  inflating: /content/YOLOv8Dataset/train/labels/d5d7147639a8831b1c83a2991fe5f9f0.txt  \n",
            "  inflating: /content/YOLOv8Dataset/train/labels/d7b37e86c9672860018921df20842fe3.txt  \n",
            "  inflating: /content/YOLOv8Dataset/train/labels/d7f22354befe906c92f6dcc2ac70a9ad.txt  \n",
            "  inflating: /content/YOLOv8Dataset/train/labels/d89be3042daed4bbf5185e09f18ba6c8.txt  \n",
            "  inflating: /content/YOLOv8Dataset/train/labels/d91b29569e1689e77aa7ddb80ec02c59.txt  \n",
            "  inflating: /content/YOLOv8Dataset/train/labels/d97f87528a67e2101aa77b8e113d638b.txt  \n",
            "  inflating: /content/YOLOv8Dataset/train/labels/d9d4ad6c741735f311e4f57225b08daf.txt  \n",
            "  inflating: /content/YOLOv8Dataset/train/labels/d9f8bec98a2bb7df32e6f2418a42e789.txt  \n",
            "  inflating: /content/YOLOv8Dataset/train/labels/da6cdf004ff3cb46cf12decbe6d3a54a.txt  \n",
            "  inflating: /content/YOLOv8Dataset/train/labels/dacd45d7638b158542a0b435a37c58b4.txt  \n",
            "  inflating: /content/YOLOv8Dataset/train/labels/dc0fa66852ade375b5c95b587ef136a9.txt  \n",
            "  inflating: /content/YOLOv8Dataset/train/labels/de8620693d0a8eb331a492b4f1d16bb8.txt  \n",
            "  inflating: /content/YOLOv8Dataset/train/labels/e007bb1938912ea68f9d09dcc3fcd9c5.txt  \n",
            "  inflating: /content/YOLOv8Dataset/train/labels/e0874aecbf2b578fd7f25b268c690332.txt  \n",
            "  inflating: /content/YOLOv8Dataset/train/labels/e10864dbd9fd1fe1ab939d05dacb796e.txt  \n",
            "  inflating: /content/YOLOv8Dataset/train/labels/e16dc5478b0fdc9196c9749a6cbca948.txt  \n",
            "  inflating: /content/YOLOv8Dataset/train/labels/e213eb1f9ee5d97b9124b001672cf92f.txt  \n",
            "  inflating: /content/YOLOv8Dataset/train/labels/e320553442cdb2053a24825c96e5fd7b.txt  \n",
            "  inflating: /content/YOLOv8Dataset/train/labels/e36a6e6af06a1d234ff755d0e969ae06.txt  \n",
            "  inflating: /content/YOLOv8Dataset/train/labels/e36ab0590afa07a3660405a7b99bad27.txt  \n",
            "  inflating: /content/YOLOv8Dataset/train/labels/e3c2c41f95f53db382667ca281962af7.txt  \n",
            "  inflating: /content/YOLOv8Dataset/train/labels/e4495d16f779e8a042be3c921bbfab89.txt  \n",
            "  inflating: /content/YOLOv8Dataset/train/labels/e56912730d92fbd1e8c9fdc14641771d.txt  \n",
            "  inflating: /content/YOLOv8Dataset/train/labels/e653885586a05a7a3f8f78aa4ed5a4c7.txt  \n",
            "  inflating: /content/YOLOv8Dataset/train/labels/e724e05b08fd2a3ee6a4cb5937f7f775.txt  \n",
            "  inflating: /content/YOLOv8Dataset/train/labels/e753e0455c4d5f827eadb63633a1db99.txt  \n",
            "  inflating: /content/YOLOv8Dataset/train/labels/e777a39334113ccf90e1a5084292fb05.txt  \n",
            "  inflating: /content/YOLOv8Dataset/train/labels/e7c19d5c5f4fc5187c9d00aa8763c7db.txt  \n",
            "  inflating: /content/YOLOv8Dataset/train/labels/e8120fdf9537b8e01113e95edef1d1e8.txt  \n",
            "  inflating: /content/YOLOv8Dataset/train/labels/e88a6876b2d49981b6caf2674ca8a207.txt  \n",
            "  inflating: /content/YOLOv8Dataset/train/labels/eb3c43b96c5241ed1221c8e15db5a1f2.txt  \n",
            "  inflating: /content/YOLOv8Dataset/train/labels/eb5123cbba3e3112304699bb63ad0acd.txt  \n",
            "  inflating: /content/YOLOv8Dataset/train/labels/eba8d6d6d1114c90fac02f746d0f4e06.txt  \n",
            "  inflating: /content/YOLOv8Dataset/train/labels/ebd758b3f3ed6e42eaf1525443e6a673.txt  \n",
            "  inflating: /content/YOLOv8Dataset/train/labels/ec26c1e2f70356f703815b2bd31de22c.txt  \n",
            "  inflating: /content/YOLOv8Dataset/train/labels/eceadf24ec07da4a4cf80ea20cd53119.txt  \n",
            "  inflating: /content/YOLOv8Dataset/train/labels/ee497b3789c2df18e62389faa09e4178.txt  \n",
            "  inflating: /content/YOLOv8Dataset/train/labels/eed7b5a3108b8fe84d399870605cdc90.txt  \n",
            "  inflating: /content/YOLOv8Dataset/train/labels/f0ef710f18f8936d5b278dc9f8468fa1.txt  \n",
            "  inflating: /content/YOLOv8Dataset/train/labels/f3ca7f8743c29c59f0174339bb539b4f.txt  \n",
            "  inflating: /content/YOLOv8Dataset/train/labels/f4250869872ab9776754aa890a2788c7.txt  \n",
            "  inflating: /content/YOLOv8Dataset/train/labels/f437bcb31cf1b833c43d6314480a8e2c.txt  \n",
            "  inflating: /content/YOLOv8Dataset/train/labels/f4872a608eae9d2b3267903f66b7e62e.txt  \n",
            "  inflating: /content/YOLOv8Dataset/train/labels/f54599114b5ef048f086e866bb60858a.txt  \n",
            "  inflating: /content/YOLOv8Dataset/train/labels/f54ca4d94ab6425c9d4dc7f51daf9e51.txt  \n",
            "  inflating: /content/YOLOv8Dataset/train/labels/f5565b35bf9606d090e8ea6213289c95.txt  \n",
            "  inflating: /content/YOLOv8Dataset/train/labels/f77c54f1a31e731564088b896795e0ca.txt  \n",
            "  inflating: /content/YOLOv8Dataset/train/labels/fa04effa438ac05c9b7b12c0f1311d74.txt  \n",
            "  inflating: /content/YOLOv8Dataset/train/labels/fb14a18f14905962849b7fe16dfa7cbd.txt  \n",
            "  inflating: /content/YOLOv8Dataset/train/labels/fbebe81c06bb6cac1cbaebe8305bbbb2.txt  \n",
            "  inflating: /content/YOLOv8Dataset/train/labels/fcdfadecd7d50e30ff88845f22b261d0.txt  \n",
            "  inflating: /content/YOLOv8Dataset/train/labels/fd2e27eff38b38e3ab9121e14c1d592a.txt  \n",
            "  inflating: /content/YOLOv8Dataset/train/labels/fde2c20a073d451deef320f777cb93fa.txt  \n",
            "  inflating: /content/YOLOv8Dataset/train/labels/fe1a73029a8d2dde9c60be70b609ae49.txt  \n",
            "  inflating: /content/YOLOv8Dataset/train/labels/fe1ae07360e17cb5f6f9e63436304eb2.txt  \n",
            "  inflating: /content/YOLOv8Dataset/train/labels/ff11b2701fd7c1f51d27dfcf8e2659c5.txt  \n",
            "  inflating: /content/YOLOv8Dataset/train/labels/fffc5d9376895761c37d2b5015c7678c.txt  \n",
            "   creating: /content/YOLOv8Dataset/val/\n",
            "   creating: /content/YOLOv8Dataset/val/images/\n",
            "  inflating: /content/YOLOv8Dataset/val/images/01b450fc543fc1b6b50d909d0b85df5c.png  \n",
            "  inflating: /content/YOLOv8Dataset/val/images/04c01e2ad863e2d1812eefde11f71082.png  \n",
            "  inflating: /content/YOLOv8Dataset/val/images/0abfa5e3cca7f67470996f3ec9257931.png  \n",
            "  inflating: /content/YOLOv8Dataset/val/images/0aed1b5e624e44ffb1947967e00b5289.png  \n",
            "  inflating: /content/YOLOv8Dataset/val/images/0b301050edd3527213784dd218451fd5.png  \n",
            "  inflating: /content/YOLOv8Dataset/val/images/0f4b7f825681ebe0dfe26f4eca42fa44.png  \n",
            "  inflating: /content/YOLOv8Dataset/val/images/13a630e434664c1e04dd8fb55543a77b.png  \n",
            "  inflating: /content/YOLOv8Dataset/val/images/1579d960f511fe782a3f3b9bfa98d6ff.png  \n",
            "  inflating: /content/YOLOv8Dataset/val/images/195f59e35f11da0639cec897d9e2ae83.png  \n",
            "  inflating: /content/YOLOv8Dataset/val/images/1bbea677c7c9a4f7bf5ee526638ae7fe.png  \n",
            "  inflating: /content/YOLOv8Dataset/val/images/1d3b7029a2e6de6c5524995f19a98130.png  \n",
            "  inflating: /content/YOLOv8Dataset/val/images/1f66920bcece13e9af604ab9a064b48c.png  \n",
            "  inflating: /content/YOLOv8Dataset/val/images/1fb013afe423795b8042da357e131967.png  \n",
            "  inflating: /content/YOLOv8Dataset/val/images/201a1e103598d9c4c9ba0f1b0ce24581.png  \n",
            "  inflating: /content/YOLOv8Dataset/val/images/225a7435ecb9438c8ce1f1eb19d8765d.png  \n",
            "  inflating: /content/YOLOv8Dataset/val/images/25a5d10d3394600ac38af0d965685259.png  \n",
            "  inflating: /content/YOLOv8Dataset/val/images/25a74891c84fba785806463f1dc3f068.png  \n",
            "  inflating: /content/YOLOv8Dataset/val/images/27aa16cb64853429da553e2a57ac937c.png  \n",
            "  inflating: /content/YOLOv8Dataset/val/images/2e30d27f481d3f14405266ea86db6a03.png  \n",
            "  inflating: /content/YOLOv8Dataset/val/images/348de43610dbb1df731256b23a32c65f.png  \n",
            "  inflating: /content/YOLOv8Dataset/val/images/35b14e7571c6f653ca92ce4597f06dc2.png  \n",
            "  inflating: /content/YOLOv8Dataset/val/images/363930b6efb4488b2eeb586c8e61e311.png  \n",
            "  inflating: /content/YOLOv8Dataset/val/images/3a3a8695829d370d7266e8c21cefe776.png  \n",
            "  inflating: /content/YOLOv8Dataset/val/images/40be393992cffd8cc3b2a792f8f2c9fa.png  \n",
            "  inflating: /content/YOLOv8Dataset/val/images/417dddaf47ab99c0dad7dcefe43123b2.png  \n",
            "  inflating: /content/YOLOv8Dataset/val/images/45d04c14bcbe94d30baf7901391a0203.png  \n",
            "  inflating: /content/YOLOv8Dataset/val/images/49d0359d04bc6646805d987a1fb36b0e.png  \n",
            "  inflating: /content/YOLOv8Dataset/val/images/4acf74e6dd6ee47ba83c027e0889ec85.png  \n",
            "  inflating: /content/YOLOv8Dataset/val/images/4d390e52f8b23ae877d6b49a11f30ae6.png  \n",
            "  inflating: /content/YOLOv8Dataset/val/images/4ea26a4437654b265861f1999e276e84.png  \n",
            "  inflating: /content/YOLOv8Dataset/val/images/51138d0299d096a905245a42acd1363b.png  \n",
            "  inflating: /content/YOLOv8Dataset/val/images/5188477604d50a1ddd768f3d289fbf31.png  \n",
            "  inflating: /content/YOLOv8Dataset/val/images/52eff7492eb59e2edfccf234035c6868.png  \n",
            "  inflating: /content/YOLOv8Dataset/val/images/5b0d717beacb5e3bbaedc685ce39c661.png  \n",
            "  inflating: /content/YOLOv8Dataset/val/images/5c07d5cadd85fd92adc834782461e416.png  \n",
            "  inflating: /content/YOLOv8Dataset/val/images/5e6a98b1063c466a21f6ad82a4841ba6.png  \n",
            "  inflating: /content/YOLOv8Dataset/val/images/63ce3d1c848c296840f6c5a4142cde1d.png  \n",
            "  inflating: /content/YOLOv8Dataset/val/images/6532bf51fd85f37e89c8a5c74d653bec.png  \n",
            "  inflating: /content/YOLOv8Dataset/val/images/674e2e1f8ce7ac60603e92df14bb339c.png  \n",
            "  inflating: /content/YOLOv8Dataset/val/images/69477740bcb57dfef733879d39c299f0.png  \n",
            "  inflating: /content/YOLOv8Dataset/val/images/6abb2c63de5770a77ca56b138937eed6.png  \n",
            "  inflating: /content/YOLOv8Dataset/val/images/6c000436e0ce124bd315517fd2b29ac1.png  \n",
            "  inflating: /content/YOLOv8Dataset/val/images/7000586e575d88268813474aefec03a1.png  \n",
            "  inflating: /content/YOLOv8Dataset/val/images/70d8b28c4d103ca194b1a53651f398bc.png  \n",
            "  inflating: /content/YOLOv8Dataset/val/images/716a997f127875ff4a984991cf55048a.png  \n",
            "  inflating: /content/YOLOv8Dataset/val/images/722df95cba03edd5634cd17d609dbde5.png  \n",
            "  inflating: /content/YOLOv8Dataset/val/images/727e12564b9d3b4d6ff9b9ea7004649e.png  \n",
            "  inflating: /content/YOLOv8Dataset/val/images/736ec0d5d099cec5132a7d604636f006.png  \n",
            "  inflating: /content/YOLOv8Dataset/val/images/73a1face1274b97e8c5d360ea8687c8e.png  \n",
            "  inflating: /content/YOLOv8Dataset/val/images/74d452ed6ec645bef09313a4ca1c27b6.png  \n",
            "  inflating: /content/YOLOv8Dataset/val/images/768b5cc836e95ea9074ec6b5c759c37a.png  \n",
            "  inflating: /content/YOLOv8Dataset/val/images/769f8cf90c5986484dc98c93e0ff1009.png  \n",
            "  inflating: /content/YOLOv8Dataset/val/images/778cbc4e8aca5d0f92834256b23ee2cd.png  \n",
            "  inflating: /content/YOLOv8Dataset/val/images/805977cfdd1fe67f5cf98ba6a6ab1504.png  \n",
            "  inflating: /content/YOLOv8Dataset/val/images/8104c18922bc8f3f3e04da72b06a23d6.png  \n",
            "  inflating: /content/YOLOv8Dataset/val/images/82555cb8097f95e5e7ffa959460012b1.png  \n",
            "  inflating: /content/YOLOv8Dataset/val/images/867c17400adbd9a805764c8bbfc90ebd.png  \n",
            "  inflating: /content/YOLOv8Dataset/val/images/8bc653ab6ed319d3704755ecd0bb3e82.png  \n",
            "  inflating: /content/YOLOv8Dataset/val/images/91267cf8b4dbf4f0269710cb4dab03d1.png  \n",
            "  inflating: /content/YOLOv8Dataset/val/images/91e155c5d462c3474c2a7c52b37cca33.png  \n",
            "  inflating: /content/YOLOv8Dataset/val/images/93a36ff52673822988f659a9f9177375.png  \n",
            "  inflating: /content/YOLOv8Dataset/val/images/9566082c898fc376aa5dabe64e868986.png  \n",
            "  inflating: /content/YOLOv8Dataset/val/images/96e44fc1d220b16435e73474c3dad994.png  \n",
            "  inflating: /content/YOLOv8Dataset/val/images/9a6ff3983d612a328fc1f855ccfc5706.png  \n",
            "  inflating: /content/YOLOv8Dataset/val/images/a5a42ed4d2d8f284fd89a4bd5f5cfc69.png  \n",
            "  inflating: /content/YOLOv8Dataset/val/images/a849615ba5c3d404b5c98484a91ae449.png  \n",
            "  inflating: /content/YOLOv8Dataset/val/images/a942dd34784097e9caf13c0e47237866.png  \n",
            "  inflating: /content/YOLOv8Dataset/val/images/acf9dc5f34b90effd6aad5b9d4d08a7d.png  \n",
            "  inflating: /content/YOLOv8Dataset/val/images/b3f42f7b24d2d746c779ac94a3df446a.png  \n",
            "  inflating: /content/YOLOv8Dataset/val/images/b64b494e84aa408a2fc104b826805b0b.png  \n",
            "  inflating: /content/YOLOv8Dataset/val/images/b667ae91239fc97b393d6605960da738.png  \n",
            "  inflating: /content/YOLOv8Dataset/val/images/b6a409a2d4e91e102f588ae7bbb7f76d.png  \n",
            "  inflating: /content/YOLOv8Dataset/val/images/b7faaa8e31efd00f11a92efae12e60a7.png  \n",
            "  inflating: /content/YOLOv8Dataset/val/images/b87c043e58692f12dce300935ed351ed.png  \n",
            "  inflating: /content/YOLOv8Dataset/val/images/ba4b80b537f03846bfff2a1b2e5f6058.png  \n",
            "  inflating: /content/YOLOv8Dataset/val/images/bb850ee3a30cbf69df922f036fbfbd8b.png  \n",
            "  inflating: /content/YOLOv8Dataset/val/images/bec9a5c493169c885a5ee3bd2b4ab31c.png  \n",
            "  inflating: /content/YOLOv8Dataset/val/images/c0366c2551b75368c58b0276678955d1.png  \n",
            "  inflating: /content/YOLOv8Dataset/val/images/c72eed16ad3b59d71bc3a55532213dd9.png  \n",
            "  inflating: /content/YOLOv8Dataset/val/images/c8050cdb5088e9197eb0b794eca4d33a.png  \n",
            "  inflating: /content/YOLOv8Dataset/val/images/cb858d634411fc958a40e5531966d54a.png  \n",
            "  inflating: /content/YOLOv8Dataset/val/images/cf4ede5cafb17d9e6b6fe4691d98f7cb.png  \n",
            "  inflating: /content/YOLOv8Dataset/val/images/d29d52bb65c8de39781e324365498c6a.png  \n",
            "  inflating: /content/YOLOv8Dataset/val/images/d89a6426ade6eb797fd7dcc64fe313d2.png  \n",
            "  inflating: /content/YOLOv8Dataset/val/images/dd7e8e4757bb42a642ce66b970491711.png  \n",
            "  inflating: /content/YOLOv8Dataset/val/images/e198e490f75d023a4412758a4804d8d4.png  \n",
            "  inflating: /content/YOLOv8Dataset/val/images/e2b0f7555eaba59bfe1c736aa0f42c14.png  \n",
            "  inflating: /content/YOLOv8Dataset/val/images/e41680f1fd39866d1d16fa683a255cf0.png  \n",
            "  inflating: /content/YOLOv8Dataset/val/images/ef97a4714073c99d7bbc9f3003429316.png  \n",
            "  inflating: /content/YOLOv8Dataset/val/images/f3506f4b41a68fae7fdeacf0bf9ab22c.png  \n",
            "  inflating: /content/YOLOv8Dataset/val/images/f352c483725c8cd3e0dfae4f7b66bfe0.png  \n",
            "  inflating: /content/YOLOv8Dataset/val/images/f50650288b82402fc4de94be9eb34c1d.png  \n",
            "  inflating: /content/YOLOv8Dataset/val/images/f5f32d41725a44765f8cdb6f5a257dc3.png  \n",
            "  inflating: /content/YOLOv8Dataset/val/images/febe645814085d9e86a7fb767c0882f3.png  \n",
            "   creating: /content/YOLOv8Dataset/val/labels/\n",
            "  inflating: /content/YOLOv8Dataset/val/labels/01b450fc543fc1b6b50d909d0b85df5c.txt  \n",
            "  inflating: /content/YOLOv8Dataset/val/labels/04c01e2ad863e2d1812eefde11f71082.txt  \n",
            "  inflating: /content/YOLOv8Dataset/val/labels/0abfa5e3cca7f67470996f3ec9257931.txt  \n",
            "  inflating: /content/YOLOv8Dataset/val/labels/0aed1b5e624e44ffb1947967e00b5289.txt  \n",
            "  inflating: /content/YOLOv8Dataset/val/labels/0b301050edd3527213784dd218451fd5.txt  \n",
            "  inflating: /content/YOLOv8Dataset/val/labels/0f4b7f825681ebe0dfe26f4eca42fa44.txt  \n",
            "  inflating: /content/YOLOv8Dataset/val/labels/13a630e434664c1e04dd8fb55543a77b.txt  \n",
            "  inflating: /content/YOLOv8Dataset/val/labels/1579d960f511fe782a3f3b9bfa98d6ff.txt  \n",
            "  inflating: /content/YOLOv8Dataset/val/labels/195f59e35f11da0639cec897d9e2ae83.txt  \n",
            "  inflating: /content/YOLOv8Dataset/val/labels/1bbea677c7c9a4f7bf5ee526638ae7fe.txt  \n",
            "  inflating: /content/YOLOv8Dataset/val/labels/1d3b7029a2e6de6c5524995f19a98130.txt  \n",
            "  inflating: /content/YOLOv8Dataset/val/labels/1f66920bcece13e9af604ab9a064b48c.txt  \n",
            "  inflating: /content/YOLOv8Dataset/val/labels/1fb013afe423795b8042da357e131967.txt  \n",
            "  inflating: /content/YOLOv8Dataset/val/labels/201a1e103598d9c4c9ba0f1b0ce24581.txt  \n",
            "  inflating: /content/YOLOv8Dataset/val/labels/225a7435ecb9438c8ce1f1eb19d8765d.txt  \n",
            "  inflating: /content/YOLOv8Dataset/val/labels/25a5d10d3394600ac38af0d965685259.txt  \n",
            "  inflating: /content/YOLOv8Dataset/val/labels/25a74891c84fba785806463f1dc3f068.txt  \n",
            "  inflating: /content/YOLOv8Dataset/val/labels/27aa16cb64853429da553e2a57ac937c.txt  \n",
            "  inflating: /content/YOLOv8Dataset/val/labels/2e30d27f481d3f14405266ea86db6a03.txt  \n",
            "  inflating: /content/YOLOv8Dataset/val/labels/348de43610dbb1df731256b23a32c65f.txt  \n",
            "  inflating: /content/YOLOv8Dataset/val/labels/35b14e7571c6f653ca92ce4597f06dc2.txt  \n",
            "  inflating: /content/YOLOv8Dataset/val/labels/363930b6efb4488b2eeb586c8e61e311.txt  \n",
            "  inflating: /content/YOLOv8Dataset/val/labels/3a3a8695829d370d7266e8c21cefe776.txt  \n",
            "  inflating: /content/YOLOv8Dataset/val/labels/40be393992cffd8cc3b2a792f8f2c9fa.txt  \n",
            "  inflating: /content/YOLOv8Dataset/val/labels/417dddaf47ab99c0dad7dcefe43123b2.txt  \n",
            "  inflating: /content/YOLOv8Dataset/val/labels/45d04c14bcbe94d30baf7901391a0203.txt  \n",
            "  inflating: /content/YOLOv8Dataset/val/labels/49d0359d04bc6646805d987a1fb36b0e.txt  \n",
            "  inflating: /content/YOLOv8Dataset/val/labels/4acf74e6dd6ee47ba83c027e0889ec85.txt  \n",
            "  inflating: /content/YOLOv8Dataset/val/labels/4d390e52f8b23ae877d6b49a11f30ae6.txt  \n",
            "  inflating: /content/YOLOv8Dataset/val/labels/4ea26a4437654b265861f1999e276e84.txt  \n",
            "  inflating: /content/YOLOv8Dataset/val/labels/51138d0299d096a905245a42acd1363b.txt  \n",
            "  inflating: /content/YOLOv8Dataset/val/labels/5188477604d50a1ddd768f3d289fbf31.txt  \n",
            "  inflating: /content/YOLOv8Dataset/val/labels/52eff7492eb59e2edfccf234035c6868.txt  \n",
            "  inflating: /content/YOLOv8Dataset/val/labels/5b0d717beacb5e3bbaedc685ce39c661.txt  \n",
            "  inflating: /content/YOLOv8Dataset/val/labels/5c07d5cadd85fd92adc834782461e416.txt  \n",
            "  inflating: /content/YOLOv8Dataset/val/labels/5e6a98b1063c466a21f6ad82a4841ba6.txt  \n",
            "  inflating: /content/YOLOv8Dataset/val/labels/63ce3d1c848c296840f6c5a4142cde1d.txt  \n",
            "  inflating: /content/YOLOv8Dataset/val/labels/6532bf51fd85f37e89c8a5c74d653bec.txt  \n",
            "  inflating: /content/YOLOv8Dataset/val/labels/674e2e1f8ce7ac60603e92df14bb339c.txt  \n",
            "  inflating: /content/YOLOv8Dataset/val/labels/69477740bcb57dfef733879d39c299f0.txt  \n",
            "  inflating: /content/YOLOv8Dataset/val/labels/6abb2c63de5770a77ca56b138937eed6.txt  \n",
            "  inflating: /content/YOLOv8Dataset/val/labels/6c000436e0ce124bd315517fd2b29ac1.txt  \n",
            "  inflating: /content/YOLOv8Dataset/val/labels/7000586e575d88268813474aefec03a1.txt  \n",
            "  inflating: /content/YOLOv8Dataset/val/labels/70d8b28c4d103ca194b1a53651f398bc.txt  \n",
            "  inflating: /content/YOLOv8Dataset/val/labels/716a997f127875ff4a984991cf55048a.txt  \n",
            "  inflating: /content/YOLOv8Dataset/val/labels/722df95cba03edd5634cd17d609dbde5.txt  \n",
            "  inflating: /content/YOLOv8Dataset/val/labels/727e12564b9d3b4d6ff9b9ea7004649e.txt  \n",
            "  inflating: /content/YOLOv8Dataset/val/labels/736ec0d5d099cec5132a7d604636f006.txt  \n",
            "  inflating: /content/YOLOv8Dataset/val/labels/73a1face1274b97e8c5d360ea8687c8e.txt  \n",
            "  inflating: /content/YOLOv8Dataset/val/labels/74d452ed6ec645bef09313a4ca1c27b6.txt  \n",
            "  inflating: /content/YOLOv8Dataset/val/labels/768b5cc836e95ea9074ec6b5c759c37a.txt  \n",
            "  inflating: /content/YOLOv8Dataset/val/labels/769f8cf90c5986484dc98c93e0ff1009.txt  \n",
            "  inflating: /content/YOLOv8Dataset/val/labels/778cbc4e8aca5d0f92834256b23ee2cd.txt  \n",
            "  inflating: /content/YOLOv8Dataset/val/labels/805977cfdd1fe67f5cf98ba6a6ab1504.txt  \n",
            "  inflating: /content/YOLOv8Dataset/val/labels/8104c18922bc8f3f3e04da72b06a23d6.txt  \n",
            "  inflating: /content/YOLOv8Dataset/val/labels/82555cb8097f95e5e7ffa959460012b1.txt  \n",
            "  inflating: /content/YOLOv8Dataset/val/labels/867c17400adbd9a805764c8bbfc90ebd.txt  \n",
            "  inflating: /content/YOLOv8Dataset/val/labels/8bc653ab6ed319d3704755ecd0bb3e82.txt  \n",
            "  inflating: /content/YOLOv8Dataset/val/labels/91267cf8b4dbf4f0269710cb4dab03d1.txt  \n",
            "  inflating: /content/YOLOv8Dataset/val/labels/91e155c5d462c3474c2a7c52b37cca33.txt  \n",
            "  inflating: /content/YOLOv8Dataset/val/labels/93a36ff52673822988f659a9f9177375.txt  \n",
            "  inflating: /content/YOLOv8Dataset/val/labels/9566082c898fc376aa5dabe64e868986.txt  \n",
            "  inflating: /content/YOLOv8Dataset/val/labels/96e44fc1d220b16435e73474c3dad994.txt  \n",
            "  inflating: /content/YOLOv8Dataset/val/labels/9a6ff3983d612a328fc1f855ccfc5706.txt  \n",
            "  inflating: /content/YOLOv8Dataset/val/labels/a5a42ed4d2d8f284fd89a4bd5f5cfc69.txt  \n",
            "  inflating: /content/YOLOv8Dataset/val/labels/a849615ba5c3d404b5c98484a91ae449.txt  \n",
            "  inflating: /content/YOLOv8Dataset/val/labels/a942dd34784097e9caf13c0e47237866.txt  \n",
            "  inflating: /content/YOLOv8Dataset/val/labels/acf9dc5f34b90effd6aad5b9d4d08a7d.txt  \n",
            "  inflating: /content/YOLOv8Dataset/val/labels/b3f42f7b24d2d746c779ac94a3df446a.txt  \n",
            "  inflating: /content/YOLOv8Dataset/val/labels/b64b494e84aa408a2fc104b826805b0b.txt  \n",
            "  inflating: /content/YOLOv8Dataset/val/labels/b667ae91239fc97b393d6605960da738.txt  \n",
            "  inflating: /content/YOLOv8Dataset/val/labels/b6a409a2d4e91e102f588ae7bbb7f76d.txt  \n",
            "  inflating: /content/YOLOv8Dataset/val/labels/b7faaa8e31efd00f11a92efae12e60a7.txt  \n",
            "  inflating: /content/YOLOv8Dataset/val/labels/b87c043e58692f12dce300935ed351ed.txt  \n",
            "  inflating: /content/YOLOv8Dataset/val/labels/ba4b80b537f03846bfff2a1b2e5f6058.txt  \n",
            "  inflating: /content/YOLOv8Dataset/val/labels/bb850ee3a30cbf69df922f036fbfbd8b.txt  \n",
            "  inflating: /content/YOLOv8Dataset/val/labels/bec9a5c493169c885a5ee3bd2b4ab31c.txt  \n",
            "  inflating: /content/YOLOv8Dataset/val/labels/c0366c2551b75368c58b0276678955d1.txt  \n",
            "  inflating: /content/YOLOv8Dataset/val/labels/c72eed16ad3b59d71bc3a55532213dd9.txt  \n",
            "  inflating: /content/YOLOv8Dataset/val/labels/c8050cdb5088e9197eb0b794eca4d33a.txt  \n",
            "  inflating: /content/YOLOv8Dataset/val/labels/cb858d634411fc958a40e5531966d54a.txt  \n",
            "  inflating: /content/YOLOv8Dataset/val/labels/cf4ede5cafb17d9e6b6fe4691d98f7cb.txt  \n",
            "  inflating: /content/YOLOv8Dataset/val/labels/d29d52bb65c8de39781e324365498c6a.txt  \n",
            "  inflating: /content/YOLOv8Dataset/val/labels/d89a6426ade6eb797fd7dcc64fe313d2.txt  \n",
            "  inflating: /content/YOLOv8Dataset/val/labels/dd7e8e4757bb42a642ce66b970491711.txt  \n",
            "  inflating: /content/YOLOv8Dataset/val/labels/e198e490f75d023a4412758a4804d8d4.txt  \n",
            "  inflating: /content/YOLOv8Dataset/val/labels/e2b0f7555eaba59bfe1c736aa0f42c14.txt  \n",
            "  inflating: /content/YOLOv8Dataset/val/labels/e41680f1fd39866d1d16fa683a255cf0.txt  \n",
            "  inflating: /content/YOLOv8Dataset/val/labels/ef97a4714073c99d7bbc9f3003429316.txt  \n",
            "  inflating: /content/YOLOv8Dataset/val/labels/f3506f4b41a68fae7fdeacf0bf9ab22c.txt  \n",
            "  inflating: /content/YOLOv8Dataset/val/labels/f352c483725c8cd3e0dfae4f7b66bfe0.txt  \n",
            "  inflating: /content/YOLOv8Dataset/val/labels/f50650288b82402fc4de94be9eb34c1d.txt  \n",
            "  inflating: /content/YOLOv8Dataset/val/labels/f5f32d41725a44765f8cdb6f5a257dc3.txt  \n",
            "  inflating: /content/YOLOv8Dataset/val/labels/febe645814085d9e86a7fb767c0882f3.txt  \n"
          ]
        }
      ]
    },
    {
      "cell_type": "code",
      "source": [
        "from ultralytics import YOLO\n",
        "import shutil"
      ],
      "metadata": {
        "id": "s59GBJ7VG0KW"
      },
      "execution_count": null,
      "outputs": []
    },
    {
      "cell_type": "code",
      "source": [
        "model = YOLO(\"yolov8l.yaml\")"
      ],
      "metadata": {
        "id": "KjVlzReUHNT9"
      },
      "execution_count": null,
      "outputs": []
    },
    {
      "cell_type": "code",
      "source": [
        "results = model.train(data=\"/content/YOLOv8Dataset/dataset.yaml\", epochs=100, )"
      ],
      "metadata": {
        "colab": {
          "base_uri": "https://localhost:8080/"
        },
        "id": "soApnLKFIXhk",
        "outputId": "ea91e2bd-2744-4fc3-b429-f288e4a55c42"
      },
      "execution_count": null,
      "outputs": [
        {
          "output_type": "stream",
          "name": "stdout",
          "text": [
            "Ultralytics YOLOv8.2.82 🚀 Python-3.10.12 torch-2.4.0+cu121 CUDA:0 (Tesla T4, 15102MiB)\n",
            "\u001b[34m\u001b[1mengine/trainer: \u001b[0mtask=detect, mode=train, model=yolov8l.yaml, data=/content/YOLOv8Dataset/dataset.yaml, epochs=100, time=None, patience=100, batch=16, imgsz=640, save=True, save_period=-1, cache=False, device=None, workers=8, project=None, name=train2, exist_ok=False, pretrained=True, optimizer=auto, verbose=True, seed=0, deterministic=True, single_cls=False, rect=False, cos_lr=False, close_mosaic=10, resume=False, amp=True, fraction=1.0, profile=False, freeze=None, multi_scale=False, overlap_mask=True, mask_ratio=4, dropout=0.0, val=True, split=val, save_json=False, save_hybrid=False, conf=None, iou=0.7, max_det=300, half=False, dnn=False, plots=True, source=None, vid_stride=1, stream_buffer=False, visualize=False, augment=False, agnostic_nms=False, classes=None, retina_masks=False, embed=None, show=False, save_frames=False, save_txt=False, save_conf=False, save_crop=False, show_labels=True, show_conf=True, show_boxes=True, line_width=None, format=torchscript, keras=False, optimize=False, int8=False, dynamic=False, simplify=False, opset=None, workspace=4, nms=False, lr0=0.01, lrf=0.01, momentum=0.937, weight_decay=0.0005, warmup_epochs=3.0, warmup_momentum=0.8, warmup_bias_lr=0.0, box=7.5, cls=0.5, dfl=1.5, pose=12.0, kobj=1.0, label_smoothing=0.0, nbs=64, hsv_h=0.015, hsv_s=0.7, hsv_v=0.4, degrees=0.0, translate=0.1, scale=0.5, shear=0.0, perspective=0.0, flipud=0.0, fliplr=0.5, bgr=0.0, mosaic=0.0, mixup=0.0, copy_paste=0.0, auto_augment=randaugment, erasing=0.4, crop_fraction=1.0, cfg=None, tracker=botsort.yaml, save_dir=runs/detect/train2\n",
            "\n",
            "                   from  n    params  module                                       arguments                     \n",
            "  0                  -1  1      1856  ultralytics.nn.modules.conv.Conv             [3, 64, 3, 2]                 \n",
            "  1                  -1  1     73984  ultralytics.nn.modules.conv.Conv             [64, 128, 3, 2]               \n",
            "  2                  -1  3    279808  ultralytics.nn.modules.block.C2f             [128, 128, 3, True]           \n",
            "  3                  -1  1    295424  ultralytics.nn.modules.conv.Conv             [128, 256, 3, 2]              \n",
            "  4                  -1  6   2101248  ultralytics.nn.modules.block.C2f             [256, 256, 6, True]           \n",
            "  5                  -1  1   1180672  ultralytics.nn.modules.conv.Conv             [256, 512, 3, 2]              \n",
            "  6                  -1  6   8396800  ultralytics.nn.modules.block.C2f             [512, 512, 6, True]           \n",
            "  7                  -1  1   2360320  ultralytics.nn.modules.conv.Conv             [512, 512, 3, 2]              \n",
            "  8                  -1  3   4461568  ultralytics.nn.modules.block.C2f             [512, 512, 3, True]           \n",
            "  9                  -1  1    656896  ultralytics.nn.modules.block.SPPF            [512, 512, 5]                 \n",
            " 10                  -1  1         0  torch.nn.modules.upsampling.Upsample         [None, 2, 'nearest']          \n",
            " 11             [-1, 6]  1         0  ultralytics.nn.modules.conv.Concat           [1]                           \n",
            " 12                  -1  3   4723712  ultralytics.nn.modules.block.C2f             [1024, 512, 3]                \n",
            " 13                  -1  1         0  torch.nn.modules.upsampling.Upsample         [None, 2, 'nearest']          \n",
            " 14             [-1, 4]  1         0  ultralytics.nn.modules.conv.Concat           [1]                           \n",
            " 15                  -1  3   1247744  ultralytics.nn.modules.block.C2f             [768, 256, 3]                 \n",
            " 16                  -1  1    590336  ultralytics.nn.modules.conv.Conv             [256, 256, 3, 2]              \n",
            " 17            [-1, 12]  1         0  ultralytics.nn.modules.conv.Concat           [1]                           \n",
            " 18                  -1  3   4592640  ultralytics.nn.modules.block.C2f             [768, 512, 3]                 \n",
            " 19                  -1  1   2360320  ultralytics.nn.modules.conv.Conv             [512, 512, 3, 2]              \n",
            " 20             [-1, 9]  1         0  ultralytics.nn.modules.conv.Concat           [1]                           \n",
            " 21                  -1  3   4723712  ultralytics.nn.modules.block.C2f             [1024, 512, 3]                \n",
            " 22        [15, 18, 21]  1   5585884  ultralytics.nn.modules.head.Detect           [4, [256, 512, 512]]          \n",
            "YOLOv8l summary: 365 layers, 43,632,924 parameters, 43,632,908 gradients, 165.4 GFLOPs\n",
            "\n",
            "\u001b[34m\u001b[1mTensorBoard: \u001b[0mStart with 'tensorboard --logdir runs/detect/train2', view at http://localhost:6006/\n",
            "Freezing layer 'model.22.dfl.conv.weight'\n",
            "\u001b[34m\u001b[1mAMP: \u001b[0mrunning Automatic Mixed Precision (AMP) checks with YOLOv8n...\n",
            "\u001b[34m\u001b[1mAMP: \u001b[0mchecks passed ✅\n"
          ]
        },
        {
          "output_type": "stream",
          "name": "stderr",
          "text": [
            "\u001b[34m\u001b[1mtrain: \u001b[0mScanning /content/YOLOv8Dataset/train/labels.cache... 375 images, 0 backgrounds, 0 corrupt: 100%|██████████| 375/375 [00:00<?, ?it/s]"
          ]
        },
        {
          "output_type": "stream",
          "name": "stdout",
          "text": [
            "\u001b[34m\u001b[1malbumentations: \u001b[0mBlur(p=0.01, blur_limit=(3, 7)), MedianBlur(p=0.01, blur_limit=(3, 7)), ToGray(p=0.01), CLAHE(p=0.01, clip_limit=(1, 4.0), tile_grid_size=(8, 8))\n"
          ]
        },
        {
          "output_type": "stream",
          "name": "stderr",
          "text": [
            "\n",
            "/usr/lib/python3.10/multiprocessing/popen_fork.py:66: RuntimeWarning: os.fork() was called. os.fork() is incompatible with multithreaded code, and JAX is multithreaded, so this will likely lead to a deadlock.\n",
            "  self.pid = os.fork()\n",
            "\u001b[34m\u001b[1mval: \u001b[0mScanning /content/YOLOv8Dataset/val/labels.cache... 94 images, 0 backgrounds, 0 corrupt: 100%|██████████| 94/94 [00:00<?, ?it/s]\n"
          ]
        },
        {
          "output_type": "stream",
          "name": "stdout",
          "text": [
            "Plotting labels to runs/detect/train2/labels.jpg... \n",
            "\u001b[34m\u001b[1moptimizer:\u001b[0m 'optimizer=auto' found, ignoring 'lr0=0.01' and 'momentum=0.937' and determining best 'optimizer', 'lr0' and 'momentum' automatically... \n",
            "\u001b[34m\u001b[1moptimizer:\u001b[0m AdamW(lr=0.00125, momentum=0.9) with parameter groups 97 weight(decay=0.0), 104 weight(decay=0.0005), 103 bias(decay=0.0)\n",
            "\u001b[34m\u001b[1mTensorBoard: \u001b[0mmodel graph visualization added ✅\n",
            "Image sizes 640 train, 640 val\n",
            "Using 2 dataloader workers\n",
            "Logging results to \u001b[1mruns/detect/train2\u001b[0m\n",
            "Starting training for 100 epochs...\n",
            "\n",
            "      Epoch    GPU_mem   box_loss   cls_loss   dfl_loss  Instances       Size\n"
          ]
        },
        {
          "output_type": "stream",
          "name": "stderr",
          "text": [
            "      1/100      11.2G      3.002      4.427      4.257         50        640: 100%|██████████| 24/24 [00:21<00:00,  1.11it/s]\n",
            "                 Class     Images  Instances      Box(P          R      mAP50  mAP50-95): 100%|██████████| 3/3 [00:02<00:00,  1.49it/s]"
          ]
        },
        {
          "output_type": "stream",
          "name": "stdout",
          "text": [
            "                   all         94        345    0.00294      0.184    0.00298   0.000756\n"
          ]
        },
        {
          "output_type": "stream",
          "name": "stderr",
          "text": [
            "\n"
          ]
        },
        {
          "output_type": "stream",
          "name": "stdout",
          "text": [
            "\n",
            "      Epoch    GPU_mem   box_loss   cls_loss   dfl_loss  Instances       Size\n"
          ]
        },
        {
          "output_type": "stream",
          "name": "stderr",
          "text": [
            "      2/100      10.6G      2.931      4.084      3.981         22        640: 100%|██████████| 24/24 [00:19<00:00,  1.20it/s]\n",
            "                 Class     Images  Instances      Box(P          R      mAP50  mAP50-95): 100%|██████████| 3/3 [00:02<00:00,  1.38it/s]"
          ]
        },
        {
          "output_type": "stream",
          "name": "stdout",
          "text": [
            "                   all         94        345    0.00528      0.126    0.00451     0.0012\n"
          ]
        },
        {
          "output_type": "stream",
          "name": "stderr",
          "text": [
            "\n"
          ]
        },
        {
          "output_type": "stream",
          "name": "stdout",
          "text": [
            "\n",
            "      Epoch    GPU_mem   box_loss   cls_loss   dfl_loss  Instances       Size\n"
          ]
        },
        {
          "output_type": "stream",
          "name": "stderr",
          "text": [
            "      3/100      10.5G      2.943      3.973      3.727         27        640: 100%|██████████| 24/24 [00:20<00:00,  1.18it/s]\n",
            "                 Class     Images  Instances      Box(P          R      mAP50  mAP50-95): 100%|██████████| 3/3 [00:02<00:00,  1.00it/s]"
          ]
        },
        {
          "output_type": "stream",
          "name": "stdout",
          "text": [
            "                   all         94        345    0.00203       0.15    0.00521    0.00134\n"
          ]
        },
        {
          "output_type": "stream",
          "name": "stderr",
          "text": [
            "\n"
          ]
        },
        {
          "output_type": "stream",
          "name": "stdout",
          "text": [
            "\n",
            "      Epoch    GPU_mem   box_loss   cls_loss   dfl_loss  Instances       Size\n"
          ]
        },
        {
          "output_type": "stream",
          "name": "stderr",
          "text": [
            "      4/100      10.6G      2.884      3.904       3.54         22        640: 100%|██████████| 24/24 [00:20<00:00,  1.19it/s]\n",
            "                 Class     Images  Instances      Box(P          R      mAP50  mAP50-95): 100%|██████████| 3/3 [00:02<00:00,  1.36it/s]"
          ]
        },
        {
          "output_type": "stream",
          "name": "stdout",
          "text": [
            "                   all         94        345    0.00266      0.235     0.0025   0.000844\n"
          ]
        },
        {
          "output_type": "stream",
          "name": "stderr",
          "text": [
            "\n"
          ]
        },
        {
          "output_type": "stream",
          "name": "stdout",
          "text": [
            "\n",
            "      Epoch    GPU_mem   box_loss   cls_loss   dfl_loss  Instances       Size\n"
          ]
        },
        {
          "output_type": "stream",
          "name": "stderr",
          "text": [
            "      5/100      10.3G      2.823      3.812      3.364         34        640: 100%|██████████| 24/24 [00:22<00:00,  1.08it/s]\n",
            "                 Class     Images  Instances      Box(P          R      mAP50  mAP50-95): 100%|██████████| 3/3 [00:02<00:00,  1.18it/s]"
          ]
        },
        {
          "output_type": "stream",
          "name": "stdout",
          "text": [
            "                   all         94        345      0.514     0.0101    0.00397    0.00104\n"
          ]
        },
        {
          "output_type": "stream",
          "name": "stderr",
          "text": [
            "\n"
          ]
        },
        {
          "output_type": "stream",
          "name": "stdout",
          "text": [
            "\n",
            "      Epoch    GPU_mem   box_loss   cls_loss   dfl_loss  Instances       Size\n"
          ]
        },
        {
          "output_type": "stream",
          "name": "stderr",
          "text": [
            "      6/100      10.3G       2.83      3.788      3.253         12        640: 100%|██████████| 24/24 [00:19<00:00,  1.20it/s]\n",
            "                 Class     Images  Instances      Box(P          R      mAP50  mAP50-95): 100%|██████████| 3/3 [00:03<00:00,  1.19s/it]"
          ]
        },
        {
          "output_type": "stream",
          "name": "stdout",
          "text": [
            "                   all         94        345      0.503      0.146    0.00217   0.000761\n"
          ]
        },
        {
          "output_type": "stream",
          "name": "stderr",
          "text": [
            "\n"
          ]
        },
        {
          "output_type": "stream",
          "name": "stdout",
          "text": [
            "\n",
            "      Epoch    GPU_mem   box_loss   cls_loss   dfl_loss  Instances       Size\n"
          ]
        },
        {
          "output_type": "stream",
          "name": "stderr",
          "text": [
            "      7/100      10.6G      2.872      3.793      3.262         33        640: 100%|██████████| 24/24 [00:20<00:00,  1.17it/s]\n",
            "                 Class     Images  Instances      Box(P          R      mAP50  mAP50-95): 100%|██████████| 3/3 [00:02<00:00,  1.33it/s]"
          ]
        },
        {
          "output_type": "stream",
          "name": "stdout",
          "text": [
            "                   all         94        345      0.523     0.0201    0.00709    0.00155\n"
          ]
        },
        {
          "output_type": "stream",
          "name": "stderr",
          "text": [
            "\n"
          ]
        },
        {
          "output_type": "stream",
          "name": "stdout",
          "text": [
            "\n",
            "      Epoch    GPU_mem   box_loss   cls_loss   dfl_loss  Instances       Size\n"
          ]
        },
        {
          "output_type": "stream",
          "name": "stderr",
          "text": [
            "      8/100      10.3G      2.761      3.722      3.127         19        640: 100%|██████████| 24/24 [00:20<00:00,  1.17it/s]\n",
            "                 Class     Images  Instances      Box(P          R      mAP50  mAP50-95): 100%|██████████| 3/3 [00:02<00:00,  1.07it/s]"
          ]
        },
        {
          "output_type": "stream",
          "name": "stdout",
          "text": [
            "                   all         94        345    0.00381      0.278    0.00321   0.000953\n"
          ]
        },
        {
          "output_type": "stream",
          "name": "stderr",
          "text": [
            "\n"
          ]
        },
        {
          "output_type": "stream",
          "name": "stdout",
          "text": [
            "\n",
            "      Epoch    GPU_mem   box_loss   cls_loss   dfl_loss  Instances       Size\n"
          ]
        },
        {
          "output_type": "stream",
          "name": "stderr",
          "text": [
            "      9/100      10.6G      2.776      3.694        3.1         26        640: 100%|██████████| 24/24 [00:19<00:00,  1.22it/s]\n",
            "                 Class     Images  Instances      Box(P          R      mAP50  mAP50-95): 100%|██████████| 3/3 [00:03<00:00,  1.07s/it]"
          ]
        },
        {
          "output_type": "stream",
          "name": "stdout",
          "text": [
            "                   all         94        345      0.503      0.141    0.00239   0.000777\n"
          ]
        },
        {
          "output_type": "stream",
          "name": "stderr",
          "text": [
            "\n"
          ]
        },
        {
          "output_type": "stream",
          "name": "stdout",
          "text": [
            "\n",
            "      Epoch    GPU_mem   box_loss   cls_loss   dfl_loss  Instances       Size\n"
          ]
        },
        {
          "output_type": "stream",
          "name": "stderr",
          "text": [
            "     10/100      10.4G      2.804      3.691      3.078         45        640: 100%|██████████| 24/24 [00:19<00:00,  1.20it/s]\n",
            "                 Class     Images  Instances      Box(P          R      mAP50  mAP50-95): 100%|██████████| 3/3 [00:02<00:00,  1.13it/s]"
          ]
        },
        {
          "output_type": "stream",
          "name": "stdout",
          "text": [
            "                   all         94        345      0.267     0.0482     0.0105    0.00343\n"
          ]
        },
        {
          "output_type": "stream",
          "name": "stderr",
          "text": [
            "\n"
          ]
        },
        {
          "output_type": "stream",
          "name": "stdout",
          "text": [
            "\n",
            "      Epoch    GPU_mem   box_loss   cls_loss   dfl_loss  Instances       Size\n"
          ]
        },
        {
          "output_type": "stream",
          "name": "stderr",
          "text": [
            "     11/100      10.7G      2.639      3.644      3.013         17        640: 100%|██████████| 24/24 [00:19<00:00,  1.20it/s]\n",
            "                 Class     Images  Instances      Box(P          R      mAP50  mAP50-95): 100%|██████████| 3/3 [00:02<00:00,  1.26it/s]"
          ]
        },
        {
          "output_type": "stream",
          "name": "stdout",
          "text": [
            "                   all         94        345    0.00391      0.316     0.0063    0.00197\n"
          ]
        },
        {
          "output_type": "stream",
          "name": "stderr",
          "text": [
            "\n"
          ]
        },
        {
          "output_type": "stream",
          "name": "stdout",
          "text": [
            "\n",
            "      Epoch    GPU_mem   box_loss   cls_loss   dfl_loss  Instances       Size\n"
          ]
        },
        {
          "output_type": "stream",
          "name": "stderr",
          "text": [
            "     12/100      10.3G      2.644      3.682      3.008         41        640: 100%|██████████| 24/24 [00:19<00:00,  1.20it/s]\n",
            "                 Class     Images  Instances      Box(P          R      mAP50  mAP50-95): 100%|██████████| 3/3 [00:02<00:00,  1.28it/s]"
          ]
        },
        {
          "output_type": "stream",
          "name": "stdout",
          "text": [
            "                   all         94        345      0.769     0.0706     0.0246    0.00706\n"
          ]
        },
        {
          "output_type": "stream",
          "name": "stderr",
          "text": [
            "\n"
          ]
        },
        {
          "output_type": "stream",
          "name": "stdout",
          "text": [
            "\n",
            "      Epoch    GPU_mem   box_loss   cls_loss   dfl_loss  Instances       Size\n"
          ]
        },
        {
          "output_type": "stream",
          "name": "stderr",
          "text": [
            "     13/100      10.6G      2.598      3.588      2.978         35        640: 100%|██████████| 24/24 [00:20<00:00,  1.16it/s]\n",
            "                 Class     Images  Instances      Box(P          R      mAP50  mAP50-95): 100%|██████████| 3/3 [00:02<00:00,  1.19it/s]"
          ]
        },
        {
          "output_type": "stream",
          "name": "stdout",
          "text": [
            "                   all         94        345        0.3     0.0745     0.0259    0.00797\n"
          ]
        },
        {
          "output_type": "stream",
          "name": "stderr",
          "text": [
            "\n"
          ]
        },
        {
          "output_type": "stream",
          "name": "stdout",
          "text": [
            "\n",
            "      Epoch    GPU_mem   box_loss   cls_loss   dfl_loss  Instances       Size\n"
          ]
        },
        {
          "output_type": "stream",
          "name": "stderr",
          "text": [
            "     14/100      10.6G      2.555      3.538      2.918         16        640: 100%|██████████| 24/24 [00:20<00:00,  1.18it/s]\n",
            "                 Class     Images  Instances      Box(P          R      mAP50  mAP50-95): 100%|██████████| 3/3 [00:02<00:00,  1.27it/s]"
          ]
        },
        {
          "output_type": "stream",
          "name": "stdout",
          "text": [
            "                   all         94        345      0.537     0.0602     0.0255     0.0071\n"
          ]
        },
        {
          "output_type": "stream",
          "name": "stderr",
          "text": [
            "\n"
          ]
        },
        {
          "output_type": "stream",
          "name": "stdout",
          "text": [
            "\n",
            "      Epoch    GPU_mem   box_loss   cls_loss   dfl_loss  Instances       Size\n"
          ]
        },
        {
          "output_type": "stream",
          "name": "stderr",
          "text": [
            "     15/100      10.6G      2.521      3.494       2.92         19        640: 100%|██████████| 24/24 [00:20<00:00,  1.16it/s]\n",
            "                 Class     Images  Instances      Box(P          R      mAP50  mAP50-95): 100%|██████████| 3/3 [00:02<00:00,  1.14it/s]"
          ]
        },
        {
          "output_type": "stream",
          "name": "stdout",
          "text": [
            "                   all         94        345      0.567     0.0439     0.0283    0.00886\n"
          ]
        },
        {
          "output_type": "stream",
          "name": "stderr",
          "text": [
            "\n"
          ]
        },
        {
          "output_type": "stream",
          "name": "stdout",
          "text": [
            "\n",
            "      Epoch    GPU_mem   box_loss   cls_loss   dfl_loss  Instances       Size\n"
          ]
        },
        {
          "output_type": "stream",
          "name": "stderr",
          "text": [
            "     16/100      10.6G      2.523      3.513       2.94         28        640: 100%|██████████| 24/24 [00:19<00:00,  1.21it/s]\n",
            "                 Class     Images  Instances      Box(P          R      mAP50  mAP50-95): 100%|██████████| 3/3 [00:02<00:00,  1.13it/s]"
          ]
        },
        {
          "output_type": "stream",
          "name": "stdout",
          "text": [
            "                   all         94        345      0.538     0.0743     0.0249    0.00813\n"
          ]
        },
        {
          "output_type": "stream",
          "name": "stderr",
          "text": [
            "\n"
          ]
        },
        {
          "output_type": "stream",
          "name": "stdout",
          "text": [
            "\n",
            "      Epoch    GPU_mem   box_loss   cls_loss   dfl_loss  Instances       Size\n"
          ]
        },
        {
          "output_type": "stream",
          "name": "stderr",
          "text": [
            "     17/100      10.7G      2.427       3.42      2.888         56        640: 100%|██████████| 24/24 [00:19<00:00,  1.21it/s]\n",
            "                 Class     Images  Instances      Box(P          R      mAP50  mAP50-95): 100%|██████████| 3/3 [00:03<00:00,  1.01s/it]"
          ]
        },
        {
          "output_type": "stream",
          "name": "stdout",
          "text": [
            "                   all         94        345      0.522      0.151     0.0152    0.00535\n"
          ]
        },
        {
          "output_type": "stream",
          "name": "stderr",
          "text": [
            "\n"
          ]
        },
        {
          "output_type": "stream",
          "name": "stdout",
          "text": [
            "\n",
            "      Epoch    GPU_mem   box_loss   cls_loss   dfl_loss  Instances       Size\n"
          ]
        },
        {
          "output_type": "stream",
          "name": "stderr",
          "text": [
            "     18/100      10.6G      2.443       3.47      2.914         51        640: 100%|██████████| 24/24 [00:19<00:00,  1.21it/s]\n",
            "                 Class     Images  Instances      Box(P          R      mAP50  mAP50-95): 100%|██████████| 3/3 [00:03<00:00,  1.16s/it]"
          ]
        },
        {
          "output_type": "stream",
          "name": "stdout",
          "text": [
            "                   all         94        345      0.514     0.0504     0.0287     0.0107\n"
          ]
        },
        {
          "output_type": "stream",
          "name": "stderr",
          "text": [
            "\n"
          ]
        },
        {
          "output_type": "stream",
          "name": "stdout",
          "text": [
            "\n",
            "      Epoch    GPU_mem   box_loss   cls_loss   dfl_loss  Instances       Size\n"
          ]
        },
        {
          "output_type": "stream",
          "name": "stderr",
          "text": [
            "     19/100      10.6G      2.371      3.454      2.819         35        640: 100%|██████████| 24/24 [00:19<00:00,  1.22it/s]\n",
            "                 Class     Images  Instances      Box(P          R      mAP50  mAP50-95): 100%|██████████| 3/3 [00:02<00:00,  1.11it/s]"
          ]
        },
        {
          "output_type": "stream",
          "name": "stdout",
          "text": [
            "                   all         94        345        0.6     0.0755     0.0578     0.0205\n"
          ]
        },
        {
          "output_type": "stream",
          "name": "stderr",
          "text": [
            "\n"
          ]
        },
        {
          "output_type": "stream",
          "name": "stdout",
          "text": [
            "\n",
            "      Epoch    GPU_mem   box_loss   cls_loss   dfl_loss  Instances       Size\n"
          ]
        },
        {
          "output_type": "stream",
          "name": "stderr",
          "text": [
            "     20/100      10.3G      2.411      3.386      2.848         21        640: 100%|██████████| 24/24 [00:20<00:00,  1.18it/s]\n",
            "                 Class     Images  Instances      Box(P          R      mAP50  mAP50-95): 100%|██████████| 3/3 [00:02<00:00,  1.22it/s]"
          ]
        },
        {
          "output_type": "stream",
          "name": "stdout",
          "text": [
            "                   all         94        345      0.586     0.0945     0.0534      0.018\n"
          ]
        },
        {
          "output_type": "stream",
          "name": "stderr",
          "text": [
            "\n"
          ]
        },
        {
          "output_type": "stream",
          "name": "stdout",
          "text": [
            "\n",
            "      Epoch    GPU_mem   box_loss   cls_loss   dfl_loss  Instances       Size\n"
          ]
        },
        {
          "output_type": "stream",
          "name": "stderr",
          "text": [
            "     21/100      10.6G      2.361      3.375      2.788         19        640: 100%|██████████| 24/24 [00:19<00:00,  1.22it/s]\n",
            "                 Class     Images  Instances      Box(P          R      mAP50  mAP50-95): 100%|██████████| 3/3 [00:03<00:00,  1.10s/it]"
          ]
        },
        {
          "output_type": "stream",
          "name": "stdout",
          "text": [
            "                   all         94        345      0.679     0.0704     0.0634     0.0239\n"
          ]
        },
        {
          "output_type": "stream",
          "name": "stderr",
          "text": [
            "\n"
          ]
        },
        {
          "output_type": "stream",
          "name": "stdout",
          "text": [
            "\n",
            "      Epoch    GPU_mem   box_loss   cls_loss   dfl_loss  Instances       Size\n"
          ]
        },
        {
          "output_type": "stream",
          "name": "stderr",
          "text": [
            "     22/100      10.7G      2.338        3.3      2.771         11        640: 100%|██████████| 24/24 [00:19<00:00,  1.21it/s]\n",
            "                 Class     Images  Instances      Box(P          R      mAP50  mAP50-95): 100%|██████████| 3/3 [00:02<00:00,  1.30it/s]"
          ]
        },
        {
          "output_type": "stream",
          "name": "stdout",
          "text": [
            "                   all         94        345      0.601     0.0964     0.0618     0.0223\n"
          ]
        },
        {
          "output_type": "stream",
          "name": "stderr",
          "text": [
            "\n"
          ]
        },
        {
          "output_type": "stream",
          "name": "stdout",
          "text": [
            "\n",
            "      Epoch    GPU_mem   box_loss   cls_loss   dfl_loss  Instances       Size\n"
          ]
        },
        {
          "output_type": "stream",
          "name": "stderr",
          "text": [
            "     23/100      10.3G      2.371      3.308      2.769         16        640: 100%|██████████| 24/24 [00:19<00:00,  1.21it/s]\n",
            "                 Class     Images  Instances      Box(P          R      mAP50  mAP50-95): 100%|██████████| 3/3 [00:02<00:00,  1.33it/s]"
          ]
        },
        {
          "output_type": "stream",
          "name": "stdout",
          "text": [
            "                   all         94        345      0.635      0.092     0.0863     0.0283\n"
          ]
        },
        {
          "output_type": "stream",
          "name": "stderr",
          "text": [
            "\n"
          ]
        },
        {
          "output_type": "stream",
          "name": "stdout",
          "text": [
            "\n",
            "      Epoch    GPU_mem   box_loss   cls_loss   dfl_loss  Instances       Size\n"
          ]
        },
        {
          "output_type": "stream",
          "name": "stderr",
          "text": [
            "     24/100      10.3G      2.302      3.278      2.738         12        640: 100%|██████████| 24/24 [00:21<00:00,  1.14it/s]\n",
            "                 Class     Images  Instances      Box(P          R      mAP50  mAP50-95): 100%|██████████| 3/3 [00:02<00:00,  1.05it/s]"
          ]
        },
        {
          "output_type": "stream",
          "name": "stdout",
          "text": [
            "                   all         94        345      0.625     0.0965     0.0581     0.0216\n"
          ]
        },
        {
          "output_type": "stream",
          "name": "stderr",
          "text": [
            "\n"
          ]
        },
        {
          "output_type": "stream",
          "name": "stdout",
          "text": [
            "\n",
            "      Epoch    GPU_mem   box_loss   cls_loss   dfl_loss  Instances       Size\n"
          ]
        },
        {
          "output_type": "stream",
          "name": "stderr",
          "text": [
            "     25/100      10.6G       2.25      3.232      2.719         30        640: 100%|██████████| 24/24 [00:20<00:00,  1.20it/s]\n",
            "                 Class     Images  Instances      Box(P          R      mAP50  mAP50-95): 100%|██████████| 3/3 [00:02<00:00,  1.11it/s]"
          ]
        },
        {
          "output_type": "stream",
          "name": "stdout",
          "text": [
            "                   all         94        345      0.431      0.121      0.108     0.0419\n"
          ]
        },
        {
          "output_type": "stream",
          "name": "stderr",
          "text": [
            "\n"
          ]
        },
        {
          "output_type": "stream",
          "name": "stdout",
          "text": [
            "\n",
            "      Epoch    GPU_mem   box_loss   cls_loss   dfl_loss  Instances       Size\n"
          ]
        },
        {
          "output_type": "stream",
          "name": "stderr",
          "text": [
            "     26/100      10.6G      2.279      3.196      2.685         26        640: 100%|██████████| 24/24 [00:20<00:00,  1.18it/s]\n",
            "                 Class     Images  Instances      Box(P          R      mAP50  mAP50-95): 100%|██████████| 3/3 [00:02<00:00,  1.33it/s]"
          ]
        },
        {
          "output_type": "stream",
          "name": "stdout",
          "text": [
            "                   all         94        345      0.626      0.112     0.0975     0.0353\n"
          ]
        },
        {
          "output_type": "stream",
          "name": "stderr",
          "text": [
            "\n"
          ]
        },
        {
          "output_type": "stream",
          "name": "stdout",
          "text": [
            "\n",
            "      Epoch    GPU_mem   box_loss   cls_loss   dfl_loss  Instances       Size\n"
          ]
        },
        {
          "output_type": "stream",
          "name": "stderr",
          "text": [
            "     27/100      10.7G       2.28      3.204      2.669         36        640: 100%|██████████| 24/24 [00:20<00:00,  1.18it/s]\n",
            "                 Class     Images  Instances      Box(P          R      mAP50  mAP50-95): 100%|██████████| 3/3 [00:02<00:00,  1.42it/s]"
          ]
        },
        {
          "output_type": "stream",
          "name": "stdout",
          "text": [
            "                   all         94        345        0.6      0.102     0.0796     0.0269\n"
          ]
        },
        {
          "output_type": "stream",
          "name": "stderr",
          "text": [
            "\n"
          ]
        },
        {
          "output_type": "stream",
          "name": "stdout",
          "text": [
            "\n",
            "      Epoch    GPU_mem   box_loss   cls_loss   dfl_loss  Instances       Size\n"
          ]
        },
        {
          "output_type": "stream",
          "name": "stderr",
          "text": [
            "     28/100      10.3G      2.233       3.19      2.621         10        640: 100%|██████████| 24/24 [00:19<00:00,  1.20it/s]\n",
            "                 Class     Images  Instances      Box(P          R      mAP50  mAP50-95): 100%|██████████| 3/3 [00:02<00:00,  1.28it/s]"
          ]
        },
        {
          "output_type": "stream",
          "name": "stdout",
          "text": [
            "                   all         94        345      0.634      0.107      0.103     0.0333\n"
          ]
        },
        {
          "output_type": "stream",
          "name": "stderr",
          "text": [
            "\n"
          ]
        },
        {
          "output_type": "stream",
          "name": "stdout",
          "text": [
            "\n",
            "      Epoch    GPU_mem   box_loss   cls_loss   dfl_loss  Instances       Size\n"
          ]
        },
        {
          "output_type": "stream",
          "name": "stderr",
          "text": [
            "     29/100      10.7G      2.237       3.09      2.634         25        640: 100%|██████████| 24/24 [00:20<00:00,  1.17it/s]\n",
            "                 Class     Images  Instances      Box(P          R      mAP50  mAP50-95): 100%|██████████| 3/3 [00:02<00:00,  1.19it/s]"
          ]
        },
        {
          "output_type": "stream",
          "name": "stdout",
          "text": [
            "                   all         94        345      0.459      0.167      0.143     0.0658\n"
          ]
        },
        {
          "output_type": "stream",
          "name": "stderr",
          "text": [
            "\n"
          ]
        },
        {
          "output_type": "stream",
          "name": "stdout",
          "text": [
            "\n",
            "      Epoch    GPU_mem   box_loss   cls_loss   dfl_loss  Instances       Size\n"
          ]
        },
        {
          "output_type": "stream",
          "name": "stderr",
          "text": [
            "     30/100      10.6G      2.229      3.056      2.663         47        640: 100%|██████████| 24/24 [00:19<00:00,  1.22it/s]\n",
            "                 Class     Images  Instances      Box(P          R      mAP50  mAP50-95): 100%|██████████| 3/3 [00:02<00:00,  1.43it/s]"
          ]
        },
        {
          "output_type": "stream",
          "name": "stdout",
          "text": [
            "                   all         94        345      0.469     0.0742      0.105     0.0483\n"
          ]
        },
        {
          "output_type": "stream",
          "name": "stderr",
          "text": [
            "\n"
          ]
        },
        {
          "output_type": "stream",
          "name": "stdout",
          "text": [
            "\n",
            "      Epoch    GPU_mem   box_loss   cls_loss   dfl_loss  Instances       Size\n"
          ]
        },
        {
          "output_type": "stream",
          "name": "stderr",
          "text": [
            "     31/100      10.6G      2.183      3.074      2.624         28        640: 100%|██████████| 24/24 [00:20<00:00,  1.18it/s]\n",
            "                 Class     Images  Instances      Box(P          R      mAP50  mAP50-95): 100%|██████████| 3/3 [00:02<00:00,  1.28it/s]"
          ]
        },
        {
          "output_type": "stream",
          "name": "stdout",
          "text": [
            "                   all         94        345       0.38      0.148      0.108     0.0402\n"
          ]
        },
        {
          "output_type": "stream",
          "name": "stderr",
          "text": [
            "\n"
          ]
        },
        {
          "output_type": "stream",
          "name": "stdout",
          "text": [
            "\n",
            "      Epoch    GPU_mem   box_loss   cls_loss   dfl_loss  Instances       Size\n"
          ]
        },
        {
          "output_type": "stream",
          "name": "stderr",
          "text": [
            "     32/100      10.3G      2.169      3.066      2.566         26        640: 100%|██████████| 24/24 [00:19<00:00,  1.22it/s]\n",
            "                 Class     Images  Instances      Box(P          R      mAP50  mAP50-95): 100%|██████████| 3/3 [00:03<00:00,  1.01s/it]"
          ]
        },
        {
          "output_type": "stream",
          "name": "stdout",
          "text": [
            "                   all         94        345      0.604      0.124      0.116     0.0476\n"
          ]
        },
        {
          "output_type": "stream",
          "name": "stderr",
          "text": [
            "\n"
          ]
        },
        {
          "output_type": "stream",
          "name": "stdout",
          "text": [
            "\n",
            "      Epoch    GPU_mem   box_loss   cls_loss   dfl_loss  Instances       Size\n"
          ]
        },
        {
          "output_type": "stream",
          "name": "stderr",
          "text": [
            "     33/100      10.6G      2.174      3.037      2.584         22        640: 100%|██████████| 24/24 [00:20<00:00,  1.17it/s]\n",
            "                 Class     Images  Instances      Box(P          R      mAP50  mAP50-95): 100%|██████████| 3/3 [00:03<00:00,  1.11s/it]"
          ]
        },
        {
          "output_type": "stream",
          "name": "stdout",
          "text": [
            "                   all         94        345       0.56      0.146      0.151     0.0695\n"
          ]
        },
        {
          "output_type": "stream",
          "name": "stderr",
          "text": [
            "\n"
          ]
        },
        {
          "output_type": "stream",
          "name": "stdout",
          "text": [
            "\n",
            "      Epoch    GPU_mem   box_loss   cls_loss   dfl_loss  Instances       Size\n"
          ]
        },
        {
          "output_type": "stream",
          "name": "stderr",
          "text": [
            "     34/100      10.7G      2.159      3.031      2.565         21        640: 100%|██████████| 24/24 [00:19<00:00,  1.21it/s]\n",
            "                 Class     Images  Instances      Box(P          R      mAP50  mAP50-95): 100%|██████████| 3/3 [00:02<00:00,  1.04it/s]"
          ]
        },
        {
          "output_type": "stream",
          "name": "stdout",
          "text": [
            "                   all         94        345      0.538      0.104      0.134     0.0568\n"
          ]
        },
        {
          "output_type": "stream",
          "name": "stderr",
          "text": [
            "\n"
          ]
        },
        {
          "output_type": "stream",
          "name": "stdout",
          "text": [
            "\n",
            "      Epoch    GPU_mem   box_loss   cls_loss   dfl_loss  Instances       Size\n"
          ]
        },
        {
          "output_type": "stream",
          "name": "stderr",
          "text": [
            "     35/100      10.3G      2.128      2.955      2.545         31        640: 100%|██████████| 24/24 [00:19<00:00,  1.21it/s]\n",
            "                 Class     Images  Instances      Box(P          R      mAP50  mAP50-95): 100%|██████████| 3/3 [00:02<00:00,  1.34it/s]"
          ]
        },
        {
          "output_type": "stream",
          "name": "stdout",
          "text": [
            "                   all         94        345      0.472      0.159      0.163     0.0745\n"
          ]
        },
        {
          "output_type": "stream",
          "name": "stderr",
          "text": [
            "\n"
          ]
        },
        {
          "output_type": "stream",
          "name": "stdout",
          "text": [
            "\n",
            "      Epoch    GPU_mem   box_loss   cls_loss   dfl_loss  Instances       Size\n"
          ]
        },
        {
          "output_type": "stream",
          "name": "stderr",
          "text": [
            "     36/100      10.6G      2.136      3.001       2.55         24        640: 100%|██████████| 24/24 [00:20<00:00,  1.17it/s]\n",
            "                 Class     Images  Instances      Box(P          R      mAP50  mAP50-95): 100%|██████████| 3/3 [00:02<00:00,  1.26it/s]"
          ]
        },
        {
          "output_type": "stream",
          "name": "stdout",
          "text": [
            "                   all         94        345      0.651      0.126      0.133     0.0565\n"
          ]
        },
        {
          "output_type": "stream",
          "name": "stderr",
          "text": [
            "\n"
          ]
        },
        {
          "output_type": "stream",
          "name": "stdout",
          "text": [
            "\n",
            "      Epoch    GPU_mem   box_loss   cls_loss   dfl_loss  Instances       Size\n"
          ]
        },
        {
          "output_type": "stream",
          "name": "stderr",
          "text": [
            "     37/100      10.6G      2.055      2.898      2.501         44        640: 100%|██████████| 24/24 [00:20<00:00,  1.19it/s]\n",
            "                 Class     Images  Instances      Box(P          R      mAP50  mAP50-95): 100%|██████████| 3/3 [00:02<00:00,  1.41it/s]"
          ]
        },
        {
          "output_type": "stream",
          "name": "stdout",
          "text": [
            "                   all         94        345      0.708       0.14      0.175     0.0778\n"
          ]
        },
        {
          "output_type": "stream",
          "name": "stderr",
          "text": [
            "\n"
          ]
        },
        {
          "output_type": "stream",
          "name": "stdout",
          "text": [
            "\n",
            "      Epoch    GPU_mem   box_loss   cls_loss   dfl_loss  Instances       Size\n"
          ]
        },
        {
          "output_type": "stream",
          "name": "stderr",
          "text": [
            "     38/100      10.6G      2.056      2.837      2.459         34        640: 100%|██████████| 24/24 [00:19<00:00,  1.20it/s]\n",
            "                 Class     Images  Instances      Box(P          R      mAP50  mAP50-95): 100%|██████████| 3/3 [00:02<00:00,  1.05it/s]"
          ]
        },
        {
          "output_type": "stream",
          "name": "stdout",
          "text": [
            "                   all         94        345      0.497      0.128      0.179      0.084\n"
          ]
        },
        {
          "output_type": "stream",
          "name": "stderr",
          "text": [
            "\n"
          ]
        },
        {
          "output_type": "stream",
          "name": "stdout",
          "text": [
            "\n",
            "      Epoch    GPU_mem   box_loss   cls_loss   dfl_loss  Instances       Size\n"
          ]
        },
        {
          "output_type": "stream",
          "name": "stderr",
          "text": [
            "     39/100      10.6G      2.076       2.86      2.476         19        640: 100%|██████████| 24/24 [00:19<00:00,  1.23it/s]\n",
            "                 Class     Images  Instances      Box(P          R      mAP50  mAP50-95): 100%|██████████| 3/3 [00:02<00:00,  1.31it/s]"
          ]
        },
        {
          "output_type": "stream",
          "name": "stdout",
          "text": [
            "                   all         94        345      0.576       0.19      0.187     0.0901\n"
          ]
        },
        {
          "output_type": "stream",
          "name": "stderr",
          "text": [
            "\n"
          ]
        },
        {
          "output_type": "stream",
          "name": "stdout",
          "text": [
            "\n",
            "      Epoch    GPU_mem   box_loss   cls_loss   dfl_loss  Instances       Size\n"
          ]
        },
        {
          "output_type": "stream",
          "name": "stderr",
          "text": [
            "     40/100      10.3G      2.008      2.849      2.442         19        640: 100%|██████████| 24/24 [00:20<00:00,  1.18it/s]\n",
            "                 Class     Images  Instances      Box(P          R      mAP50  mAP50-95): 100%|██████████| 3/3 [00:02<00:00,  1.16it/s]"
          ]
        },
        {
          "output_type": "stream",
          "name": "stdout",
          "text": [
            "                   all         94        345      0.516      0.223      0.211     0.0993\n"
          ]
        },
        {
          "output_type": "stream",
          "name": "stderr",
          "text": [
            "\n"
          ]
        },
        {
          "output_type": "stream",
          "name": "stdout",
          "text": [
            "\n",
            "      Epoch    GPU_mem   box_loss   cls_loss   dfl_loss  Instances       Size\n"
          ]
        },
        {
          "output_type": "stream",
          "name": "stderr",
          "text": [
            "     41/100      10.7G       2.01      2.778      2.437         27        640: 100%|██████████| 24/24 [00:20<00:00,  1.20it/s]\n",
            "                 Class     Images  Instances      Box(P          R      mAP50  mAP50-95): 100%|██████████| 3/3 [00:02<00:00,  1.33it/s]"
          ]
        },
        {
          "output_type": "stream",
          "name": "stdout",
          "text": [
            "                   all         94        345      0.438      0.182      0.152     0.0618\n"
          ]
        },
        {
          "output_type": "stream",
          "name": "stderr",
          "text": [
            "\n"
          ]
        },
        {
          "output_type": "stream",
          "name": "stdout",
          "text": [
            "\n",
            "      Epoch    GPU_mem   box_loss   cls_loss   dfl_loss  Instances       Size\n"
          ]
        },
        {
          "output_type": "stream",
          "name": "stderr",
          "text": [
            "     42/100      10.3G      1.963      2.771      2.419         29        640: 100%|██████████| 24/24 [00:22<00:00,  1.08it/s]\n",
            "                 Class     Images  Instances      Box(P          R      mAP50  mAP50-95): 100%|██████████| 3/3 [00:02<00:00,  1.34it/s]"
          ]
        },
        {
          "output_type": "stream",
          "name": "stdout",
          "text": [
            "                   all         94        345      0.647      0.155      0.231      0.112\n"
          ]
        },
        {
          "output_type": "stream",
          "name": "stderr",
          "text": [
            "\n"
          ]
        },
        {
          "output_type": "stream",
          "name": "stdout",
          "text": [
            "\n",
            "      Epoch    GPU_mem   box_loss   cls_loss   dfl_loss  Instances       Size\n"
          ]
        },
        {
          "output_type": "stream",
          "name": "stderr",
          "text": [
            "     43/100      10.7G      1.931      2.721      2.383         17        640: 100%|██████████| 24/24 [00:19<00:00,  1.20it/s]\n",
            "                 Class     Images  Instances      Box(P          R      mAP50  mAP50-95): 100%|██████████| 3/3 [00:02<00:00,  1.26it/s]"
          ]
        },
        {
          "output_type": "stream",
          "name": "stdout",
          "text": [
            "                   all         94        345      0.498      0.192      0.171      0.088\n"
          ]
        },
        {
          "output_type": "stream",
          "name": "stderr",
          "text": [
            "\n"
          ]
        },
        {
          "output_type": "stream",
          "name": "stdout",
          "text": [
            "\n",
            "      Epoch    GPU_mem   box_loss   cls_loss   dfl_loss  Instances       Size\n"
          ]
        },
        {
          "output_type": "stream",
          "name": "stderr",
          "text": [
            "     44/100      10.6G      1.922      2.694      2.345         10        640: 100%|██████████| 24/24 [00:20<00:00,  1.20it/s]\n",
            "                 Class     Images  Instances      Box(P          R      mAP50  mAP50-95): 100%|██████████| 3/3 [00:02<00:00,  1.46it/s]"
          ]
        },
        {
          "output_type": "stream",
          "name": "stdout",
          "text": [
            "                   all         94        345      0.507       0.14      0.153     0.0719\n"
          ]
        },
        {
          "output_type": "stream",
          "name": "stderr",
          "text": [
            "\n"
          ]
        },
        {
          "output_type": "stream",
          "name": "stdout",
          "text": [
            "\n",
            "      Epoch    GPU_mem   box_loss   cls_loss   dfl_loss  Instances       Size\n"
          ]
        },
        {
          "output_type": "stream",
          "name": "stderr",
          "text": [
            "     45/100      10.3G      1.933      2.666      2.343         12        640: 100%|██████████| 24/24 [00:19<00:00,  1.20it/s]\n",
            "                 Class     Images  Instances      Box(P          R      mAP50  mAP50-95): 100%|██████████| 3/3 [00:02<00:00,  1.33it/s]"
          ]
        },
        {
          "output_type": "stream",
          "name": "stdout",
          "text": [
            "                   all         94        345       0.52      0.241      0.222      0.111\n"
          ]
        },
        {
          "output_type": "stream",
          "name": "stderr",
          "text": [
            "\n"
          ]
        },
        {
          "output_type": "stream",
          "name": "stdout",
          "text": [
            "\n",
            "      Epoch    GPU_mem   box_loss   cls_loss   dfl_loss  Instances       Size\n"
          ]
        },
        {
          "output_type": "stream",
          "name": "stderr",
          "text": [
            "     46/100      10.2G      1.935      2.643      2.366         32        640: 100%|██████████| 24/24 [00:20<00:00,  1.19it/s]\n",
            "                 Class     Images  Instances      Box(P          R      mAP50  mAP50-95): 100%|██████████| 3/3 [00:02<00:00,  1.12it/s]"
          ]
        },
        {
          "output_type": "stream",
          "name": "stdout",
          "text": [
            "                   all         94        345      0.473      0.219      0.195     0.0927\n"
          ]
        },
        {
          "output_type": "stream",
          "name": "stderr",
          "text": [
            "\n"
          ]
        },
        {
          "output_type": "stream",
          "name": "stdout",
          "text": [
            "\n",
            "      Epoch    GPU_mem   box_loss   cls_loss   dfl_loss  Instances       Size\n"
          ]
        },
        {
          "output_type": "stream",
          "name": "stderr",
          "text": [
            "     47/100      10.7G      1.923       2.64      2.337         25        640: 100%|██████████| 24/24 [00:20<00:00,  1.19it/s]\n",
            "                 Class     Images  Instances      Box(P          R      mAP50  mAP50-95): 100%|██████████| 3/3 [00:02<00:00,  1.46it/s]"
          ]
        },
        {
          "output_type": "stream",
          "name": "stdout",
          "text": [
            "                   all         94        345      0.593      0.203       0.26      0.126\n"
          ]
        },
        {
          "output_type": "stream",
          "name": "stderr",
          "text": [
            "\n"
          ]
        },
        {
          "output_type": "stream",
          "name": "stdout",
          "text": [
            "\n",
            "      Epoch    GPU_mem   box_loss   cls_loss   dfl_loss  Instances       Size\n"
          ]
        },
        {
          "output_type": "stream",
          "name": "stderr",
          "text": [
            "     48/100      10.7G      1.836      2.578      2.278         15        640: 100%|██████████| 24/24 [00:20<00:00,  1.17it/s]\n",
            "                 Class     Images  Instances      Box(P          R      mAP50  mAP50-95): 100%|██████████| 3/3 [00:02<00:00,  1.40it/s]"
          ]
        },
        {
          "output_type": "stream",
          "name": "stdout",
          "text": [
            "                   all         94        345      0.666      0.233       0.28      0.132\n"
          ]
        },
        {
          "output_type": "stream",
          "name": "stderr",
          "text": [
            "\n"
          ]
        },
        {
          "output_type": "stream",
          "name": "stdout",
          "text": [
            "\n",
            "      Epoch    GPU_mem   box_loss   cls_loss   dfl_loss  Instances       Size\n"
          ]
        },
        {
          "output_type": "stream",
          "name": "stderr",
          "text": [
            "     49/100      10.3G      1.848      2.554      2.276         19        640: 100%|██████████| 24/24 [00:20<00:00,  1.20it/s]\n",
            "                 Class     Images  Instances      Box(P          R      mAP50  mAP50-95): 100%|██████████| 3/3 [00:02<00:00,  1.42it/s]"
          ]
        },
        {
          "output_type": "stream",
          "name": "stdout",
          "text": [
            "                   all         94        345      0.512      0.268       0.22      0.112\n"
          ]
        },
        {
          "output_type": "stream",
          "name": "stderr",
          "text": [
            "\n"
          ]
        },
        {
          "output_type": "stream",
          "name": "stdout",
          "text": [
            "\n",
            "      Epoch    GPU_mem   box_loss   cls_loss   dfl_loss  Instances       Size\n"
          ]
        },
        {
          "output_type": "stream",
          "name": "stderr",
          "text": [
            "     50/100      10.6G      1.838      2.491      2.274         32        640: 100%|██████████| 24/24 [00:20<00:00,  1.19it/s]\n",
            "                 Class     Images  Instances      Box(P          R      mAP50  mAP50-95): 100%|██████████| 3/3 [00:02<00:00,  1.31it/s]"
          ]
        },
        {
          "output_type": "stream",
          "name": "stdout",
          "text": [
            "                   all         94        345      0.545      0.267      0.274      0.147\n"
          ]
        },
        {
          "output_type": "stream",
          "name": "stderr",
          "text": [
            "\n"
          ]
        },
        {
          "output_type": "stream",
          "name": "stdout",
          "text": [
            "\n",
            "      Epoch    GPU_mem   box_loss   cls_loss   dfl_loss  Instances       Size\n"
          ]
        },
        {
          "output_type": "stream",
          "name": "stderr",
          "text": [
            "     51/100      10.6G      1.796      2.459      2.254         22        640: 100%|██████████| 24/24 [00:20<00:00,  1.18it/s]\n",
            "                 Class     Images  Instances      Box(P          R      mAP50  mAP50-95): 100%|██████████| 3/3 [00:02<00:00,  1.40it/s]"
          ]
        },
        {
          "output_type": "stream",
          "name": "stdout",
          "text": [
            "                   all         94        345      0.527      0.218      0.215      0.112\n"
          ]
        },
        {
          "output_type": "stream",
          "name": "stderr",
          "text": [
            "\n"
          ]
        },
        {
          "output_type": "stream",
          "name": "stdout",
          "text": [
            "\n",
            "      Epoch    GPU_mem   box_loss   cls_loss   dfl_loss  Instances       Size\n"
          ]
        },
        {
          "output_type": "stream",
          "name": "stderr",
          "text": [
            "     52/100      10.3G      1.783      2.507      2.247         22        640: 100%|██████████| 24/24 [00:20<00:00,  1.17it/s]\n",
            "                 Class     Images  Instances      Box(P          R      mAP50  mAP50-95): 100%|██████████| 3/3 [00:02<00:00,  1.27it/s]"
          ]
        },
        {
          "output_type": "stream",
          "name": "stdout",
          "text": [
            "                   all         94        345      0.483      0.223      0.218      0.111\n"
          ]
        },
        {
          "output_type": "stream",
          "name": "stderr",
          "text": [
            "\n"
          ]
        },
        {
          "output_type": "stream",
          "name": "stdout",
          "text": [
            "\n",
            "      Epoch    GPU_mem   box_loss   cls_loss   dfl_loss  Instances       Size\n"
          ]
        },
        {
          "output_type": "stream",
          "name": "stderr",
          "text": [
            "     53/100      10.3G      1.837      2.552      2.268         25        640: 100%|██████████| 24/24 [00:19<00:00,  1.21it/s]\n",
            "                 Class     Images  Instances      Box(P          R      mAP50  mAP50-95): 100%|██████████| 3/3 [00:02<00:00,  1.35it/s]"
          ]
        },
        {
          "output_type": "stream",
          "name": "stdout",
          "text": [
            "                   all         94        345      0.564      0.266      0.285      0.159\n"
          ]
        },
        {
          "output_type": "stream",
          "name": "stderr",
          "text": [
            "\n"
          ]
        },
        {
          "output_type": "stream",
          "name": "stdout",
          "text": [
            "\n",
            "      Epoch    GPU_mem   box_loss   cls_loss   dfl_loss  Instances       Size\n"
          ]
        },
        {
          "output_type": "stream",
          "name": "stderr",
          "text": [
            "     54/100      10.6G      1.772      2.502      2.245         15        640: 100%|██████████| 24/24 [00:19<00:00,  1.20it/s]\n",
            "                 Class     Images  Instances      Box(P          R      mAP50  mAP50-95): 100%|██████████| 3/3 [00:02<00:00,  1.46it/s]"
          ]
        },
        {
          "output_type": "stream",
          "name": "stdout",
          "text": [
            "                   all         94        345      0.567      0.264      0.285      0.162\n"
          ]
        },
        {
          "output_type": "stream",
          "name": "stderr",
          "text": [
            "\n"
          ]
        },
        {
          "output_type": "stream",
          "name": "stdout",
          "text": [
            "\n",
            "      Epoch    GPU_mem   box_loss   cls_loss   dfl_loss  Instances       Size\n"
          ]
        },
        {
          "output_type": "stream",
          "name": "stderr",
          "text": [
            "     55/100      10.3G       1.76      2.443      2.205         13        640: 100%|██████████| 24/24 [00:20<00:00,  1.20it/s]\n",
            "                 Class     Images  Instances      Box(P          R      mAP50  mAP50-95): 100%|██████████| 3/3 [00:02<00:00,  1.32it/s]"
          ]
        },
        {
          "output_type": "stream",
          "name": "stdout",
          "text": [
            "                   all         94        345      0.557      0.242      0.261      0.137\n"
          ]
        },
        {
          "output_type": "stream",
          "name": "stderr",
          "text": [
            "\n"
          ]
        },
        {
          "output_type": "stream",
          "name": "stdout",
          "text": [
            "\n",
            "      Epoch    GPU_mem   box_loss   cls_loss   dfl_loss  Instances       Size\n"
          ]
        },
        {
          "output_type": "stream",
          "name": "stderr",
          "text": [
            "     56/100      10.6G      1.771      2.395      2.204         24        640: 100%|██████████| 24/24 [00:20<00:00,  1.20it/s]\n",
            "                 Class     Images  Instances      Box(P          R      mAP50  mAP50-95): 100%|██████████| 3/3 [00:02<00:00,  1.39it/s]"
          ]
        },
        {
          "output_type": "stream",
          "name": "stdout",
          "text": [
            "                   all         94        345      0.534       0.27      0.273      0.151\n"
          ]
        },
        {
          "output_type": "stream",
          "name": "stderr",
          "text": [
            "\n"
          ]
        },
        {
          "output_type": "stream",
          "name": "stdout",
          "text": [
            "\n",
            "      Epoch    GPU_mem   box_loss   cls_loss   dfl_loss  Instances       Size\n"
          ]
        },
        {
          "output_type": "stream",
          "name": "stderr",
          "text": [
            "     57/100      10.3G      1.737      2.368      2.173         25        640: 100%|██████████| 24/24 [00:19<00:00,  1.22it/s]\n",
            "                 Class     Images  Instances      Box(P          R      mAP50  mAP50-95): 100%|██████████| 3/3 [00:02<00:00,  1.10it/s]"
          ]
        },
        {
          "output_type": "stream",
          "name": "stdout",
          "text": [
            "                   all         94        345      0.581      0.213      0.256      0.124\n"
          ]
        },
        {
          "output_type": "stream",
          "name": "stderr",
          "text": [
            "\n"
          ]
        },
        {
          "output_type": "stream",
          "name": "stdout",
          "text": [
            "\n",
            "      Epoch    GPU_mem   box_loss   cls_loss   dfl_loss  Instances       Size\n"
          ]
        },
        {
          "output_type": "stream",
          "name": "stderr",
          "text": [
            "     58/100      10.6G      1.762      2.442      2.184         25        640: 100%|██████████| 24/24 [00:20<00:00,  1.16it/s]\n",
            "                 Class     Images  Instances      Box(P          R      mAP50  mAP50-95): 100%|██████████| 3/3 [00:02<00:00,  1.28it/s]"
          ]
        },
        {
          "output_type": "stream",
          "name": "stdout",
          "text": [
            "                   all         94        345      0.224      0.273      0.216     0.0944\n"
          ]
        },
        {
          "output_type": "stream",
          "name": "stderr",
          "text": [
            "\n"
          ]
        },
        {
          "output_type": "stream",
          "name": "stdout",
          "text": [
            "\n",
            "      Epoch    GPU_mem   box_loss   cls_loss   dfl_loss  Instances       Size\n"
          ]
        },
        {
          "output_type": "stream",
          "name": "stderr",
          "text": [
            "     59/100      10.7G      1.737      2.406      2.189         30        640: 100%|██████████| 24/24 [00:20<00:00,  1.19it/s]\n",
            "                 Class     Images  Instances      Box(P          R      mAP50  mAP50-95): 100%|██████████| 3/3 [00:02<00:00,  1.23it/s]"
          ]
        },
        {
          "output_type": "stream",
          "name": "stdout",
          "text": [
            "                   all         94        345      0.425        0.3      0.309      0.178\n"
          ]
        },
        {
          "output_type": "stream",
          "name": "stderr",
          "text": [
            "\n"
          ]
        },
        {
          "output_type": "stream",
          "name": "stdout",
          "text": [
            "\n",
            "      Epoch    GPU_mem   box_loss   cls_loss   dfl_loss  Instances       Size\n"
          ]
        },
        {
          "output_type": "stream",
          "name": "stderr",
          "text": [
            "     60/100      10.6G      1.678      2.295      2.144         30        640: 100%|██████████| 24/24 [00:20<00:00,  1.19it/s]\n",
            "                 Class     Images  Instances      Box(P          R      mAP50  mAP50-95): 100%|██████████| 3/3 [00:02<00:00,  1.41it/s]"
          ]
        },
        {
          "output_type": "stream",
          "name": "stdout",
          "text": [
            "                   all         94        345      0.505      0.302      0.297      0.167\n"
          ]
        },
        {
          "output_type": "stream",
          "name": "stderr",
          "text": [
            "\n"
          ]
        },
        {
          "output_type": "stream",
          "name": "stdout",
          "text": [
            "\n",
            "      Epoch    GPU_mem   box_loss   cls_loss   dfl_loss  Instances       Size\n"
          ]
        },
        {
          "output_type": "stream",
          "name": "stderr",
          "text": [
            "     61/100      10.6G      1.704      2.354      2.169         20        640: 100%|██████████| 24/24 [00:19<00:00,  1.21it/s]\n",
            "                 Class     Images  Instances      Box(P          R      mAP50  mAP50-95): 100%|██████████| 3/3 [00:02<00:00,  1.02it/s]"
          ]
        },
        {
          "output_type": "stream",
          "name": "stdout",
          "text": [
            "                   all         94        345      0.588      0.342      0.344       0.19\n"
          ]
        },
        {
          "output_type": "stream",
          "name": "stderr",
          "text": [
            "\n"
          ]
        },
        {
          "output_type": "stream",
          "name": "stdout",
          "text": [
            "\n",
            "      Epoch    GPU_mem   box_loss   cls_loss   dfl_loss  Instances       Size\n"
          ]
        },
        {
          "output_type": "stream",
          "name": "stderr",
          "text": [
            "     62/100      10.3G      1.641      2.279       2.09         26        640: 100%|██████████| 24/24 [00:20<00:00,  1.17it/s]\n",
            "                 Class     Images  Instances      Box(P          R      mAP50  mAP50-95): 100%|██████████| 3/3 [00:02<00:00,  1.42it/s]"
          ]
        },
        {
          "output_type": "stream",
          "name": "stdout",
          "text": [
            "                   all         94        345      0.533      0.317      0.335      0.186\n"
          ]
        },
        {
          "output_type": "stream",
          "name": "stderr",
          "text": [
            "\n"
          ]
        },
        {
          "output_type": "stream",
          "name": "stdout",
          "text": [
            "\n",
            "      Epoch    GPU_mem   box_loss   cls_loss   dfl_loss  Instances       Size\n"
          ]
        },
        {
          "output_type": "stream",
          "name": "stderr",
          "text": [
            "     63/100      10.6G      1.706      2.342      2.165         23        640: 100%|██████████| 24/24 [00:19<00:00,  1.21it/s]\n",
            "                 Class     Images  Instances      Box(P          R      mAP50  mAP50-95): 100%|██████████| 3/3 [00:02<00:00,  1.34it/s]"
          ]
        },
        {
          "output_type": "stream",
          "name": "stdout",
          "text": [
            "                   all         94        345      0.592      0.284      0.294      0.162\n"
          ]
        },
        {
          "output_type": "stream",
          "name": "stderr",
          "text": [
            "\n"
          ]
        },
        {
          "output_type": "stream",
          "name": "stdout",
          "text": [
            "\n",
            "      Epoch    GPU_mem   box_loss   cls_loss   dfl_loss  Instances       Size\n"
          ]
        },
        {
          "output_type": "stream",
          "name": "stderr",
          "text": [
            "     64/100      10.6G      1.665        2.3      2.085         42        640: 100%|██████████| 24/24 [00:19<00:00,  1.20it/s]\n",
            "                 Class     Images  Instances      Box(P          R      mAP50  mAP50-95): 100%|██████████| 3/3 [00:02<00:00,  1.05it/s]"
          ]
        },
        {
          "output_type": "stream",
          "name": "stdout",
          "text": [
            "                   all         94        345      0.571      0.319      0.335       0.19\n"
          ]
        },
        {
          "output_type": "stream",
          "name": "stderr",
          "text": [
            "\n"
          ]
        },
        {
          "output_type": "stream",
          "name": "stdout",
          "text": [
            "\n",
            "      Epoch    GPU_mem   box_loss   cls_loss   dfl_loss  Instances       Size\n"
          ]
        },
        {
          "output_type": "stream",
          "name": "stderr",
          "text": [
            "     65/100      10.6G      1.647      2.269      2.091         15        640: 100%|██████████| 24/24 [00:19<00:00,  1.21it/s]\n",
            "                 Class     Images  Instances      Box(P          R      mAP50  mAP50-95): 100%|██████████| 3/3 [00:02<00:00,  1.39it/s]"
          ]
        },
        {
          "output_type": "stream",
          "name": "stdout",
          "text": [
            "                   all         94        345      0.612      0.295      0.345      0.184\n"
          ]
        },
        {
          "output_type": "stream",
          "name": "stderr",
          "text": [
            "\n"
          ]
        },
        {
          "output_type": "stream",
          "name": "stdout",
          "text": [
            "\n",
            "      Epoch    GPU_mem   box_loss   cls_loss   dfl_loss  Instances       Size\n"
          ]
        },
        {
          "output_type": "stream",
          "name": "stderr",
          "text": [
            "     66/100      10.6G      1.673      2.238       2.11         19        640: 100%|██████████| 24/24 [00:20<00:00,  1.20it/s]\n",
            "                 Class     Images  Instances      Box(P          R      mAP50  mAP50-95): 100%|██████████| 3/3 [00:02<00:00,  1.24it/s]"
          ]
        },
        {
          "output_type": "stream",
          "name": "stdout",
          "text": [
            "                   all         94        345      0.637      0.298      0.322      0.186\n"
          ]
        },
        {
          "output_type": "stream",
          "name": "stderr",
          "text": [
            "\n"
          ]
        },
        {
          "output_type": "stream",
          "name": "stdout",
          "text": [
            "\n",
            "      Epoch    GPU_mem   box_loss   cls_loss   dfl_loss  Instances       Size\n"
          ]
        },
        {
          "output_type": "stream",
          "name": "stderr",
          "text": [
            "     67/100      10.6G      1.651      2.239      2.109         29        640: 100%|██████████| 24/24 [00:19<00:00,  1.20it/s]\n",
            "                 Class     Images  Instances      Box(P          R      mAP50  mAP50-95): 100%|██████████| 3/3 [00:02<00:00,  1.05it/s]"
          ]
        },
        {
          "output_type": "stream",
          "name": "stdout",
          "text": [
            "                   all         94        345      0.628      0.246      0.293      0.161\n"
          ]
        },
        {
          "output_type": "stream",
          "name": "stderr",
          "text": [
            "\n"
          ]
        },
        {
          "output_type": "stream",
          "name": "stdout",
          "text": [
            "\n",
            "      Epoch    GPU_mem   box_loss   cls_loss   dfl_loss  Instances       Size\n"
          ]
        },
        {
          "output_type": "stream",
          "name": "stderr",
          "text": [
            "     68/100      10.6G       1.63      2.257      2.096         27        640: 100%|██████████| 24/24 [00:20<00:00,  1.20it/s]\n",
            "                 Class     Images  Instances      Box(P          R      mAP50  mAP50-95): 100%|██████████| 3/3 [00:02<00:00,  1.45it/s]"
          ]
        },
        {
          "output_type": "stream",
          "name": "stdout",
          "text": [
            "                   all         94        345      0.683      0.308      0.351      0.195\n"
          ]
        },
        {
          "output_type": "stream",
          "name": "stderr",
          "text": [
            "\n"
          ]
        },
        {
          "output_type": "stream",
          "name": "stdout",
          "text": [
            "\n",
            "      Epoch    GPU_mem   box_loss   cls_loss   dfl_loss  Instances       Size\n"
          ]
        },
        {
          "output_type": "stream",
          "name": "stderr",
          "text": [
            "     69/100      10.3G      1.609        2.2      2.063         27        640: 100%|██████████| 24/24 [00:20<00:00,  1.17it/s]\n",
            "                 Class     Images  Instances      Box(P          R      mAP50  mAP50-95): 100%|██████████| 3/3 [00:02<00:00,  1.09it/s]"
          ]
        },
        {
          "output_type": "stream",
          "name": "stdout",
          "text": [
            "                   all         94        345      0.653      0.279       0.33      0.193\n"
          ]
        },
        {
          "output_type": "stream",
          "name": "stderr",
          "text": [
            "\n"
          ]
        },
        {
          "output_type": "stream",
          "name": "stdout",
          "text": [
            "\n",
            "      Epoch    GPU_mem   box_loss   cls_loss   dfl_loss  Instances       Size\n"
          ]
        },
        {
          "output_type": "stream",
          "name": "stderr",
          "text": [
            "     70/100      10.6G      1.601      2.199       2.07         21        640: 100%|██████████| 24/24 [00:20<00:00,  1.19it/s]\n",
            "                 Class     Images  Instances      Box(P          R      mAP50  mAP50-95): 100%|██████████| 3/3 [00:02<00:00,  1.50it/s]"
          ]
        },
        {
          "output_type": "stream",
          "name": "stdout",
          "text": [
            "                   all         94        345      0.374      0.337      0.331      0.182\n"
          ]
        },
        {
          "output_type": "stream",
          "name": "stderr",
          "text": [
            "\n"
          ]
        },
        {
          "output_type": "stream",
          "name": "stdout",
          "text": [
            "\n",
            "      Epoch    GPU_mem   box_loss   cls_loss   dfl_loss  Instances       Size\n"
          ]
        },
        {
          "output_type": "stream",
          "name": "stderr",
          "text": [
            "     71/100      10.6G      1.593      2.146      2.064         24        640: 100%|██████████| 24/24 [00:20<00:00,  1.19it/s]\n",
            "                 Class     Images  Instances      Box(P          R      mAP50  mAP50-95): 100%|██████████| 3/3 [00:02<00:00,  1.44it/s]"
          ]
        },
        {
          "output_type": "stream",
          "name": "stdout",
          "text": [
            "                   all         94        345      0.426      0.305      0.329      0.184\n"
          ]
        },
        {
          "output_type": "stream",
          "name": "stderr",
          "text": [
            "\n"
          ]
        },
        {
          "output_type": "stream",
          "name": "stdout",
          "text": [
            "\n",
            "      Epoch    GPU_mem   box_loss   cls_loss   dfl_loss  Instances       Size\n"
          ]
        },
        {
          "output_type": "stream",
          "name": "stderr",
          "text": [
            "     72/100      10.6G      1.596      2.089      2.042         21        640: 100%|██████████| 24/24 [00:19<00:00,  1.20it/s]\n",
            "                 Class     Images  Instances      Box(P          R      mAP50  mAP50-95): 100%|██████████| 3/3 [00:02<00:00,  1.09it/s]"
          ]
        },
        {
          "output_type": "stream",
          "name": "stdout",
          "text": [
            "                   all         94        345      0.683       0.32      0.348      0.213\n"
          ]
        },
        {
          "output_type": "stream",
          "name": "stderr",
          "text": [
            "\n"
          ]
        },
        {
          "output_type": "stream",
          "name": "stdout",
          "text": [
            "\n",
            "      Epoch    GPU_mem   box_loss   cls_loss   dfl_loss  Instances       Size\n"
          ]
        },
        {
          "output_type": "stream",
          "name": "stderr",
          "text": [
            "     73/100      10.6G       1.59      2.183      2.075         23        640: 100%|██████████| 24/24 [00:19<00:00,  1.21it/s]\n",
            "                 Class     Images  Instances      Box(P          R      mAP50  mAP50-95): 100%|██████████| 3/3 [00:02<00:00,  1.42it/s]"
          ]
        },
        {
          "output_type": "stream",
          "name": "stdout",
          "text": [
            "                   all         94        345      0.431      0.359      0.363      0.215\n"
          ]
        },
        {
          "output_type": "stream",
          "name": "stderr",
          "text": [
            "\n"
          ]
        },
        {
          "output_type": "stream",
          "name": "stdout",
          "text": [
            "\n",
            "      Epoch    GPU_mem   box_loss   cls_loss   dfl_loss  Instances       Size\n"
          ]
        },
        {
          "output_type": "stream",
          "name": "stderr",
          "text": [
            "     74/100      10.7G      1.561      2.099      2.023         28        640: 100%|██████████| 24/24 [00:20<00:00,  1.18it/s]\n",
            "                 Class     Images  Instances      Box(P          R      mAP50  mAP50-95): 100%|██████████| 3/3 [00:02<00:00,  1.36it/s]"
          ]
        },
        {
          "output_type": "stream",
          "name": "stdout",
          "text": [
            "                   all         94        345      0.546      0.348      0.368       0.22\n"
          ]
        },
        {
          "output_type": "stream",
          "name": "stderr",
          "text": [
            "\n"
          ]
        },
        {
          "output_type": "stream",
          "name": "stdout",
          "text": [
            "\n",
            "      Epoch    GPU_mem   box_loss   cls_loss   dfl_loss  Instances       Size\n"
          ]
        },
        {
          "output_type": "stream",
          "name": "stderr",
          "text": [
            "     75/100      10.6G      1.577      2.185      2.024         16        640: 100%|██████████| 24/24 [00:19<00:00,  1.21it/s]\n",
            "                 Class     Images  Instances      Box(P          R      mAP50  mAP50-95): 100%|██████████| 3/3 [00:02<00:00,  1.14it/s]"
          ]
        },
        {
          "output_type": "stream",
          "name": "stdout",
          "text": [
            "                   all         94        345      0.623      0.306      0.339      0.205\n"
          ]
        },
        {
          "output_type": "stream",
          "name": "stderr",
          "text": [
            "\n"
          ]
        },
        {
          "output_type": "stream",
          "name": "stdout",
          "text": [
            "\n",
            "      Epoch    GPU_mem   box_loss   cls_loss   dfl_loss  Instances       Size\n"
          ]
        },
        {
          "output_type": "stream",
          "name": "stderr",
          "text": [
            "     76/100      10.3G      1.551      2.095      2.003         22        640: 100%|██████████| 24/24 [00:20<00:00,  1.18it/s]\n",
            "                 Class     Images  Instances      Box(P          R      mAP50  mAP50-95): 100%|██████████| 3/3 [00:02<00:00,  1.37it/s]"
          ]
        },
        {
          "output_type": "stream",
          "name": "stdout",
          "text": [
            "                   all         94        345      0.642      0.328      0.365      0.216\n"
          ]
        },
        {
          "output_type": "stream",
          "name": "stderr",
          "text": [
            "\n"
          ]
        },
        {
          "output_type": "stream",
          "name": "stdout",
          "text": [
            "\n",
            "      Epoch    GPU_mem   box_loss   cls_loss   dfl_loss  Instances       Size\n"
          ]
        },
        {
          "output_type": "stream",
          "name": "stderr",
          "text": [
            "     77/100      10.6G      1.566       2.08      2.015         26        640: 100%|██████████| 24/24 [00:20<00:00,  1.18it/s]\n",
            "                 Class     Images  Instances      Box(P          R      mAP50  mAP50-95): 100%|██████████| 3/3 [00:02<00:00,  1.19it/s]"
          ]
        },
        {
          "output_type": "stream",
          "name": "stdout",
          "text": [
            "                   all         94        345      0.454      0.319       0.38      0.221\n"
          ]
        },
        {
          "output_type": "stream",
          "name": "stderr",
          "text": [
            "\n"
          ]
        },
        {
          "output_type": "stream",
          "name": "stdout",
          "text": [
            "\n",
            "      Epoch    GPU_mem   box_loss   cls_loss   dfl_loss  Instances       Size\n"
          ]
        },
        {
          "output_type": "stream",
          "name": "stderr",
          "text": [
            "     78/100      10.6G      1.546      2.104      2.034         20        640: 100%|██████████| 24/24 [00:20<00:00,  1.18it/s]\n",
            "                 Class     Images  Instances      Box(P          R      mAP50  mAP50-95): 100%|██████████| 3/3 [00:02<00:00,  1.31it/s]"
          ]
        },
        {
          "output_type": "stream",
          "name": "stdout",
          "text": [
            "                   all         94        345      0.634      0.334      0.345      0.205\n"
          ]
        },
        {
          "output_type": "stream",
          "name": "stderr",
          "text": [
            "\n"
          ]
        },
        {
          "output_type": "stream",
          "name": "stdout",
          "text": [
            "\n",
            "      Epoch    GPU_mem   box_loss   cls_loss   dfl_loss  Instances       Size\n"
          ]
        },
        {
          "output_type": "stream",
          "name": "stderr",
          "text": [
            "     79/100      10.6G      1.512      2.036      2.004         19        640: 100%|██████████| 24/24 [00:21<00:00,  1.13it/s]\n",
            "                 Class     Images  Instances      Box(P          R      mAP50  mAP50-95): 100%|██████████| 3/3 [00:02<00:00,  1.40it/s]"
          ]
        },
        {
          "output_type": "stream",
          "name": "stdout",
          "text": [
            "                   all         94        345      0.492      0.366      0.388       0.22\n"
          ]
        },
        {
          "output_type": "stream",
          "name": "stderr",
          "text": [
            "\n"
          ]
        },
        {
          "output_type": "stream",
          "name": "stdout",
          "text": [
            "\n",
            "      Epoch    GPU_mem   box_loss   cls_loss   dfl_loss  Instances       Size\n"
          ]
        },
        {
          "output_type": "stream",
          "name": "stderr",
          "text": [
            "     80/100      10.7G      1.539      2.031      1.995         12        640: 100%|██████████| 24/24 [00:19<00:00,  1.22it/s]\n",
            "                 Class     Images  Instances      Box(P          R      mAP50  mAP50-95): 100%|██████████| 3/3 [00:03<00:00,  1.04s/it]"
          ]
        },
        {
          "output_type": "stream",
          "name": "stdout",
          "text": [
            "                   all         94        345      0.424      0.331      0.374      0.229\n"
          ]
        },
        {
          "output_type": "stream",
          "name": "stderr",
          "text": [
            "\n"
          ]
        },
        {
          "output_type": "stream",
          "name": "stdout",
          "text": [
            "\n",
            "      Epoch    GPU_mem   box_loss   cls_loss   dfl_loss  Instances       Size\n"
          ]
        },
        {
          "output_type": "stream",
          "name": "stderr",
          "text": [
            "     81/100      10.6G      1.503      2.001      1.956         24        640: 100%|██████████| 24/24 [00:19<00:00,  1.20it/s]\n",
            "                 Class     Images  Instances      Box(P          R      mAP50  mAP50-95): 100%|██████████| 3/3 [00:02<00:00,  1.34it/s]"
          ]
        },
        {
          "output_type": "stream",
          "name": "stdout",
          "text": [
            "                   all         94        345      0.418      0.408      0.398      0.239\n"
          ]
        },
        {
          "output_type": "stream",
          "name": "stderr",
          "text": [
            "\n"
          ]
        },
        {
          "output_type": "stream",
          "name": "stdout",
          "text": [
            "\n",
            "      Epoch    GPU_mem   box_loss   cls_loss   dfl_loss  Instances       Size\n"
          ]
        },
        {
          "output_type": "stream",
          "name": "stderr",
          "text": [
            "     82/100      10.6G      1.499      1.994      1.983         23        640: 100%|██████████| 24/24 [00:20<00:00,  1.20it/s]\n",
            "                 Class     Images  Instances      Box(P          R      mAP50  mAP50-95): 100%|██████████| 3/3 [00:02<00:00,  1.15it/s]"
          ]
        },
        {
          "output_type": "stream",
          "name": "stdout",
          "text": [
            "                   all         94        345      0.409      0.402      0.406      0.243\n"
          ]
        },
        {
          "output_type": "stream",
          "name": "stderr",
          "text": [
            "\n"
          ]
        },
        {
          "output_type": "stream",
          "name": "stdout",
          "text": [
            "\n",
            "      Epoch    GPU_mem   box_loss   cls_loss   dfl_loss  Instances       Size\n"
          ]
        },
        {
          "output_type": "stream",
          "name": "stderr",
          "text": [
            "     83/100      10.6G      1.533      1.974      1.975         26        640: 100%|██████████| 24/24 [00:20<00:00,  1.17it/s]\n",
            "                 Class     Images  Instances      Box(P          R      mAP50  mAP50-95): 100%|██████████| 3/3 [00:02<00:00,  1.48it/s]"
          ]
        },
        {
          "output_type": "stream",
          "name": "stdout",
          "text": [
            "                   all         94        345       0.59      0.408      0.413      0.243\n"
          ]
        },
        {
          "output_type": "stream",
          "name": "stderr",
          "text": [
            "\n"
          ]
        },
        {
          "output_type": "stream",
          "name": "stdout",
          "text": [
            "\n",
            "      Epoch    GPU_mem   box_loss   cls_loss   dfl_loss  Instances       Size\n"
          ]
        },
        {
          "output_type": "stream",
          "name": "stderr",
          "text": [
            "     84/100      10.6G      1.504      1.967      1.968         15        640: 100%|██████████| 24/24 [00:20<00:00,  1.20it/s]\n",
            "                 Class     Images  Instances      Box(P          R      mAP50  mAP50-95): 100%|██████████| 3/3 [00:02<00:00,  1.13it/s]"
          ]
        },
        {
          "output_type": "stream",
          "name": "stdout",
          "text": [
            "                   all         94        345       0.37      0.377      0.404      0.244\n"
          ]
        },
        {
          "output_type": "stream",
          "name": "stderr",
          "text": [
            "\n"
          ]
        },
        {
          "output_type": "stream",
          "name": "stdout",
          "text": [
            "\n",
            "      Epoch    GPU_mem   box_loss   cls_loss   dfl_loss  Instances       Size\n"
          ]
        },
        {
          "output_type": "stream",
          "name": "stderr",
          "text": [
            "     85/100      10.6G       1.49      1.972      1.941         11        640: 100%|██████████| 24/24 [00:20<00:00,  1.18it/s]\n",
            "                 Class     Images  Instances      Box(P          R      mAP50  mAP50-95): 100%|██████████| 3/3 [00:02<00:00,  1.40it/s]"
          ]
        },
        {
          "output_type": "stream",
          "name": "stdout",
          "text": [
            "                   all         94        345      0.688      0.317       0.39      0.232\n"
          ]
        },
        {
          "output_type": "stream",
          "name": "stderr",
          "text": [
            "\n"
          ]
        },
        {
          "output_type": "stream",
          "name": "stdout",
          "text": [
            "\n",
            "      Epoch    GPU_mem   box_loss   cls_loss   dfl_loss  Instances       Size\n"
          ]
        },
        {
          "output_type": "stream",
          "name": "stderr",
          "text": [
            "     86/100      10.6G      1.465      1.907      1.948         28        640: 100%|██████████| 24/24 [00:20<00:00,  1.19it/s]\n",
            "                 Class     Images  Instances      Box(P          R      mAP50  mAP50-95): 100%|██████████| 3/3 [00:02<00:00,  1.40it/s]"
          ]
        },
        {
          "output_type": "stream",
          "name": "stdout",
          "text": [
            "                   all         94        345      0.703      0.308      0.379      0.232\n"
          ]
        },
        {
          "output_type": "stream",
          "name": "stderr",
          "text": [
            "\n"
          ]
        },
        {
          "output_type": "stream",
          "name": "stdout",
          "text": [
            "\n",
            "      Epoch    GPU_mem   box_loss   cls_loss   dfl_loss  Instances       Size\n"
          ]
        },
        {
          "output_type": "stream",
          "name": "stderr",
          "text": [
            "     87/100      10.3G      1.471      1.939      1.958         16        640: 100%|██████████| 24/24 [00:20<00:00,  1.17it/s]\n",
            "                 Class     Images  Instances      Box(P          R      mAP50  mAP50-95): 100%|██████████| 3/3 [00:02<00:00,  1.44it/s]"
          ]
        },
        {
          "output_type": "stream",
          "name": "stdout",
          "text": [
            "                   all         94        345      0.438      0.424       0.43      0.263\n"
          ]
        },
        {
          "output_type": "stream",
          "name": "stderr",
          "text": [
            "\n"
          ]
        },
        {
          "output_type": "stream",
          "name": "stdout",
          "text": [
            "\n",
            "      Epoch    GPU_mem   box_loss   cls_loss   dfl_loss  Instances       Size\n"
          ]
        },
        {
          "output_type": "stream",
          "name": "stderr",
          "text": [
            "     88/100      10.3G      1.472      1.867      1.943         15        640: 100%|██████████| 24/24 [00:20<00:00,  1.19it/s]\n",
            "                 Class     Images  Instances      Box(P          R      mAP50  mAP50-95): 100%|██████████| 3/3 [00:02<00:00,  1.29it/s]"
          ]
        },
        {
          "output_type": "stream",
          "name": "stdout",
          "text": [
            "                   all         94        345      0.551      0.394      0.436      0.266\n"
          ]
        },
        {
          "output_type": "stream",
          "name": "stderr",
          "text": [
            "\n"
          ]
        },
        {
          "output_type": "stream",
          "name": "stdout",
          "text": [
            "\n",
            "      Epoch    GPU_mem   box_loss   cls_loss   dfl_loss  Instances       Size\n"
          ]
        },
        {
          "output_type": "stream",
          "name": "stderr",
          "text": [
            "     89/100      10.6G      1.438      1.919      1.928         24        640: 100%|██████████| 24/24 [00:19<00:00,  1.20it/s]\n",
            "                 Class     Images  Instances      Box(P          R      mAP50  mAP50-95): 100%|██████████| 3/3 [00:02<00:00,  1.43it/s]"
          ]
        },
        {
          "output_type": "stream",
          "name": "stdout",
          "text": [
            "                   all         94        345      0.463      0.404       0.42      0.254\n"
          ]
        },
        {
          "output_type": "stream",
          "name": "stderr",
          "text": [
            "\n"
          ]
        },
        {
          "output_type": "stream",
          "name": "stdout",
          "text": [
            "\n",
            "      Epoch    GPU_mem   box_loss   cls_loss   dfl_loss  Instances       Size\n"
          ]
        },
        {
          "output_type": "stream",
          "name": "stderr",
          "text": [
            "     90/100      10.6G      1.433      1.886      1.908         48        640: 100%|██████████| 24/24 [00:19<00:00,  1.20it/s]\n",
            "                 Class     Images  Instances      Box(P          R      mAP50  mAP50-95): 100%|██████████| 3/3 [00:02<00:00,  1.02it/s]"
          ]
        },
        {
          "output_type": "stream",
          "name": "stdout",
          "text": [
            "                   all         94        345      0.482      0.458      0.459      0.277\n"
          ]
        },
        {
          "output_type": "stream",
          "name": "stderr",
          "text": [
            "\n"
          ]
        },
        {
          "output_type": "stream",
          "name": "stdout",
          "text": [
            "Closing dataloader mosaic\n",
            "\u001b[34m\u001b[1malbumentations: \u001b[0mBlur(p=0.01, blur_limit=(3, 7)), MedianBlur(p=0.01, blur_limit=(3, 7)), ToGray(p=0.01), CLAHE(p=0.01, clip_limit=(1, 4.0), tile_grid_size=(8, 8))\n"
          ]
        },
        {
          "output_type": "stream",
          "name": "stderr",
          "text": [
            "/usr/lib/python3.10/multiprocessing/popen_fork.py:66: RuntimeWarning: os.fork() was called. os.fork() is incompatible with multithreaded code, and JAX is multithreaded, so this will likely lead to a deadlock.\n",
            "  self.pid = os.fork()\n"
          ]
        },
        {
          "output_type": "stream",
          "name": "stdout",
          "text": [
            "\n",
            "      Epoch    GPU_mem   box_loss   cls_loss   dfl_loss  Instances       Size\n"
          ]
        },
        {
          "output_type": "stream",
          "name": "stderr",
          "text": [
            "     91/100      10.6G      1.502      1.928      1.968         31        640: 100%|██████████| 24/24 [00:22<00:00,  1.06it/s]\n",
            "                 Class     Images  Instances      Box(P          R      mAP50  mAP50-95): 100%|██████████| 3/3 [00:02<00:00,  1.41it/s]"
          ]
        },
        {
          "output_type": "stream",
          "name": "stdout",
          "text": [
            "                   all         94        345      0.569      0.403      0.435      0.259\n"
          ]
        },
        {
          "output_type": "stream",
          "name": "stderr",
          "text": [
            "\n"
          ]
        },
        {
          "output_type": "stream",
          "name": "stdout",
          "text": [
            "\n",
            "      Epoch    GPU_mem   box_loss   cls_loss   dfl_loss  Instances       Size\n"
          ]
        },
        {
          "output_type": "stream",
          "name": "stderr",
          "text": [
            "     92/100      10.3G      1.448      1.887      1.939         16        640: 100%|██████████| 24/24 [00:20<00:00,  1.20it/s]\n",
            "                 Class     Images  Instances      Box(P          R      mAP50  mAP50-95): 100%|██████████| 3/3 [00:02<00:00,  1.19it/s]"
          ]
        },
        {
          "output_type": "stream",
          "name": "stdout",
          "text": [
            "                   all         94        345      0.536       0.41      0.447      0.262\n"
          ]
        },
        {
          "output_type": "stream",
          "name": "stderr",
          "text": [
            "\n"
          ]
        },
        {
          "output_type": "stream",
          "name": "stdout",
          "text": [
            "\n",
            "      Epoch    GPU_mem   box_loss   cls_loss   dfl_loss  Instances       Size\n"
          ]
        },
        {
          "output_type": "stream",
          "name": "stderr",
          "text": [
            "     93/100      10.6G      1.389      1.811      1.895         16        640: 100%|██████████| 24/24 [00:19<00:00,  1.21it/s]\n",
            "                 Class     Images  Instances      Box(P          R      mAP50  mAP50-95): 100%|██████████| 3/3 [00:02<00:00,  1.12it/s]"
          ]
        },
        {
          "output_type": "stream",
          "name": "stdout",
          "text": [
            "                   all         94        345      0.458      0.439      0.434      0.269\n"
          ]
        },
        {
          "output_type": "stream",
          "name": "stderr",
          "text": [
            "\n"
          ]
        },
        {
          "output_type": "stream",
          "name": "stdout",
          "text": [
            "\n",
            "      Epoch    GPU_mem   box_loss   cls_loss   dfl_loss  Instances       Size\n"
          ]
        },
        {
          "output_type": "stream",
          "name": "stderr",
          "text": [
            "     94/100      10.3G      1.432      1.834      1.908         20        640: 100%|██████████| 24/24 [00:20<00:00,  1.19it/s]\n",
            "                 Class     Images  Instances      Box(P          R      mAP50  mAP50-95): 100%|██████████| 3/3 [00:02<00:00,  1.00it/s]"
          ]
        },
        {
          "output_type": "stream",
          "name": "stdout",
          "text": [
            "                   all         94        345      0.463      0.438      0.464      0.286\n"
          ]
        },
        {
          "output_type": "stream",
          "name": "stderr",
          "text": [
            "\n"
          ]
        },
        {
          "output_type": "stream",
          "name": "stdout",
          "text": [
            "\n",
            "      Epoch    GPU_mem   box_loss   cls_loss   dfl_loss  Instances       Size\n"
          ]
        },
        {
          "output_type": "stream",
          "name": "stderr",
          "text": [
            "     95/100      10.3G      1.424      1.811      1.885         16        640: 100%|██████████| 24/24 [00:20<00:00,  1.19it/s]\n",
            "                 Class     Images  Instances      Box(P          R      mAP50  mAP50-95): 100%|██████████| 3/3 [00:02<00:00,  1.37it/s]"
          ]
        },
        {
          "output_type": "stream",
          "name": "stdout",
          "text": [
            "                   all         94        345      0.485      0.452      0.459      0.285\n"
          ]
        },
        {
          "output_type": "stream",
          "name": "stderr",
          "text": [
            "\n"
          ]
        },
        {
          "output_type": "stream",
          "name": "stdout",
          "text": [
            "\n",
            "      Epoch    GPU_mem   box_loss   cls_loss   dfl_loss  Instances       Size\n"
          ]
        },
        {
          "output_type": "stream",
          "name": "stderr",
          "text": [
            "     96/100      10.3G      1.432      1.828      1.905         16        640: 100%|██████████| 24/24 [00:20<00:00,  1.16it/s]\n",
            "                 Class     Images  Instances      Box(P          R      mAP50  mAP50-95): 100%|██████████| 3/3 [00:02<00:00,  1.03it/s]"
          ]
        },
        {
          "output_type": "stream",
          "name": "stdout",
          "text": [
            "                   all         94        345       0.47      0.456      0.462      0.294\n"
          ]
        },
        {
          "output_type": "stream",
          "name": "stderr",
          "text": [
            "\n"
          ]
        },
        {
          "output_type": "stream",
          "name": "stdout",
          "text": [
            "\n",
            "      Epoch    GPU_mem   box_loss   cls_loss   dfl_loss  Instances       Size\n"
          ]
        },
        {
          "output_type": "stream",
          "name": "stderr",
          "text": [
            "     97/100      10.3G      1.411      1.824      1.903         18        640: 100%|██████████| 24/24 [00:19<00:00,  1.20it/s]\n",
            "                 Class     Images  Instances      Box(P          R      mAP50  mAP50-95): 100%|██████████| 3/3 [00:02<00:00,  1.40it/s]"
          ]
        },
        {
          "output_type": "stream",
          "name": "stdout",
          "text": [
            "                   all         94        345       0.45      0.477       0.47      0.295\n"
          ]
        },
        {
          "output_type": "stream",
          "name": "stderr",
          "text": [
            "\n"
          ]
        },
        {
          "output_type": "stream",
          "name": "stdout",
          "text": [
            "\n",
            "      Epoch    GPU_mem   box_loss   cls_loss   dfl_loss  Instances       Size\n"
          ]
        },
        {
          "output_type": "stream",
          "name": "stderr",
          "text": [
            "     98/100      10.3G      1.383      1.753      1.871         25        640: 100%|██████████| 24/24 [00:20<00:00,  1.18it/s]\n",
            "                 Class     Images  Instances      Box(P          R      mAP50  mAP50-95): 100%|██████████| 3/3 [00:02<00:00,  1.32it/s]"
          ]
        },
        {
          "output_type": "stream",
          "name": "stdout",
          "text": [
            "                   all         94        345      0.491      0.431      0.476      0.292\n"
          ]
        },
        {
          "output_type": "stream",
          "name": "stderr",
          "text": [
            "\n"
          ]
        },
        {
          "output_type": "stream",
          "name": "stdout",
          "text": [
            "\n",
            "      Epoch    GPU_mem   box_loss   cls_loss   dfl_loss  Instances       Size\n"
          ]
        },
        {
          "output_type": "stream",
          "name": "stderr",
          "text": [
            "     99/100      10.3G      1.406      1.768      1.873         14        640: 100%|██████████| 24/24 [00:20<00:00,  1.18it/s]\n",
            "                 Class     Images  Instances      Box(P          R      mAP50  mAP50-95): 100%|██████████| 3/3 [00:02<00:00,  1.37it/s]"
          ]
        },
        {
          "output_type": "stream",
          "name": "stdout",
          "text": [
            "                   all         94        345      0.543      0.431      0.471      0.293\n"
          ]
        },
        {
          "output_type": "stream",
          "name": "stderr",
          "text": [
            "\n"
          ]
        },
        {
          "output_type": "stream",
          "name": "stdout",
          "text": [
            "\n",
            "      Epoch    GPU_mem   box_loss   cls_loss   dfl_loss  Instances       Size\n"
          ]
        },
        {
          "output_type": "stream",
          "name": "stderr",
          "text": [
            "    100/100      10.3G      1.429      1.803      1.925         36        640: 100%|██████████| 24/24 [00:20<00:00,  1.20it/s]\n",
            "                 Class     Images  Instances      Box(P          R      mAP50  mAP50-95): 100%|██████████| 3/3 [00:02<00:00,  1.18it/s]"
          ]
        },
        {
          "output_type": "stream",
          "name": "stdout",
          "text": [
            "                   all         94        345      0.569      0.412      0.466      0.294\n"
          ]
        },
        {
          "output_type": "stream",
          "name": "stderr",
          "text": [
            "\n"
          ]
        },
        {
          "output_type": "stream",
          "name": "stdout",
          "text": [
            "\n",
            "100 epochs completed in 0.787 hours.\n",
            "Optimizer stripped from runs/detect/train2/weights/last.pt, 87.7MB\n",
            "Optimizer stripped from runs/detect/train2/weights/best.pt, 87.7MB\n",
            "\n",
            "Validating runs/detect/train2/weights/best.pt...\n",
            "Ultralytics YOLOv8.2.82 🚀 Python-3.10.12 torch-2.4.0+cu121 CUDA:0 (Tesla T4, 15102MiB)\n",
            "YOLOv8l summary (fused): 268 layers, 43,609,692 parameters, 0 gradients, 164.8 GFLOPs\n"
          ]
        },
        {
          "output_type": "stream",
          "name": "stderr",
          "text": [
            "                 Class     Images  Instances      Box(P          R      mAP50  mAP50-95): 100%|██████████| 3/3 [00:03<00:00,  1.09s/it]\n"
          ]
        },
        {
          "output_type": "stream",
          "name": "stdout",
          "text": [
            "                   all         94        345      0.449      0.474      0.471      0.296\n",
            "               makanan         47        124      0.416      0.573       0.53      0.332\n",
            "          piring_bekas         18        127      0.524      0.709      0.716      0.485\n",
            "                kertas         30         74      0.459      0.516      0.475       0.28\n",
            "                 bekas          9         20      0.399        0.1      0.162     0.0851\n",
            "Speed: 0.2ms preprocess, 17.0ms inference, 0.0ms loss, 3.0ms postprocess per image\n",
            "Results saved to \u001b[1mruns/detect/train2\u001b[0m\n"
          ]
        }
      ]
    },
    {
      "cell_type": "code",
      "source": [],
      "metadata": {
        "id": "cyGBynB_LnW8"
      },
      "execution_count": null,
      "outputs": []
    }
  ]
}